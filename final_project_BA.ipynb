{
  "nbformat": 4,
  "nbformat_minor": 0,
  "metadata": {
    "colab": {
      "name": "final-project-BA.ipynb",
      "provenance": [],
      "authorship_tag": "ABX9TyMvHA7/EwkNICPlYHywslgM",
      "include_colab_link": true
    },
    "kernelspec": {
      "name": "python3",
      "display_name": "Python 3"
    }
  },
  "cells": [
    {
      "cell_type": "markdown",
      "metadata": {
        "id": "view-in-github",
        "colab_type": "text"
      },
      "source": [
        "<a href=\"https://colab.research.google.com/github/vickidecastro/final-project-reproductive-health-MD/blob/main/final_project_BA.ipynb\" target=\"_parent\"><img src=\"https://colab.research.google.com/assets/colab-badge.svg\" alt=\"Open In Colab\"/></a>"
      ]
    },
    {
      "cell_type": "markdown",
      "metadata": {
        "id": "owsjuy1007Q1"
      },
      "source": [
        "# Final Project\n",
        "## Using data from Maryland Open Data Portal to examine teen birth rate, babies with low birth weight, and access to early prenatal care\n",
        "### Note: the data appeared to be inconsistent across races, to address this issue we only looked at the \"all races/aggregated\" data"
      ]
    },
    {
      "cell_type": "markdown",
      "metadata": {
        "id": "iHjxkeWdKHtR"
      },
      "source": [
        "## Metrics\n",
        "### - Early prenatal care: percentage of pregnant women who receive prenatal care beginning in the first trimester\n",
        "\n",
        "### - Teen birth rate: rate of births to teens ages 15-19 years (per 1,000 population).\n",
        "\n",
        "### - Babies with low birth weight: percentage of live births that are a low birth weight (2500 grams or less)"
      ]
    },
    {
      "cell_type": "markdown",
      "metadata": {
        "id": "6mZiMMaq5SFG"
      },
      "source": [
        "# Vicki"
      ]
    },
    {
      "cell_type": "code",
      "metadata": {
        "id": "zGffZsqH1B7m"
      },
      "source": [
        "# for data analysis\n",
        "import pandas as pd\n",
        "import numpy as np\n",
        "\n",
        "# for data visualization\n",
        "import plotly.express as px\n",
        "from plotly.subplots import make_subplots \n",
        "\n",
        "# for exporting files\n",
        "from google.colab import files\n"
      ],
      "execution_count": 134,
      "outputs": []
    },
    {
      "cell_type": "code",
      "metadata": {
        "id": "qt-fS9F25iOo"
      },
      "source": [
        "# import teen birth rate data\n",
        "df_teen=pd.read_csv(\"https://raw.githubusercontent.com/vickidecastro/final-project-reproductive-health-MD/main/SHIP_teen_birth_rate.csv\")\n",
        "# import low birth weight data \n",
        "df_baby=pd.read_csv(\"https://raw.githubusercontent.com/vickidecastro/final-project-reproductive-health-MD/main/SHIP_babies_with_low_birth_weight.csv\")\n",
        "# import early prenatal care data\n",
        "df_pren=pd.read_csv(\"https://raw.githubusercontent.com/vickidecastro/final-project-reproductive-health-MD/main/SHIP%20early%20prenatal%20care.csv\")"
      ],
      "execution_count": 135,
      "outputs": []
    },
    {
      "cell_type": "markdown",
      "metadata": {
        "id": "pdKaaWRx4BZ-"
      },
      "source": [
        "## Data Cleaning and Aggregation\n",
        "\n"
      ]
    },
    {
      "cell_type": "code",
      "metadata": {
        "colab": {
          "base_uri": "https://localhost:8080/",
          "height": 204
        },
        "id": "Gg3bFDoX6LOL",
        "outputId": "e4620d76-9bcb-43a9-aff2-e1515f0548ca"
      },
      "source": [
        "# preview teen BR data\n",
        "df_teen.head()"
      ],
      "execution_count": 136,
      "outputs": [
        {
          "output_type": "execute_result",
          "data": {
            "text/html": [
              "<div>\n",
              "<style scoped>\n",
              "    .dataframe tbody tr th:only-of-type {\n",
              "        vertical-align: middle;\n",
              "    }\n",
              "\n",
              "    .dataframe tbody tr th {\n",
              "        vertical-align: top;\n",
              "    }\n",
              "\n",
              "    .dataframe thead th {\n",
              "        text-align: right;\n",
              "    }\n",
              "</style>\n",
              "<table border=\"1\" class=\"dataframe\">\n",
              "  <thead>\n",
              "    <tr style=\"text-align: right;\">\n",
              "      <th></th>\n",
              "      <th>Jurisdiction</th>\n",
              "      <th>Value</th>\n",
              "      <th>Race/ ethnicity</th>\n",
              "      <th>Year</th>\n",
              "      <th>Measure</th>\n",
              "    </tr>\n",
              "  </thead>\n",
              "  <tbody>\n",
              "    <tr>\n",
              "      <th>0</th>\n",
              "      <td>State</td>\n",
              "      <td>14.2</td>\n",
              "      <td>All races/ ethnicities (aggregated)</td>\n",
              "      <td>2017</td>\n",
              "      <td>Teen birth rate</td>\n",
              "    </tr>\n",
              "    <tr>\n",
              "      <th>1</th>\n",
              "      <td>Allegany</td>\n",
              "      <td>23.5</td>\n",
              "      <td>All races/ ethnicities (aggregated)</td>\n",
              "      <td>2017</td>\n",
              "      <td>Teen birth rate</td>\n",
              "    </tr>\n",
              "    <tr>\n",
              "      <th>2</th>\n",
              "      <td>Anne Arundel</td>\n",
              "      <td>11.9</td>\n",
              "      <td>All races/ ethnicities (aggregated)</td>\n",
              "      <td>2017</td>\n",
              "      <td>Teen birth rate</td>\n",
              "    </tr>\n",
              "    <tr>\n",
              "      <th>3</th>\n",
              "      <td>Baltimore City</td>\n",
              "      <td>28.9</td>\n",
              "      <td>All races/ ethnicities (aggregated)</td>\n",
              "      <td>2017</td>\n",
              "      <td>Teen birth rate</td>\n",
              "    </tr>\n",
              "    <tr>\n",
              "      <th>4</th>\n",
              "      <td>Baltimore County</td>\n",
              "      <td>11.0</td>\n",
              "      <td>All races/ ethnicities (aggregated)</td>\n",
              "      <td>2017</td>\n",
              "      <td>Teen birth rate</td>\n",
              "    </tr>\n",
              "  </tbody>\n",
              "</table>\n",
              "</div>"
            ],
            "text/plain": [
              "       Jurisdiction  Value  ...  Year          Measure\n",
              "0             State   14.2  ...  2017  Teen birth rate\n",
              "1          Allegany   23.5  ...  2017  Teen birth rate\n",
              "2      Anne Arundel   11.9  ...  2017  Teen birth rate\n",
              "3    Baltimore City   28.9  ...  2017  Teen birth rate\n",
              "4  Baltimore County   11.0  ...  2017  Teen birth rate\n",
              "\n",
              "[5 rows x 5 columns]"
            ]
          },
          "metadata": {
            "tags": []
          },
          "execution_count": 136
        }
      ]
    },
    {
      "cell_type": "code",
      "metadata": {
        "colab": {
          "base_uri": "https://localhost:8080/",
          "height": 204
        },
        "id": "09gI4jC-61kc",
        "outputId": "01250d6a-7842-4daf-b614-0a72de73482d"
      },
      "source": [
        "# preview babies with low birth weight data\n",
        "df_baby.head()"
      ],
      "execution_count": 137,
      "outputs": [
        {
          "output_type": "execute_result",
          "data": {
            "text/html": [
              "<div>\n",
              "<style scoped>\n",
              "    .dataframe tbody tr th:only-of-type {\n",
              "        vertical-align: middle;\n",
              "    }\n",
              "\n",
              "    .dataframe tbody tr th {\n",
              "        vertical-align: top;\n",
              "    }\n",
              "\n",
              "    .dataframe thead th {\n",
              "        text-align: right;\n",
              "    }\n",
              "</style>\n",
              "<table border=\"1\" class=\"dataframe\">\n",
              "  <thead>\n",
              "    <tr style=\"text-align: right;\">\n",
              "      <th></th>\n",
              "      <th>Jurisdiction</th>\n",
              "      <th>Value</th>\n",
              "      <th>Race/ ethnicity</th>\n",
              "      <th>Year</th>\n",
              "      <th>Measure</th>\n",
              "    </tr>\n",
              "  </thead>\n",
              "  <tbody>\n",
              "    <tr>\n",
              "      <th>0</th>\n",
              "      <td>State</td>\n",
              "      <td>8.9</td>\n",
              "      <td>All races/ ethnicities (aggregated)</td>\n",
              "      <td>2017</td>\n",
              "      <td>Babies with low birth weight</td>\n",
              "    </tr>\n",
              "    <tr>\n",
              "      <th>1</th>\n",
              "      <td>Allegany</td>\n",
              "      <td>6.6</td>\n",
              "      <td>All races/ ethnicities (aggregated)</td>\n",
              "      <td>2017</td>\n",
              "      <td>Babies with low birth weight</td>\n",
              "    </tr>\n",
              "    <tr>\n",
              "      <th>2</th>\n",
              "      <td>Anne Arundel</td>\n",
              "      <td>7.8</td>\n",
              "      <td>All races/ ethnicities (aggregated)</td>\n",
              "      <td>2017</td>\n",
              "      <td>Babies with low birth weight</td>\n",
              "    </tr>\n",
              "    <tr>\n",
              "      <th>3</th>\n",
              "      <td>Baltimore City</td>\n",
              "      <td>12.4</td>\n",
              "      <td>All races/ ethnicities (aggregated)</td>\n",
              "      <td>2017</td>\n",
              "      <td>Babies with low birth weight</td>\n",
              "    </tr>\n",
              "    <tr>\n",
              "      <th>4</th>\n",
              "      <td>Baltimore County</td>\n",
              "      <td>9.5</td>\n",
              "      <td>All races/ ethnicities (aggregated)</td>\n",
              "      <td>2017</td>\n",
              "      <td>Babies with low birth weight</td>\n",
              "    </tr>\n",
              "  </tbody>\n",
              "</table>\n",
              "</div>"
            ],
            "text/plain": [
              "       Jurisdiction  Value  ...  Year                       Measure\n",
              "0             State    8.9  ...  2017  Babies with low birth weight\n",
              "1          Allegany    6.6  ...  2017  Babies with low birth weight\n",
              "2      Anne Arundel    7.8  ...  2017  Babies with low birth weight\n",
              "3    Baltimore City   12.4  ...  2017  Babies with low birth weight\n",
              "4  Baltimore County    9.5  ...  2017  Babies with low birth weight\n",
              "\n",
              "[5 rows x 5 columns]"
            ]
          },
          "metadata": {
            "tags": []
          },
          "execution_count": 137
        }
      ]
    },
    {
      "cell_type": "code",
      "metadata": {
        "colab": {
          "base_uri": "https://localhost:8080/",
          "height": 204
        },
        "id": "cESQHFCF9pYP",
        "outputId": "5e79eb23-8289-4c30-e27f-a1d7b3bf0cde"
      },
      "source": [
        "# preview prenatal care data\n",
        "df_pren.head()"
      ],
      "execution_count": 138,
      "outputs": [
        {
          "output_type": "execute_result",
          "data": {
            "text/html": [
              "<div>\n",
              "<style scoped>\n",
              "    .dataframe tbody tr th:only-of-type {\n",
              "        vertical-align: middle;\n",
              "    }\n",
              "\n",
              "    .dataframe tbody tr th {\n",
              "        vertical-align: top;\n",
              "    }\n",
              "\n",
              "    .dataframe thead th {\n",
              "        text-align: right;\n",
              "    }\n",
              "</style>\n",
              "<table border=\"1\" class=\"dataframe\">\n",
              "  <thead>\n",
              "    <tr style=\"text-align: right;\">\n",
              "      <th></th>\n",
              "      <th>Jurisdiction</th>\n",
              "      <th>Value</th>\n",
              "      <th>Race/ ethnicity</th>\n",
              "      <th>Year</th>\n",
              "      <th>Measure</th>\n",
              "    </tr>\n",
              "  </thead>\n",
              "  <tbody>\n",
              "    <tr>\n",
              "      <th>0</th>\n",
              "      <td>State</td>\n",
              "      <td>69.6</td>\n",
              "      <td>All races/ ethnicities (aggregated)</td>\n",
              "      <td>2017</td>\n",
              "      <td>Early prenatal care</td>\n",
              "    </tr>\n",
              "    <tr>\n",
              "      <th>1</th>\n",
              "      <td>Allegany</td>\n",
              "      <td>78.1</td>\n",
              "      <td>All races/ ethnicities (aggregated)</td>\n",
              "      <td>2017</td>\n",
              "      <td>Early prenatal care</td>\n",
              "    </tr>\n",
              "    <tr>\n",
              "      <th>2</th>\n",
              "      <td>Anne Arundel</td>\n",
              "      <td>71.0</td>\n",
              "      <td>All races/ ethnicities (aggregated)</td>\n",
              "      <td>2017</td>\n",
              "      <td>Early prenatal care</td>\n",
              "    </tr>\n",
              "    <tr>\n",
              "      <th>3</th>\n",
              "      <td>Baltimore City</td>\n",
              "      <td>67.1</td>\n",
              "      <td>All races/ ethnicities (aggregated)</td>\n",
              "      <td>2017</td>\n",
              "      <td>Early prenatal care</td>\n",
              "    </tr>\n",
              "    <tr>\n",
              "      <th>4</th>\n",
              "      <td>Baltimore County</td>\n",
              "      <td>69.0</td>\n",
              "      <td>All races/ ethnicities (aggregated)</td>\n",
              "      <td>2017</td>\n",
              "      <td>Early prenatal care</td>\n",
              "    </tr>\n",
              "  </tbody>\n",
              "</table>\n",
              "</div>"
            ],
            "text/plain": [
              "       Jurisdiction  Value  ...  Year              Measure\n",
              "0             State   69.6  ...  2017  Early prenatal care\n",
              "1          Allegany   78.1  ...  2017  Early prenatal care\n",
              "2      Anne Arundel   71.0  ...  2017  Early prenatal care\n",
              "3    Baltimore City   67.1  ...  2017  Early prenatal care\n",
              "4  Baltimore County   69.0  ...  2017  Early prenatal care\n",
              "\n",
              "[5 rows x 5 columns]"
            ]
          },
          "metadata": {
            "tags": []
          },
          "execution_count": 138
        }
      ]
    },
    {
      "cell_type": "code",
      "metadata": {
        "id": "cYDrSQqF9vhW"
      },
      "source": [
        "# renaming column values for df_teen\n",
        "df_teen.rename(columns={\"Value\": \"teen_birth_rate\"})\n",
        "df_teen=df_teen.rename(columns={\"Value\": \"teen_birth_rate\"})"
      ],
      "execution_count": 139,
      "outputs": []
    },
    {
      "cell_type": "code",
      "metadata": {
        "id": "bfkVWAWMLdou"
      },
      "source": [
        "# renaming column values for df_baby\n",
        "df_baby.rename(columns={\"Value\": \"babies_low_birth_weight\"})\n",
        "df_baby=df_baby.rename(columns={\"Value\": \"babies_low_birth_weight\"})\n"
      ],
      "execution_count": 140,
      "outputs": []
    },
    {
      "cell_type": "code",
      "metadata": {
        "id": "PQ6q3rtELkbF"
      },
      "source": [
        "# renaming column values for df_ifd\n",
        "df_pren.rename(columns={\"Value\": \"early_prenatal_care\"})\n",
        "df_pren=df_pren.rename(columns={\"Value\": \"early_prenatal_care\"})"
      ],
      "execution_count": 141,
      "outputs": []
    },
    {
      "cell_type": "code",
      "metadata": {
        "colab": {
          "base_uri": "https://localhost:8080/",
          "height": 204
        },
        "id": "PYglllT414a4",
        "outputId": "1745b68d-aa95-403a-9243-47ba3f596279"
      },
      "source": [
        "# preview data\n",
        "df_teen.head()"
      ],
      "execution_count": 142,
      "outputs": [
        {
          "output_type": "execute_result",
          "data": {
            "text/html": [
              "<div>\n",
              "<style scoped>\n",
              "    .dataframe tbody tr th:only-of-type {\n",
              "        vertical-align: middle;\n",
              "    }\n",
              "\n",
              "    .dataframe tbody tr th {\n",
              "        vertical-align: top;\n",
              "    }\n",
              "\n",
              "    .dataframe thead th {\n",
              "        text-align: right;\n",
              "    }\n",
              "</style>\n",
              "<table border=\"1\" class=\"dataframe\">\n",
              "  <thead>\n",
              "    <tr style=\"text-align: right;\">\n",
              "      <th></th>\n",
              "      <th>Jurisdiction</th>\n",
              "      <th>teen_birth_rate</th>\n",
              "      <th>Race/ ethnicity</th>\n",
              "      <th>Year</th>\n",
              "      <th>Measure</th>\n",
              "    </tr>\n",
              "  </thead>\n",
              "  <tbody>\n",
              "    <tr>\n",
              "      <th>0</th>\n",
              "      <td>State</td>\n",
              "      <td>14.2</td>\n",
              "      <td>All races/ ethnicities (aggregated)</td>\n",
              "      <td>2017</td>\n",
              "      <td>Teen birth rate</td>\n",
              "    </tr>\n",
              "    <tr>\n",
              "      <th>1</th>\n",
              "      <td>Allegany</td>\n",
              "      <td>23.5</td>\n",
              "      <td>All races/ ethnicities (aggregated)</td>\n",
              "      <td>2017</td>\n",
              "      <td>Teen birth rate</td>\n",
              "    </tr>\n",
              "    <tr>\n",
              "      <th>2</th>\n",
              "      <td>Anne Arundel</td>\n",
              "      <td>11.9</td>\n",
              "      <td>All races/ ethnicities (aggregated)</td>\n",
              "      <td>2017</td>\n",
              "      <td>Teen birth rate</td>\n",
              "    </tr>\n",
              "    <tr>\n",
              "      <th>3</th>\n",
              "      <td>Baltimore City</td>\n",
              "      <td>28.9</td>\n",
              "      <td>All races/ ethnicities (aggregated)</td>\n",
              "      <td>2017</td>\n",
              "      <td>Teen birth rate</td>\n",
              "    </tr>\n",
              "    <tr>\n",
              "      <th>4</th>\n",
              "      <td>Baltimore County</td>\n",
              "      <td>11.0</td>\n",
              "      <td>All races/ ethnicities (aggregated)</td>\n",
              "      <td>2017</td>\n",
              "      <td>Teen birth rate</td>\n",
              "    </tr>\n",
              "  </tbody>\n",
              "</table>\n",
              "</div>"
            ],
            "text/plain": [
              "       Jurisdiction  teen_birth_rate  ...  Year          Measure\n",
              "0             State             14.2  ...  2017  Teen birth rate\n",
              "1          Allegany             23.5  ...  2017  Teen birth rate\n",
              "2      Anne Arundel             11.9  ...  2017  Teen birth rate\n",
              "3    Baltimore City             28.9  ...  2017  Teen birth rate\n",
              "4  Baltimore County             11.0  ...  2017  Teen birth rate\n",
              "\n",
              "[5 rows x 5 columns]"
            ]
          },
          "metadata": {
            "tags": []
          },
          "execution_count": 142
        }
      ]
    },
    {
      "cell_type": "code",
      "metadata": {
        "colab": {
          "base_uri": "https://localhost:8080/",
          "height": 204
        },
        "id": "bQSqLwT-19kZ",
        "outputId": "6c115b8c-a8ce-43e9-9316-6753c3da3461"
      },
      "source": [
        "# preview data\n",
        "df_pren.head()"
      ],
      "execution_count": 143,
      "outputs": [
        {
          "output_type": "execute_result",
          "data": {
            "text/html": [
              "<div>\n",
              "<style scoped>\n",
              "    .dataframe tbody tr th:only-of-type {\n",
              "        vertical-align: middle;\n",
              "    }\n",
              "\n",
              "    .dataframe tbody tr th {\n",
              "        vertical-align: top;\n",
              "    }\n",
              "\n",
              "    .dataframe thead th {\n",
              "        text-align: right;\n",
              "    }\n",
              "</style>\n",
              "<table border=\"1\" class=\"dataframe\">\n",
              "  <thead>\n",
              "    <tr style=\"text-align: right;\">\n",
              "      <th></th>\n",
              "      <th>Jurisdiction</th>\n",
              "      <th>early_prenatal_care</th>\n",
              "      <th>Race/ ethnicity</th>\n",
              "      <th>Year</th>\n",
              "      <th>Measure</th>\n",
              "    </tr>\n",
              "  </thead>\n",
              "  <tbody>\n",
              "    <tr>\n",
              "      <th>0</th>\n",
              "      <td>State</td>\n",
              "      <td>69.6</td>\n",
              "      <td>All races/ ethnicities (aggregated)</td>\n",
              "      <td>2017</td>\n",
              "      <td>Early prenatal care</td>\n",
              "    </tr>\n",
              "    <tr>\n",
              "      <th>1</th>\n",
              "      <td>Allegany</td>\n",
              "      <td>78.1</td>\n",
              "      <td>All races/ ethnicities (aggregated)</td>\n",
              "      <td>2017</td>\n",
              "      <td>Early prenatal care</td>\n",
              "    </tr>\n",
              "    <tr>\n",
              "      <th>2</th>\n",
              "      <td>Anne Arundel</td>\n",
              "      <td>71.0</td>\n",
              "      <td>All races/ ethnicities (aggregated)</td>\n",
              "      <td>2017</td>\n",
              "      <td>Early prenatal care</td>\n",
              "    </tr>\n",
              "    <tr>\n",
              "      <th>3</th>\n",
              "      <td>Baltimore City</td>\n",
              "      <td>67.1</td>\n",
              "      <td>All races/ ethnicities (aggregated)</td>\n",
              "      <td>2017</td>\n",
              "      <td>Early prenatal care</td>\n",
              "    </tr>\n",
              "    <tr>\n",
              "      <th>4</th>\n",
              "      <td>Baltimore County</td>\n",
              "      <td>69.0</td>\n",
              "      <td>All races/ ethnicities (aggregated)</td>\n",
              "      <td>2017</td>\n",
              "      <td>Early prenatal care</td>\n",
              "    </tr>\n",
              "  </tbody>\n",
              "</table>\n",
              "</div>"
            ],
            "text/plain": [
              "       Jurisdiction  early_prenatal_care  ...  Year              Measure\n",
              "0             State                 69.6  ...  2017  Early prenatal care\n",
              "1          Allegany                 78.1  ...  2017  Early prenatal care\n",
              "2      Anne Arundel                 71.0  ...  2017  Early prenatal care\n",
              "3    Baltimore City                 67.1  ...  2017  Early prenatal care\n",
              "4  Baltimore County                 69.0  ...  2017  Early prenatal care\n",
              "\n",
              "[5 rows x 5 columns]"
            ]
          },
          "metadata": {
            "tags": []
          },
          "execution_count": 143
        }
      ]
    },
    {
      "cell_type": "code",
      "metadata": {
        "colab": {
          "base_uri": "https://localhost:8080/",
          "height": 204
        },
        "id": "tj9eXHfVuj_M",
        "outputId": "c8f1b67f-c401-4bf2-ee7a-17514283faf2"
      },
      "source": [
        "# preview data \n",
        "df_baby.head()"
      ],
      "execution_count": 144,
      "outputs": [
        {
          "output_type": "execute_result",
          "data": {
            "text/html": [
              "<div>\n",
              "<style scoped>\n",
              "    .dataframe tbody tr th:only-of-type {\n",
              "        vertical-align: middle;\n",
              "    }\n",
              "\n",
              "    .dataframe tbody tr th {\n",
              "        vertical-align: top;\n",
              "    }\n",
              "\n",
              "    .dataframe thead th {\n",
              "        text-align: right;\n",
              "    }\n",
              "</style>\n",
              "<table border=\"1\" class=\"dataframe\">\n",
              "  <thead>\n",
              "    <tr style=\"text-align: right;\">\n",
              "      <th></th>\n",
              "      <th>Jurisdiction</th>\n",
              "      <th>babies_low_birth_weight</th>\n",
              "      <th>Race/ ethnicity</th>\n",
              "      <th>Year</th>\n",
              "      <th>Measure</th>\n",
              "    </tr>\n",
              "  </thead>\n",
              "  <tbody>\n",
              "    <tr>\n",
              "      <th>0</th>\n",
              "      <td>State</td>\n",
              "      <td>8.9</td>\n",
              "      <td>All races/ ethnicities (aggregated)</td>\n",
              "      <td>2017</td>\n",
              "      <td>Babies with low birth weight</td>\n",
              "    </tr>\n",
              "    <tr>\n",
              "      <th>1</th>\n",
              "      <td>Allegany</td>\n",
              "      <td>6.6</td>\n",
              "      <td>All races/ ethnicities (aggregated)</td>\n",
              "      <td>2017</td>\n",
              "      <td>Babies with low birth weight</td>\n",
              "    </tr>\n",
              "    <tr>\n",
              "      <th>2</th>\n",
              "      <td>Anne Arundel</td>\n",
              "      <td>7.8</td>\n",
              "      <td>All races/ ethnicities (aggregated)</td>\n",
              "      <td>2017</td>\n",
              "      <td>Babies with low birth weight</td>\n",
              "    </tr>\n",
              "    <tr>\n",
              "      <th>3</th>\n",
              "      <td>Baltimore City</td>\n",
              "      <td>12.4</td>\n",
              "      <td>All races/ ethnicities (aggregated)</td>\n",
              "      <td>2017</td>\n",
              "      <td>Babies with low birth weight</td>\n",
              "    </tr>\n",
              "    <tr>\n",
              "      <th>4</th>\n",
              "      <td>Baltimore County</td>\n",
              "      <td>9.5</td>\n",
              "      <td>All races/ ethnicities (aggregated)</td>\n",
              "      <td>2017</td>\n",
              "      <td>Babies with low birth weight</td>\n",
              "    </tr>\n",
              "  </tbody>\n",
              "</table>\n",
              "</div>"
            ],
            "text/plain": [
              "       Jurisdiction  ...                       Measure\n",
              "0             State  ...  Babies with low birth weight\n",
              "1          Allegany  ...  Babies with low birth weight\n",
              "2      Anne Arundel  ...  Babies with low birth weight\n",
              "3    Baltimore City  ...  Babies with low birth weight\n",
              "4  Baltimore County  ...  Babies with low birth weight\n",
              "\n",
              "[5 rows x 5 columns]"
            ]
          },
          "metadata": {
            "tags": []
          },
          "execution_count": 144
        }
      ]
    },
    {
      "cell_type": "code",
      "metadata": {
        "colab": {
          "base_uri": "https://localhost:8080/"
        },
        "id": "5wG5wtEuL1xt",
        "outputId": "18ac41ac-15d2-4460-a94e-1fa730e908f9"
      },
      "source": [
        "len(df_baby.index)"
      ],
      "execution_count": 145,
      "outputs": [
        {
          "output_type": "execute_result",
          "data": {
            "text/plain": [
              "200"
            ]
          },
          "metadata": {
            "tags": []
          },
          "execution_count": 145
        }
      ]
    },
    {
      "cell_type": "code",
      "metadata": {
        "colab": {
          "base_uri": "https://localhost:8080/"
        },
        "id": "xjHd04mML5KQ",
        "outputId": "d58da244-5207-4fc9-8a19-9b707b9a912b"
      },
      "source": [
        "len(df_teen.index)"
      ],
      "execution_count": 146,
      "outputs": [
        {
          "output_type": "execute_result",
          "data": {
            "text/plain": [
              "200"
            ]
          },
          "metadata": {
            "tags": []
          },
          "execution_count": 146
        }
      ]
    },
    {
      "cell_type": "code",
      "metadata": {
        "colab": {
          "base_uri": "https://localhost:8080/"
        },
        "id": "7lGtNmyLM6Kc",
        "outputId": "f9bb181e-e2e1-4aa0-e451-a7760b26c668"
      },
      "source": [
        "len(df_pren.index)"
      ],
      "execution_count": 147,
      "outputs": [
        {
          "output_type": "execute_result",
          "data": {
            "text/plain": [
              "200"
            ]
          },
          "metadata": {
            "tags": []
          },
          "execution_count": 147
        }
      ]
    },
    {
      "cell_type": "code",
      "metadata": {
        "id": "jZhj_LQzM_Cw"
      },
      "source": [
        "# to merge early prenatal care and teen birth rate data sets\n",
        "df_pren_teen=pd.merge(df_teen, df_pren, on=['Jurisdiction','Year', \"Race/ ethnicity\"], how=\"left\")"
      ],
      "execution_count": 148,
      "outputs": []
    },
    {
      "cell_type": "code",
      "metadata": {
        "id": "XEQO6nQC9oL-"
      },
      "source": [
        "# to drop redundant columns\n",
        "df_2=df_pren_teen.drop(columns=[\"Measure_x\", \"Measure_y\"])"
      ],
      "execution_count": 149,
      "outputs": []
    },
    {
      "cell_type": "code",
      "metadata": {
        "colab": {
          "base_uri": "https://localhost:8080/",
          "height": 204
        },
        "id": "ln2e7QT-_8Tw",
        "outputId": "7999d7a1-46d3-40ba-a032-a008d33204fd"
      },
      "source": [
        "df_2.head()"
      ],
      "execution_count": 150,
      "outputs": [
        {
          "output_type": "execute_result",
          "data": {
            "text/html": [
              "<div>\n",
              "<style scoped>\n",
              "    .dataframe tbody tr th:only-of-type {\n",
              "        vertical-align: middle;\n",
              "    }\n",
              "\n",
              "    .dataframe tbody tr th {\n",
              "        vertical-align: top;\n",
              "    }\n",
              "\n",
              "    .dataframe thead th {\n",
              "        text-align: right;\n",
              "    }\n",
              "</style>\n",
              "<table border=\"1\" class=\"dataframe\">\n",
              "  <thead>\n",
              "    <tr style=\"text-align: right;\">\n",
              "      <th></th>\n",
              "      <th>Jurisdiction</th>\n",
              "      <th>teen_birth_rate</th>\n",
              "      <th>Race/ ethnicity</th>\n",
              "      <th>Year</th>\n",
              "      <th>early_prenatal_care</th>\n",
              "    </tr>\n",
              "  </thead>\n",
              "  <tbody>\n",
              "    <tr>\n",
              "      <th>0</th>\n",
              "      <td>State</td>\n",
              "      <td>14.2</td>\n",
              "      <td>All races/ ethnicities (aggregated)</td>\n",
              "      <td>2017</td>\n",
              "      <td>69.6</td>\n",
              "    </tr>\n",
              "    <tr>\n",
              "      <th>1</th>\n",
              "      <td>Allegany</td>\n",
              "      <td>23.5</td>\n",
              "      <td>All races/ ethnicities (aggregated)</td>\n",
              "      <td>2017</td>\n",
              "      <td>78.1</td>\n",
              "    </tr>\n",
              "    <tr>\n",
              "      <th>2</th>\n",
              "      <td>Anne Arundel</td>\n",
              "      <td>11.9</td>\n",
              "      <td>All races/ ethnicities (aggregated)</td>\n",
              "      <td>2017</td>\n",
              "      <td>71.0</td>\n",
              "    </tr>\n",
              "    <tr>\n",
              "      <th>3</th>\n",
              "      <td>Baltimore City</td>\n",
              "      <td>28.9</td>\n",
              "      <td>All races/ ethnicities (aggregated)</td>\n",
              "      <td>2017</td>\n",
              "      <td>67.1</td>\n",
              "    </tr>\n",
              "    <tr>\n",
              "      <th>4</th>\n",
              "      <td>Baltimore County</td>\n",
              "      <td>11.0</td>\n",
              "      <td>All races/ ethnicities (aggregated)</td>\n",
              "      <td>2017</td>\n",
              "      <td>69.0</td>\n",
              "    </tr>\n",
              "  </tbody>\n",
              "</table>\n",
              "</div>"
            ],
            "text/plain": [
              "       Jurisdiction  teen_birth_rate  ...  Year  early_prenatal_care\n",
              "0             State             14.2  ...  2017                 69.6\n",
              "1          Allegany             23.5  ...  2017                 78.1\n",
              "2      Anne Arundel             11.9  ...  2017                 71.0\n",
              "3    Baltimore City             28.9  ...  2017                 67.1\n",
              "4  Baltimore County             11.0  ...  2017                 69.0\n",
              "\n",
              "[5 rows x 5 columns]"
            ]
          },
          "metadata": {
            "tags": []
          },
          "execution_count": 150
        }
      ]
    },
    {
      "cell_type": "code",
      "metadata": {
        "colab": {
          "base_uri": "https://localhost:8080/",
          "height": 204
        },
        "id": "F_9jYXm9O8Mg",
        "outputId": "9fc64bdf-2e53-468a-fd4e-6d5b269b010f"
      },
      "source": [
        "df_2.head()"
      ],
      "execution_count": 151,
      "outputs": [
        {
          "output_type": "execute_result",
          "data": {
            "text/html": [
              "<div>\n",
              "<style scoped>\n",
              "    .dataframe tbody tr th:only-of-type {\n",
              "        vertical-align: middle;\n",
              "    }\n",
              "\n",
              "    .dataframe tbody tr th {\n",
              "        vertical-align: top;\n",
              "    }\n",
              "\n",
              "    .dataframe thead th {\n",
              "        text-align: right;\n",
              "    }\n",
              "</style>\n",
              "<table border=\"1\" class=\"dataframe\">\n",
              "  <thead>\n",
              "    <tr style=\"text-align: right;\">\n",
              "      <th></th>\n",
              "      <th>Jurisdiction</th>\n",
              "      <th>teen_birth_rate</th>\n",
              "      <th>Race/ ethnicity</th>\n",
              "      <th>Year</th>\n",
              "      <th>early_prenatal_care</th>\n",
              "    </tr>\n",
              "  </thead>\n",
              "  <tbody>\n",
              "    <tr>\n",
              "      <th>0</th>\n",
              "      <td>State</td>\n",
              "      <td>14.2</td>\n",
              "      <td>All races/ ethnicities (aggregated)</td>\n",
              "      <td>2017</td>\n",
              "      <td>69.6</td>\n",
              "    </tr>\n",
              "    <tr>\n",
              "      <th>1</th>\n",
              "      <td>Allegany</td>\n",
              "      <td>23.5</td>\n",
              "      <td>All races/ ethnicities (aggregated)</td>\n",
              "      <td>2017</td>\n",
              "      <td>78.1</td>\n",
              "    </tr>\n",
              "    <tr>\n",
              "      <th>2</th>\n",
              "      <td>Anne Arundel</td>\n",
              "      <td>11.9</td>\n",
              "      <td>All races/ ethnicities (aggregated)</td>\n",
              "      <td>2017</td>\n",
              "      <td>71.0</td>\n",
              "    </tr>\n",
              "    <tr>\n",
              "      <th>3</th>\n",
              "      <td>Baltimore City</td>\n",
              "      <td>28.9</td>\n",
              "      <td>All races/ ethnicities (aggregated)</td>\n",
              "      <td>2017</td>\n",
              "      <td>67.1</td>\n",
              "    </tr>\n",
              "    <tr>\n",
              "      <th>4</th>\n",
              "      <td>Baltimore County</td>\n",
              "      <td>11.0</td>\n",
              "      <td>All races/ ethnicities (aggregated)</td>\n",
              "      <td>2017</td>\n",
              "      <td>69.0</td>\n",
              "    </tr>\n",
              "  </tbody>\n",
              "</table>\n",
              "</div>"
            ],
            "text/plain": [
              "       Jurisdiction  teen_birth_rate  ...  Year  early_prenatal_care\n",
              "0             State             14.2  ...  2017                 69.6\n",
              "1          Allegany             23.5  ...  2017                 78.1\n",
              "2      Anne Arundel             11.9  ...  2017                 71.0\n",
              "3    Baltimore City             28.9  ...  2017                 67.1\n",
              "4  Baltimore County             11.0  ...  2017                 69.0\n",
              "\n",
              "[5 rows x 5 columns]"
            ]
          },
          "metadata": {
            "tags": []
          },
          "execution_count": 151
        }
      ]
    },
    {
      "cell_type": "code",
      "metadata": {
        "colab": {
          "base_uri": "https://localhost:8080/"
        },
        "id": "UP7oB1iPV7Ki",
        "outputId": "73c77c4d-6e7a-4d46-8e58-fb3530f7ca2d"
      },
      "source": [
        "df_2.info()"
      ],
      "execution_count": 152,
      "outputs": [
        {
          "output_type": "stream",
          "text": [
            "<class 'pandas.core.frame.DataFrame'>\n",
            "Int64Index: 200 entries, 0 to 199\n",
            "Data columns (total 5 columns):\n",
            " #   Column               Non-Null Count  Dtype  \n",
            "---  ------               --------------  -----  \n",
            " 0   Jurisdiction         200 non-null    object \n",
            " 1   teen_birth_rate      200 non-null    float64\n",
            " 2   Race/ ethnicity      200 non-null    object \n",
            " 3   Year                 200 non-null    int64  \n",
            " 4   early_prenatal_care  200 non-null    float64\n",
            "dtypes: float64(2), int64(1), object(2)\n",
            "memory usage: 9.4+ KB\n"
          ],
          "name": "stdout"
        }
      ]
    },
    {
      "cell_type": "code",
      "metadata": {
        "colab": {
          "base_uri": "https://localhost:8080/"
        },
        "id": "8iIRIFu9PTvP",
        "outputId": "0a2d37a3-96c8-46f8-9c02-490f4cd718d4"
      },
      "source": [
        "df_baby.info()"
      ],
      "execution_count": 153,
      "outputs": [
        {
          "output_type": "stream",
          "text": [
            "<class 'pandas.core.frame.DataFrame'>\n",
            "RangeIndex: 200 entries, 0 to 199\n",
            "Data columns (total 5 columns):\n",
            " #   Column                   Non-Null Count  Dtype  \n",
            "---  ------                   --------------  -----  \n",
            " 0   Jurisdiction             200 non-null    object \n",
            " 1   babies_low_birth_weight  200 non-null    float64\n",
            " 2   Race/ ethnicity          200 non-null    object \n",
            " 3   Year                     200 non-null    int64  \n",
            " 4   Measure                  200 non-null    object \n",
            "dtypes: float64(1), int64(1), object(3)\n",
            "memory usage: 7.9+ KB\n"
          ],
          "name": "stdout"
        }
      ]
    },
    {
      "cell_type": "code",
      "metadata": {
        "id": "Po-9FusJPWle"
      },
      "source": [
        "# to make \"Year\" the same data type in both data sets\n",
        "df_2[\"Year\"]=df_2[\"Year\"].astype(object)"
      ],
      "execution_count": 154,
      "outputs": []
    },
    {
      "cell_type": "code",
      "metadata": {
        "colab": {
          "base_uri": "https://localhost:8080/"
        },
        "id": "rMfe_cxaPszJ",
        "outputId": "8458079b-815b-46fd-aa09-28cd5f6c0740"
      },
      "source": [
        "df_2.info()"
      ],
      "execution_count": 155,
      "outputs": [
        {
          "output_type": "stream",
          "text": [
            "<class 'pandas.core.frame.DataFrame'>\n",
            "Int64Index: 200 entries, 0 to 199\n",
            "Data columns (total 5 columns):\n",
            " #   Column               Non-Null Count  Dtype  \n",
            "---  ------               --------------  -----  \n",
            " 0   Jurisdiction         200 non-null    object \n",
            " 1   teen_birth_rate      200 non-null    float64\n",
            " 2   Race/ ethnicity      200 non-null    object \n",
            " 3   Year                 200 non-null    object \n",
            " 4   early_prenatal_care  200 non-null    float64\n",
            "dtypes: float64(2), object(3)\n",
            "memory usage: 9.4+ KB\n"
          ],
          "name": "stdout"
        }
      ]
    },
    {
      "cell_type": "code",
      "metadata": {
        "id": "9gy7Oq7JP8L6"
      },
      "source": [
        "# using concat to merge life_exp dataset with teen/inf dataset\n",
        "df_all=pd.concat([df_2, df_baby], axis=1)"
      ],
      "execution_count": 156,
      "outputs": []
    },
    {
      "cell_type": "code",
      "metadata": {
        "colab": {
          "base_uri": "https://localhost:8080/",
          "height": 476
        },
        "id": "KnTsIJY2Qh0u",
        "outputId": "e63e3bed-064f-45c4-adeb-9554ca3ea71f"
      },
      "source": [
        "df_all.head()"
      ],
      "execution_count": 157,
      "outputs": [
        {
          "output_type": "execute_result",
          "data": {
            "text/html": [
              "<div>\n",
              "<style scoped>\n",
              "    .dataframe tbody tr th:only-of-type {\n",
              "        vertical-align: middle;\n",
              "    }\n",
              "\n",
              "    .dataframe tbody tr th {\n",
              "        vertical-align: top;\n",
              "    }\n",
              "\n",
              "    .dataframe thead th {\n",
              "        text-align: right;\n",
              "    }\n",
              "</style>\n",
              "<table border=\"1\" class=\"dataframe\">\n",
              "  <thead>\n",
              "    <tr style=\"text-align: right;\">\n",
              "      <th></th>\n",
              "      <th>Jurisdiction</th>\n",
              "      <th>teen_birth_rate</th>\n",
              "      <th>Race/ ethnicity</th>\n",
              "      <th>Year</th>\n",
              "      <th>early_prenatal_care</th>\n",
              "      <th>Jurisdiction</th>\n",
              "      <th>babies_low_birth_weight</th>\n",
              "      <th>Race/ ethnicity</th>\n",
              "      <th>Year</th>\n",
              "      <th>Measure</th>\n",
              "    </tr>\n",
              "  </thead>\n",
              "  <tbody>\n",
              "    <tr>\n",
              "      <th>0</th>\n",
              "      <td>State</td>\n",
              "      <td>14.2</td>\n",
              "      <td>All races/ ethnicities (aggregated)</td>\n",
              "      <td>2017</td>\n",
              "      <td>69.6</td>\n",
              "      <td>State</td>\n",
              "      <td>8.9</td>\n",
              "      <td>All races/ ethnicities (aggregated)</td>\n",
              "      <td>2017</td>\n",
              "      <td>Babies with low birth weight</td>\n",
              "    </tr>\n",
              "    <tr>\n",
              "      <th>1</th>\n",
              "      <td>Allegany</td>\n",
              "      <td>23.5</td>\n",
              "      <td>All races/ ethnicities (aggregated)</td>\n",
              "      <td>2017</td>\n",
              "      <td>78.1</td>\n",
              "      <td>Allegany</td>\n",
              "      <td>6.6</td>\n",
              "      <td>All races/ ethnicities (aggregated)</td>\n",
              "      <td>2017</td>\n",
              "      <td>Babies with low birth weight</td>\n",
              "    </tr>\n",
              "    <tr>\n",
              "      <th>2</th>\n",
              "      <td>Anne Arundel</td>\n",
              "      <td>11.9</td>\n",
              "      <td>All races/ ethnicities (aggregated)</td>\n",
              "      <td>2017</td>\n",
              "      <td>71.0</td>\n",
              "      <td>Anne Arundel</td>\n",
              "      <td>7.8</td>\n",
              "      <td>All races/ ethnicities (aggregated)</td>\n",
              "      <td>2017</td>\n",
              "      <td>Babies with low birth weight</td>\n",
              "    </tr>\n",
              "    <tr>\n",
              "      <th>3</th>\n",
              "      <td>Baltimore City</td>\n",
              "      <td>28.9</td>\n",
              "      <td>All races/ ethnicities (aggregated)</td>\n",
              "      <td>2017</td>\n",
              "      <td>67.1</td>\n",
              "      <td>Baltimore City</td>\n",
              "      <td>12.4</td>\n",
              "      <td>All races/ ethnicities (aggregated)</td>\n",
              "      <td>2017</td>\n",
              "      <td>Babies with low birth weight</td>\n",
              "    </tr>\n",
              "    <tr>\n",
              "      <th>4</th>\n",
              "      <td>Baltimore County</td>\n",
              "      <td>11.0</td>\n",
              "      <td>All races/ ethnicities (aggregated)</td>\n",
              "      <td>2017</td>\n",
              "      <td>69.0</td>\n",
              "      <td>Baltimore County</td>\n",
              "      <td>9.5</td>\n",
              "      <td>All races/ ethnicities (aggregated)</td>\n",
              "      <td>2017</td>\n",
              "      <td>Babies with low birth weight</td>\n",
              "    </tr>\n",
              "  </tbody>\n",
              "</table>\n",
              "</div>"
            ],
            "text/plain": [
              "       Jurisdiction  teen_birth_rate  ...  Year                       Measure\n",
              "0             State             14.2  ...  2017  Babies with low birth weight\n",
              "1          Allegany             23.5  ...  2017  Babies with low birth weight\n",
              "2      Anne Arundel             11.9  ...  2017  Babies with low birth weight\n",
              "3    Baltimore City             28.9  ...  2017  Babies with low birth weight\n",
              "4  Baltimore County             11.0  ...  2017  Babies with low birth weight\n",
              "\n",
              "[5 rows x 10 columns]"
            ]
          },
          "metadata": {
            "tags": []
          },
          "execution_count": 157
        }
      ]
    },
    {
      "cell_type": "code",
      "metadata": {
        "colab": {
          "base_uri": "https://localhost:8080/",
          "height": 589
        },
        "id": "J9BukzWORWjq",
        "outputId": "579cc544-bd05-4c53-ed43-95f5dfe112d3"
      },
      "source": [
        "# drop unnecessary column\n",
        "df_all.drop(columns=\"Measure\")"
      ],
      "execution_count": 158,
      "outputs": [
        {
          "output_type": "execute_result",
          "data": {
            "text/html": [
              "<div>\n",
              "<style scoped>\n",
              "    .dataframe tbody tr th:only-of-type {\n",
              "        vertical-align: middle;\n",
              "    }\n",
              "\n",
              "    .dataframe tbody tr th {\n",
              "        vertical-align: top;\n",
              "    }\n",
              "\n",
              "    .dataframe thead th {\n",
              "        text-align: right;\n",
              "    }\n",
              "</style>\n",
              "<table border=\"1\" class=\"dataframe\">\n",
              "  <thead>\n",
              "    <tr style=\"text-align: right;\">\n",
              "      <th></th>\n",
              "      <th>Jurisdiction</th>\n",
              "      <th>teen_birth_rate</th>\n",
              "      <th>Race/ ethnicity</th>\n",
              "      <th>Year</th>\n",
              "      <th>early_prenatal_care</th>\n",
              "      <th>Jurisdiction</th>\n",
              "      <th>babies_low_birth_weight</th>\n",
              "      <th>Race/ ethnicity</th>\n",
              "      <th>Year</th>\n",
              "    </tr>\n",
              "  </thead>\n",
              "  <tbody>\n",
              "    <tr>\n",
              "      <th>0</th>\n",
              "      <td>State</td>\n",
              "      <td>14.2</td>\n",
              "      <td>All races/ ethnicities (aggregated)</td>\n",
              "      <td>2017</td>\n",
              "      <td>69.6</td>\n",
              "      <td>State</td>\n",
              "      <td>8.9</td>\n",
              "      <td>All races/ ethnicities (aggregated)</td>\n",
              "      <td>2017</td>\n",
              "    </tr>\n",
              "    <tr>\n",
              "      <th>1</th>\n",
              "      <td>Allegany</td>\n",
              "      <td>23.5</td>\n",
              "      <td>All races/ ethnicities (aggregated)</td>\n",
              "      <td>2017</td>\n",
              "      <td>78.1</td>\n",
              "      <td>Allegany</td>\n",
              "      <td>6.6</td>\n",
              "      <td>All races/ ethnicities (aggregated)</td>\n",
              "      <td>2017</td>\n",
              "    </tr>\n",
              "    <tr>\n",
              "      <th>2</th>\n",
              "      <td>Anne Arundel</td>\n",
              "      <td>11.9</td>\n",
              "      <td>All races/ ethnicities (aggregated)</td>\n",
              "      <td>2017</td>\n",
              "      <td>71.0</td>\n",
              "      <td>Anne Arundel</td>\n",
              "      <td>7.8</td>\n",
              "      <td>All races/ ethnicities (aggregated)</td>\n",
              "      <td>2017</td>\n",
              "    </tr>\n",
              "    <tr>\n",
              "      <th>3</th>\n",
              "      <td>Baltimore City</td>\n",
              "      <td>28.9</td>\n",
              "      <td>All races/ ethnicities (aggregated)</td>\n",
              "      <td>2017</td>\n",
              "      <td>67.1</td>\n",
              "      <td>Baltimore City</td>\n",
              "      <td>12.4</td>\n",
              "      <td>All races/ ethnicities (aggregated)</td>\n",
              "      <td>2017</td>\n",
              "    </tr>\n",
              "    <tr>\n",
              "      <th>4</th>\n",
              "      <td>Baltimore County</td>\n",
              "      <td>11.0</td>\n",
              "      <td>All races/ ethnicities (aggregated)</td>\n",
              "      <td>2017</td>\n",
              "      <td>69.0</td>\n",
              "      <td>Baltimore County</td>\n",
              "      <td>9.5</td>\n",
              "      <td>All races/ ethnicities (aggregated)</td>\n",
              "      <td>2017</td>\n",
              "    </tr>\n",
              "    <tr>\n",
              "      <th>...</th>\n",
              "      <td>...</td>\n",
              "      <td>...</td>\n",
              "      <td>...</td>\n",
              "      <td>...</td>\n",
              "      <td>...</td>\n",
              "      <td>...</td>\n",
              "      <td>...</td>\n",
              "      <td>...</td>\n",
              "      <td>...</td>\n",
              "    </tr>\n",
              "    <tr>\n",
              "      <th>195</th>\n",
              "      <td>Somerset</td>\n",
              "      <td>31.6</td>\n",
              "      <td>All races/ ethnicities (aggregated)</td>\n",
              "      <td>2010</td>\n",
              "      <td>73.6</td>\n",
              "      <td>Somerset</td>\n",
              "      <td>7.4</td>\n",
              "      <td>All races/ ethnicities (aggregated)</td>\n",
              "      <td>2010</td>\n",
              "    </tr>\n",
              "    <tr>\n",
              "      <th>196</th>\n",
              "      <td>Talbot</td>\n",
              "      <td>20.4</td>\n",
              "      <td>All races/ ethnicities (aggregated)</td>\n",
              "      <td>2010</td>\n",
              "      <td>79.4</td>\n",
              "      <td>Talbot</td>\n",
              "      <td>6.7</td>\n",
              "      <td>All races/ ethnicities (aggregated)</td>\n",
              "      <td>2010</td>\n",
              "    </tr>\n",
              "    <tr>\n",
              "      <th>197</th>\n",
              "      <td>Washington</td>\n",
              "      <td>36.0</td>\n",
              "      <td>All races/ ethnicities (aggregated)</td>\n",
              "      <td>2010</td>\n",
              "      <td>64.0</td>\n",
              "      <td>Washington</td>\n",
              "      <td>9.1</td>\n",
              "      <td>All races/ ethnicities (aggregated)</td>\n",
              "      <td>2010</td>\n",
              "    </tr>\n",
              "    <tr>\n",
              "      <th>198</th>\n",
              "      <td>Wicomico</td>\n",
              "      <td>30.9</td>\n",
              "      <td>All races/ ethnicities (aggregated)</td>\n",
              "      <td>2010</td>\n",
              "      <td>67.4</td>\n",
              "      <td>Wicomico</td>\n",
              "      <td>8.2</td>\n",
              "      <td>All races/ ethnicities (aggregated)</td>\n",
              "      <td>2010</td>\n",
              "    </tr>\n",
              "    <tr>\n",
              "      <th>199</th>\n",
              "      <td>Worcester</td>\n",
              "      <td>26.6</td>\n",
              "      <td>All races/ ethnicities (aggregated)</td>\n",
              "      <td>2010</td>\n",
              "      <td>73.4</td>\n",
              "      <td>Worcester</td>\n",
              "      <td>5.3</td>\n",
              "      <td>All races/ ethnicities (aggregated)</td>\n",
              "      <td>2010</td>\n",
              "    </tr>\n",
              "  </tbody>\n",
              "</table>\n",
              "<p>200 rows × 9 columns</p>\n",
              "</div>"
            ],
            "text/plain": [
              "         Jurisdiction  ...  Year\n",
              "0               State  ...  2017\n",
              "1            Allegany  ...  2017\n",
              "2        Anne Arundel  ...  2017\n",
              "3      Baltimore City  ...  2017\n",
              "4    Baltimore County  ...  2017\n",
              "..                ...  ...   ...\n",
              "195          Somerset  ...  2010\n",
              "196            Talbot  ...  2010\n",
              "197        Washington  ...  2010\n",
              "198          Wicomico  ...  2010\n",
              "199         Worcester  ...  2010\n",
              "\n",
              "[200 rows x 9 columns]"
            ]
          },
          "metadata": {
            "tags": []
          },
          "execution_count": 158
        }
      ]
    },
    {
      "cell_type": "code",
      "metadata": {
        "colab": {
          "base_uri": "https://localhost:8080/"
        },
        "id": "zgBz6N_sVHNz",
        "outputId": "265b8a1c-b682-48e6-ccb7-1cbd166f3022"
      },
      "source": [
        "df_all.columns"
      ],
      "execution_count": 159,
      "outputs": [
        {
          "output_type": "execute_result",
          "data": {
            "text/plain": [
              "Index(['Jurisdiction', 'teen_birth_rate', 'Race/ ethnicity', 'Year',\n",
              "       'early_prenatal_care', 'Jurisdiction', 'babies_low_birth_weight',\n",
              "       'Race/ ethnicity', 'Year', 'Measure'],\n",
              "      dtype='object')"
            ]
          },
          "metadata": {
            "tags": []
          },
          "execution_count": 159
        }
      ]
    },
    {
      "cell_type": "code",
      "metadata": {
        "id": "JTbACspsVZee"
      },
      "source": [
        "# renaming columns to get rid of columns we do not need\n",
        "df_all.columns=['Jurisdiction', 'teen_birth_rate', 'Race/ ethnicity', 'Year',\n",
        "       'early_prenatal_care', 'Jurisdiction_1', 'babies_low_birth_weight', 'Race/ ethnicity_1',\n",
        "       'Year_1', 'Measure']\n",
        "       "
      ],
      "execution_count": 160,
      "outputs": []
    },
    {
      "cell_type": "code",
      "metadata": {
        "id": "XUpSW4Z6Vx0t"
      },
      "source": [
        "# deleting unneeded columns\n",
        "df_all=df_all.drop(columns=[\"Jurisdiction_1\", \"Race/ ethnicity_1\", \"Year_1\", \"Measure\"])"
      ],
      "execution_count": 161,
      "outputs": []
    },
    {
      "cell_type": "code",
      "metadata": {
        "colab": {
          "base_uri": "https://localhost:8080/",
          "height": 419
        },
        "id": "RVcsLsgDV8_Y",
        "outputId": "0c6ece6c-3626-4d36-8fc8-8dd369e19310"
      },
      "source": [
        "df_all"
      ],
      "execution_count": 162,
      "outputs": [
        {
          "output_type": "execute_result",
          "data": {
            "text/html": [
              "<div>\n",
              "<style scoped>\n",
              "    .dataframe tbody tr th:only-of-type {\n",
              "        vertical-align: middle;\n",
              "    }\n",
              "\n",
              "    .dataframe tbody tr th {\n",
              "        vertical-align: top;\n",
              "    }\n",
              "\n",
              "    .dataframe thead th {\n",
              "        text-align: right;\n",
              "    }\n",
              "</style>\n",
              "<table border=\"1\" class=\"dataframe\">\n",
              "  <thead>\n",
              "    <tr style=\"text-align: right;\">\n",
              "      <th></th>\n",
              "      <th>Jurisdiction</th>\n",
              "      <th>teen_birth_rate</th>\n",
              "      <th>Race/ ethnicity</th>\n",
              "      <th>Year</th>\n",
              "      <th>early_prenatal_care</th>\n",
              "      <th>babies_low_birth_weight</th>\n",
              "    </tr>\n",
              "  </thead>\n",
              "  <tbody>\n",
              "    <tr>\n",
              "      <th>0</th>\n",
              "      <td>State</td>\n",
              "      <td>14.2</td>\n",
              "      <td>All races/ ethnicities (aggregated)</td>\n",
              "      <td>2017</td>\n",
              "      <td>69.6</td>\n",
              "      <td>8.9</td>\n",
              "    </tr>\n",
              "    <tr>\n",
              "      <th>1</th>\n",
              "      <td>Allegany</td>\n",
              "      <td>23.5</td>\n",
              "      <td>All races/ ethnicities (aggregated)</td>\n",
              "      <td>2017</td>\n",
              "      <td>78.1</td>\n",
              "      <td>6.6</td>\n",
              "    </tr>\n",
              "    <tr>\n",
              "      <th>2</th>\n",
              "      <td>Anne Arundel</td>\n",
              "      <td>11.9</td>\n",
              "      <td>All races/ ethnicities (aggregated)</td>\n",
              "      <td>2017</td>\n",
              "      <td>71.0</td>\n",
              "      <td>7.8</td>\n",
              "    </tr>\n",
              "    <tr>\n",
              "      <th>3</th>\n",
              "      <td>Baltimore City</td>\n",
              "      <td>28.9</td>\n",
              "      <td>All races/ ethnicities (aggregated)</td>\n",
              "      <td>2017</td>\n",
              "      <td>67.1</td>\n",
              "      <td>12.4</td>\n",
              "    </tr>\n",
              "    <tr>\n",
              "      <th>4</th>\n",
              "      <td>Baltimore County</td>\n",
              "      <td>11.0</td>\n",
              "      <td>All races/ ethnicities (aggregated)</td>\n",
              "      <td>2017</td>\n",
              "      <td>69.0</td>\n",
              "      <td>9.5</td>\n",
              "    </tr>\n",
              "    <tr>\n",
              "      <th>...</th>\n",
              "      <td>...</td>\n",
              "      <td>...</td>\n",
              "      <td>...</td>\n",
              "      <td>...</td>\n",
              "      <td>...</td>\n",
              "      <td>...</td>\n",
              "    </tr>\n",
              "    <tr>\n",
              "      <th>195</th>\n",
              "      <td>Somerset</td>\n",
              "      <td>31.6</td>\n",
              "      <td>All races/ ethnicities (aggregated)</td>\n",
              "      <td>2010</td>\n",
              "      <td>73.6</td>\n",
              "      <td>7.4</td>\n",
              "    </tr>\n",
              "    <tr>\n",
              "      <th>196</th>\n",
              "      <td>Talbot</td>\n",
              "      <td>20.4</td>\n",
              "      <td>All races/ ethnicities (aggregated)</td>\n",
              "      <td>2010</td>\n",
              "      <td>79.4</td>\n",
              "      <td>6.7</td>\n",
              "    </tr>\n",
              "    <tr>\n",
              "      <th>197</th>\n",
              "      <td>Washington</td>\n",
              "      <td>36.0</td>\n",
              "      <td>All races/ ethnicities (aggregated)</td>\n",
              "      <td>2010</td>\n",
              "      <td>64.0</td>\n",
              "      <td>9.1</td>\n",
              "    </tr>\n",
              "    <tr>\n",
              "      <th>198</th>\n",
              "      <td>Wicomico</td>\n",
              "      <td>30.9</td>\n",
              "      <td>All races/ ethnicities (aggregated)</td>\n",
              "      <td>2010</td>\n",
              "      <td>67.4</td>\n",
              "      <td>8.2</td>\n",
              "    </tr>\n",
              "    <tr>\n",
              "      <th>199</th>\n",
              "      <td>Worcester</td>\n",
              "      <td>26.6</td>\n",
              "      <td>All races/ ethnicities (aggregated)</td>\n",
              "      <td>2010</td>\n",
              "      <td>73.4</td>\n",
              "      <td>5.3</td>\n",
              "    </tr>\n",
              "  </tbody>\n",
              "</table>\n",
              "<p>200 rows × 6 columns</p>\n",
              "</div>"
            ],
            "text/plain": [
              "         Jurisdiction  ...  babies_low_birth_weight\n",
              "0               State  ...                      8.9\n",
              "1            Allegany  ...                      6.6\n",
              "2        Anne Arundel  ...                      7.8\n",
              "3      Baltimore City  ...                     12.4\n",
              "4    Baltimore County  ...                      9.5\n",
              "..                ...  ...                      ...\n",
              "195          Somerset  ...                      7.4\n",
              "196            Talbot  ...                      6.7\n",
              "197        Washington  ...                      9.1\n",
              "198          Wicomico  ...                      8.2\n",
              "199         Worcester  ...                      5.3\n",
              "\n",
              "[200 rows x 6 columns]"
            ]
          },
          "metadata": {
            "tags": []
          },
          "execution_count": 162
        }
      ]
    },
    {
      "cell_type": "code",
      "metadata": {
        "id": "sXveHa9xWEOK"
      },
      "source": [
        "# rearranging columns\n",
        "df_all=df_all[[\"Jurisdiction\", \"Race/ ethnicity\", \"Year\", \"teen_birth_rate\", \"early_prenatal_care\", \"babies_low_birth_weight\"]]"
      ],
      "execution_count": 163,
      "outputs": []
    },
    {
      "cell_type": "code",
      "metadata": {
        "colab": {
          "base_uri": "https://localhost:8080/",
          "height": 419
        },
        "id": "aDwpzdFBWnEq",
        "outputId": "5bf4dfcd-a9c5-4e30-cc2b-f599b3e83c40"
      },
      "source": [
        "df_all"
      ],
      "execution_count": 164,
      "outputs": [
        {
          "output_type": "execute_result",
          "data": {
            "text/html": [
              "<div>\n",
              "<style scoped>\n",
              "    .dataframe tbody tr th:only-of-type {\n",
              "        vertical-align: middle;\n",
              "    }\n",
              "\n",
              "    .dataframe tbody tr th {\n",
              "        vertical-align: top;\n",
              "    }\n",
              "\n",
              "    .dataframe thead th {\n",
              "        text-align: right;\n",
              "    }\n",
              "</style>\n",
              "<table border=\"1\" class=\"dataframe\">\n",
              "  <thead>\n",
              "    <tr style=\"text-align: right;\">\n",
              "      <th></th>\n",
              "      <th>Jurisdiction</th>\n",
              "      <th>Race/ ethnicity</th>\n",
              "      <th>Year</th>\n",
              "      <th>teen_birth_rate</th>\n",
              "      <th>early_prenatal_care</th>\n",
              "      <th>babies_low_birth_weight</th>\n",
              "    </tr>\n",
              "  </thead>\n",
              "  <tbody>\n",
              "    <tr>\n",
              "      <th>0</th>\n",
              "      <td>State</td>\n",
              "      <td>All races/ ethnicities (aggregated)</td>\n",
              "      <td>2017</td>\n",
              "      <td>14.2</td>\n",
              "      <td>69.6</td>\n",
              "      <td>8.9</td>\n",
              "    </tr>\n",
              "    <tr>\n",
              "      <th>1</th>\n",
              "      <td>Allegany</td>\n",
              "      <td>All races/ ethnicities (aggregated)</td>\n",
              "      <td>2017</td>\n",
              "      <td>23.5</td>\n",
              "      <td>78.1</td>\n",
              "      <td>6.6</td>\n",
              "    </tr>\n",
              "    <tr>\n",
              "      <th>2</th>\n",
              "      <td>Anne Arundel</td>\n",
              "      <td>All races/ ethnicities (aggregated)</td>\n",
              "      <td>2017</td>\n",
              "      <td>11.9</td>\n",
              "      <td>71.0</td>\n",
              "      <td>7.8</td>\n",
              "    </tr>\n",
              "    <tr>\n",
              "      <th>3</th>\n",
              "      <td>Baltimore City</td>\n",
              "      <td>All races/ ethnicities (aggregated)</td>\n",
              "      <td>2017</td>\n",
              "      <td>28.9</td>\n",
              "      <td>67.1</td>\n",
              "      <td>12.4</td>\n",
              "    </tr>\n",
              "    <tr>\n",
              "      <th>4</th>\n",
              "      <td>Baltimore County</td>\n",
              "      <td>All races/ ethnicities (aggregated)</td>\n",
              "      <td>2017</td>\n",
              "      <td>11.0</td>\n",
              "      <td>69.0</td>\n",
              "      <td>9.5</td>\n",
              "    </tr>\n",
              "    <tr>\n",
              "      <th>...</th>\n",
              "      <td>...</td>\n",
              "      <td>...</td>\n",
              "      <td>...</td>\n",
              "      <td>...</td>\n",
              "      <td>...</td>\n",
              "      <td>...</td>\n",
              "    </tr>\n",
              "    <tr>\n",
              "      <th>195</th>\n",
              "      <td>Somerset</td>\n",
              "      <td>All races/ ethnicities (aggregated)</td>\n",
              "      <td>2010</td>\n",
              "      <td>31.6</td>\n",
              "      <td>73.6</td>\n",
              "      <td>7.4</td>\n",
              "    </tr>\n",
              "    <tr>\n",
              "      <th>196</th>\n",
              "      <td>Talbot</td>\n",
              "      <td>All races/ ethnicities (aggregated)</td>\n",
              "      <td>2010</td>\n",
              "      <td>20.4</td>\n",
              "      <td>79.4</td>\n",
              "      <td>6.7</td>\n",
              "    </tr>\n",
              "    <tr>\n",
              "      <th>197</th>\n",
              "      <td>Washington</td>\n",
              "      <td>All races/ ethnicities (aggregated)</td>\n",
              "      <td>2010</td>\n",
              "      <td>36.0</td>\n",
              "      <td>64.0</td>\n",
              "      <td>9.1</td>\n",
              "    </tr>\n",
              "    <tr>\n",
              "      <th>198</th>\n",
              "      <td>Wicomico</td>\n",
              "      <td>All races/ ethnicities (aggregated)</td>\n",
              "      <td>2010</td>\n",
              "      <td>30.9</td>\n",
              "      <td>67.4</td>\n",
              "      <td>8.2</td>\n",
              "    </tr>\n",
              "    <tr>\n",
              "      <th>199</th>\n",
              "      <td>Worcester</td>\n",
              "      <td>All races/ ethnicities (aggregated)</td>\n",
              "      <td>2010</td>\n",
              "      <td>26.6</td>\n",
              "      <td>73.4</td>\n",
              "      <td>5.3</td>\n",
              "    </tr>\n",
              "  </tbody>\n",
              "</table>\n",
              "<p>200 rows × 6 columns</p>\n",
              "</div>"
            ],
            "text/plain": [
              "         Jurisdiction  ... babies_low_birth_weight\n",
              "0               State  ...                     8.9\n",
              "1            Allegany  ...                     6.6\n",
              "2        Anne Arundel  ...                     7.8\n",
              "3      Baltimore City  ...                    12.4\n",
              "4    Baltimore County  ...                     9.5\n",
              "..                ...  ...                     ...\n",
              "195          Somerset  ...                     7.4\n",
              "196            Talbot  ...                     6.7\n",
              "197        Washington  ...                     9.1\n",
              "198          Wicomico  ...                     8.2\n",
              "199         Worcester  ...                     5.3\n",
              "\n",
              "[200 rows x 6 columns]"
            ]
          },
          "metadata": {
            "tags": []
          },
          "execution_count": 164
        }
      ]
    },
    {
      "cell_type": "code",
      "metadata": {
        "id": "WEuMio33WoKF"
      },
      "source": [
        "df_all=df_all.rename(columns={\"Race/ ethnicity\": \"race/ethn\", \"Jurisdiction\":\"jurisd\", \"Year\":\"yr\"})"
      ],
      "execution_count": 165,
      "outputs": []
    },
    {
      "cell_type": "code",
      "metadata": {
        "colab": {
          "base_uri": "https://localhost:8080/",
          "height": 204
        },
        "id": "iKHixaPtW8B4",
        "outputId": "7a66f2c9-388d-4ff2-922a-921f55d73027"
      },
      "source": [
        "df_all.head()"
      ],
      "execution_count": 166,
      "outputs": [
        {
          "output_type": "execute_result",
          "data": {
            "text/html": [
              "<div>\n",
              "<style scoped>\n",
              "    .dataframe tbody tr th:only-of-type {\n",
              "        vertical-align: middle;\n",
              "    }\n",
              "\n",
              "    .dataframe tbody tr th {\n",
              "        vertical-align: top;\n",
              "    }\n",
              "\n",
              "    .dataframe thead th {\n",
              "        text-align: right;\n",
              "    }\n",
              "</style>\n",
              "<table border=\"1\" class=\"dataframe\">\n",
              "  <thead>\n",
              "    <tr style=\"text-align: right;\">\n",
              "      <th></th>\n",
              "      <th>jurisd</th>\n",
              "      <th>race/ethn</th>\n",
              "      <th>yr</th>\n",
              "      <th>teen_birth_rate</th>\n",
              "      <th>early_prenatal_care</th>\n",
              "      <th>babies_low_birth_weight</th>\n",
              "    </tr>\n",
              "  </thead>\n",
              "  <tbody>\n",
              "    <tr>\n",
              "      <th>0</th>\n",
              "      <td>State</td>\n",
              "      <td>All races/ ethnicities (aggregated)</td>\n",
              "      <td>2017</td>\n",
              "      <td>14.2</td>\n",
              "      <td>69.6</td>\n",
              "      <td>8.9</td>\n",
              "    </tr>\n",
              "    <tr>\n",
              "      <th>1</th>\n",
              "      <td>Allegany</td>\n",
              "      <td>All races/ ethnicities (aggregated)</td>\n",
              "      <td>2017</td>\n",
              "      <td>23.5</td>\n",
              "      <td>78.1</td>\n",
              "      <td>6.6</td>\n",
              "    </tr>\n",
              "    <tr>\n",
              "      <th>2</th>\n",
              "      <td>Anne Arundel</td>\n",
              "      <td>All races/ ethnicities (aggregated)</td>\n",
              "      <td>2017</td>\n",
              "      <td>11.9</td>\n",
              "      <td>71.0</td>\n",
              "      <td>7.8</td>\n",
              "    </tr>\n",
              "    <tr>\n",
              "      <th>3</th>\n",
              "      <td>Baltimore City</td>\n",
              "      <td>All races/ ethnicities (aggregated)</td>\n",
              "      <td>2017</td>\n",
              "      <td>28.9</td>\n",
              "      <td>67.1</td>\n",
              "      <td>12.4</td>\n",
              "    </tr>\n",
              "    <tr>\n",
              "      <th>4</th>\n",
              "      <td>Baltimore County</td>\n",
              "      <td>All races/ ethnicities (aggregated)</td>\n",
              "      <td>2017</td>\n",
              "      <td>11.0</td>\n",
              "      <td>69.0</td>\n",
              "      <td>9.5</td>\n",
              "    </tr>\n",
              "  </tbody>\n",
              "</table>\n",
              "</div>"
            ],
            "text/plain": [
              "             jurisd  ... babies_low_birth_weight\n",
              "0             State  ...                     8.9\n",
              "1          Allegany  ...                     6.6\n",
              "2      Anne Arundel  ...                     7.8\n",
              "3    Baltimore City  ...                    12.4\n",
              "4  Baltimore County  ...                     9.5\n",
              "\n",
              "[5 rows x 6 columns]"
            ]
          },
          "metadata": {
            "tags": []
          },
          "execution_count": 166
        }
      ]
    },
    {
      "cell_type": "code",
      "metadata": {
        "id": "ms2PKFnXXQ7e"
      },
      "source": [
        "# df_all_races does not include State rates\n",
        "df_all_races=df_all[(df_all[\"jurisd\"]!=\"State\")]"
      ],
      "execution_count": 167,
      "outputs": []
    },
    {
      "cell_type": "code",
      "metadata": {
        "colab": {
          "base_uri": "https://localhost:8080/",
          "height": 419
        },
        "id": "IXR1D3qcYs5f",
        "outputId": "f94f02f8-ddf4-4006-f25a-79d1e8cd3019"
      },
      "source": [
        "df_all_races"
      ],
      "execution_count": 168,
      "outputs": [
        {
          "output_type": "execute_result",
          "data": {
            "text/html": [
              "<div>\n",
              "<style scoped>\n",
              "    .dataframe tbody tr th:only-of-type {\n",
              "        vertical-align: middle;\n",
              "    }\n",
              "\n",
              "    .dataframe tbody tr th {\n",
              "        vertical-align: top;\n",
              "    }\n",
              "\n",
              "    .dataframe thead th {\n",
              "        text-align: right;\n",
              "    }\n",
              "</style>\n",
              "<table border=\"1\" class=\"dataframe\">\n",
              "  <thead>\n",
              "    <tr style=\"text-align: right;\">\n",
              "      <th></th>\n",
              "      <th>jurisd</th>\n",
              "      <th>race/ethn</th>\n",
              "      <th>yr</th>\n",
              "      <th>teen_birth_rate</th>\n",
              "      <th>early_prenatal_care</th>\n",
              "      <th>babies_low_birth_weight</th>\n",
              "    </tr>\n",
              "  </thead>\n",
              "  <tbody>\n",
              "    <tr>\n",
              "      <th>1</th>\n",
              "      <td>Allegany</td>\n",
              "      <td>All races/ ethnicities (aggregated)</td>\n",
              "      <td>2017</td>\n",
              "      <td>23.5</td>\n",
              "      <td>78.1</td>\n",
              "      <td>6.6</td>\n",
              "    </tr>\n",
              "    <tr>\n",
              "      <th>2</th>\n",
              "      <td>Anne Arundel</td>\n",
              "      <td>All races/ ethnicities (aggregated)</td>\n",
              "      <td>2017</td>\n",
              "      <td>11.9</td>\n",
              "      <td>71.0</td>\n",
              "      <td>7.8</td>\n",
              "    </tr>\n",
              "    <tr>\n",
              "      <th>3</th>\n",
              "      <td>Baltimore City</td>\n",
              "      <td>All races/ ethnicities (aggregated)</td>\n",
              "      <td>2017</td>\n",
              "      <td>28.9</td>\n",
              "      <td>67.1</td>\n",
              "      <td>12.4</td>\n",
              "    </tr>\n",
              "    <tr>\n",
              "      <th>4</th>\n",
              "      <td>Baltimore County</td>\n",
              "      <td>All races/ ethnicities (aggregated)</td>\n",
              "      <td>2017</td>\n",
              "      <td>11.0</td>\n",
              "      <td>69.0</td>\n",
              "      <td>9.5</td>\n",
              "    </tr>\n",
              "    <tr>\n",
              "      <th>5</th>\n",
              "      <td>Calvert</td>\n",
              "      <td>All races/ ethnicities (aggregated)</td>\n",
              "      <td>2017</td>\n",
              "      <td>8.1</td>\n",
              "      <td>77.1</td>\n",
              "      <td>7.8</td>\n",
              "    </tr>\n",
              "    <tr>\n",
              "      <th>...</th>\n",
              "      <td>...</td>\n",
              "      <td>...</td>\n",
              "      <td>...</td>\n",
              "      <td>...</td>\n",
              "      <td>...</td>\n",
              "      <td>...</td>\n",
              "    </tr>\n",
              "    <tr>\n",
              "      <th>195</th>\n",
              "      <td>Somerset</td>\n",
              "      <td>All races/ ethnicities (aggregated)</td>\n",
              "      <td>2010</td>\n",
              "      <td>31.6</td>\n",
              "      <td>73.6</td>\n",
              "      <td>7.4</td>\n",
              "    </tr>\n",
              "    <tr>\n",
              "      <th>196</th>\n",
              "      <td>Talbot</td>\n",
              "      <td>All races/ ethnicities (aggregated)</td>\n",
              "      <td>2010</td>\n",
              "      <td>20.4</td>\n",
              "      <td>79.4</td>\n",
              "      <td>6.7</td>\n",
              "    </tr>\n",
              "    <tr>\n",
              "      <th>197</th>\n",
              "      <td>Washington</td>\n",
              "      <td>All races/ ethnicities (aggregated)</td>\n",
              "      <td>2010</td>\n",
              "      <td>36.0</td>\n",
              "      <td>64.0</td>\n",
              "      <td>9.1</td>\n",
              "    </tr>\n",
              "    <tr>\n",
              "      <th>198</th>\n",
              "      <td>Wicomico</td>\n",
              "      <td>All races/ ethnicities (aggregated)</td>\n",
              "      <td>2010</td>\n",
              "      <td>30.9</td>\n",
              "      <td>67.4</td>\n",
              "      <td>8.2</td>\n",
              "    </tr>\n",
              "    <tr>\n",
              "      <th>199</th>\n",
              "      <td>Worcester</td>\n",
              "      <td>All races/ ethnicities (aggregated)</td>\n",
              "      <td>2010</td>\n",
              "      <td>26.6</td>\n",
              "      <td>73.4</td>\n",
              "      <td>5.3</td>\n",
              "    </tr>\n",
              "  </tbody>\n",
              "</table>\n",
              "<p>192 rows × 6 columns</p>\n",
              "</div>"
            ],
            "text/plain": [
              "               jurisd  ... babies_low_birth_weight\n",
              "1            Allegany  ...                     6.6\n",
              "2        Anne Arundel  ...                     7.8\n",
              "3      Baltimore City  ...                    12.4\n",
              "4    Baltimore County  ...                     9.5\n",
              "5             Calvert  ...                     7.8\n",
              "..                ...  ...                     ...\n",
              "195          Somerset  ...                     7.4\n",
              "196            Talbot  ...                     6.7\n",
              "197        Washington  ...                     9.1\n",
              "198          Wicomico  ...                     8.2\n",
              "199         Worcester  ...                     5.3\n",
              "\n",
              "[192 rows x 6 columns]"
            ]
          },
          "metadata": {
            "tags": []
          },
          "execution_count": 168
        }
      ]
    },
    {
      "cell_type": "markdown",
      "metadata": {
        "id": "P1dqEDBl4LMa"
      },
      "source": [
        "## Data Visualizations"
      ]
    },
    {
      "cell_type": "code",
      "metadata": {
        "colab": {
          "base_uri": "https://localhost:8080/",
          "height": 542
        },
        "id": "EYwfx005ZkRd",
        "outputId": "bb7f0af7-a830-4739-bcf8-6de43260c8d8"
      },
      "source": [
        "# line graph of teen birth rate for all counties in Maryland\n",
        "line_teen_all_races=px.line(df_all_races, x=\"yr\", y=\"teen_birth_rate\", color=\"jurisd\", title=\"Teen Birth Rate in Maryland, 2010-2017\", labels={\"yr\":\"Year\", \"teen_birth_rate\": \"Teen Birth Rate\"})\n",
        "line_teen_all_races"
      ],
      "execution_count": 169,
      "outputs": [
        {
          "output_type": "display_data",
          "data": {
            "text/html": [
              "<html>\n",
              "<head><meta charset=\"utf-8\" /></head>\n",
              "<body>\n",
              "    <div>\n",
              "            <script src=\"https://cdnjs.cloudflare.com/ajax/libs/mathjax/2.7.5/MathJax.js?config=TeX-AMS-MML_SVG\"></script><script type=\"text/javascript\">if (window.MathJax) {MathJax.Hub.Config({SVG: {font: \"STIX-Web\"}});}</script>\n",
              "                <script type=\"text/javascript\">window.PlotlyConfig = {MathJaxConfig: 'local'};</script>\n",
              "        <script src=\"https://cdn.plot.ly/plotly-latest.min.js\"></script>    \n",
              "            <div id=\"7fa8e468-3335-42b2-84d8-b3a3c1e949a9\" class=\"plotly-graph-div\" style=\"height:525px; width:100%;\"></div>\n",
              "            <script type=\"text/javascript\">\n",
              "                \n",
              "                    window.PLOTLYENV=window.PLOTLYENV || {};\n",
              "                    \n",
              "                if (document.getElementById(\"7fa8e468-3335-42b2-84d8-b3a3c1e949a9\")) {\n",
              "                    Plotly.newPlot(\n",
              "                        '7fa8e468-3335-42b2-84d8-b3a3c1e949a9',\n",
              "                        [{\"hoverlabel\": {\"namelength\": 0}, \"hovertemplate\": \"jurisd=Allegany<br>Year=%{x}<br>Teen Birth Rate=%{y}\", \"legendgroup\": \"jurisd=Allegany\", \"line\": {\"color\": \"#636efa\", \"dash\": \"solid\"}, \"mode\": \"lines\", \"name\": \"jurisd=Allegany\", \"showlegend\": true, \"type\": \"scatter\", \"x\": [2017, 2016, 2015, 2014, 2013, 2012, 2011, 2010], \"xaxis\": \"x\", \"y\": [23.5, 21.0, 24.7, 23.4, 26.6, 23.6, 32.1, 31.8], \"yaxis\": \"y\"}, {\"hoverlabel\": {\"namelength\": 0}, \"hovertemplate\": \"jurisd=Anne Arundel<br>Year=%{x}<br>Teen Birth Rate=%{y}\", \"legendgroup\": \"jurisd=Anne Arundel\", \"line\": {\"color\": \"#EF553B\", \"dash\": \"solid\"}, \"mode\": \"lines\", \"name\": \"jurisd=Anne Arundel\", \"showlegend\": true, \"type\": \"scatter\", \"x\": [2017, 2016, 2015, 2014, 2013, 2012, 2011, 2010], \"xaxis\": \"x\", \"y\": [11.9, 13.4, 14.4, 13.9, 15.6, 20.3, 22.3, 25.8], \"yaxis\": \"y\"}, {\"hoverlabel\": {\"namelength\": 0}, \"hovertemplate\": \"jurisd=Baltimore City<br>Year=%{x}<br>Teen Birth Rate=%{y}\", \"legendgroup\": \"jurisd=Baltimore City\", \"line\": {\"color\": \"#00cc96\", \"dash\": \"solid\"}, \"mode\": \"lines\", \"name\": \"jurisd=Baltimore City\", \"showlegend\": true, \"type\": \"scatter\", \"x\": [2017, 2016, 2015, 2014, 2013, 2012, 2011, 2010], \"xaxis\": \"x\", \"y\": [28.9, 32.6, 36.2, 41.0, 43.4, 46.9, 50.7, 53.3], \"yaxis\": \"y\"}, {\"hoverlabel\": {\"namelength\": 0}, \"hovertemplate\": \"jurisd=Baltimore County<br>Year=%{x}<br>Teen Birth Rate=%{y}\", \"legendgroup\": \"jurisd=Baltimore County\", \"line\": {\"color\": \"#ab63fa\", \"dash\": \"solid\"}, \"mode\": \"lines\", \"name\": \"jurisd=Baltimore County\", \"showlegend\": true, \"type\": \"scatter\", \"x\": [2017, 2016, 2015, 2014, 2013, 2012, 2011, 2010], \"xaxis\": \"x\", \"y\": [11.0, 12.7, 14.6, 15.0, 15.4, 17.2, 21.5, 22.5], \"yaxis\": \"y\"}, {\"hoverlabel\": {\"namelength\": 0}, \"hovertemplate\": \"jurisd=Calvert<br>Year=%{x}<br>Teen Birth Rate=%{y}\", \"legendgroup\": \"jurisd=Calvert\", \"line\": {\"color\": \"#FFA15A\", \"dash\": \"solid\"}, \"mode\": \"lines\", \"name\": \"jurisd=Calvert\", \"showlegend\": true, \"type\": \"scatter\", \"x\": [2017, 2016, 2015, 2014, 2013, 2012, 2011, 2010], \"xaxis\": \"x\", \"y\": [8.1, 7.6, 9.6, 12.2, 13.8, 15.4, 16.0, 17.9], \"yaxis\": \"y\"}, {\"hoverlabel\": {\"namelength\": 0}, \"hovertemplate\": \"jurisd=Caroline<br>Year=%{x}<br>Teen Birth Rate=%{y}\", \"legendgroup\": \"jurisd=Caroline\", \"line\": {\"color\": \"#19d3f3\", \"dash\": \"solid\"}, \"mode\": \"lines\", \"name\": \"jurisd=Caroline\", \"showlegend\": true, \"type\": \"scatter\", \"x\": [2017, 2016, 2015, 2014, 2013, 2012, 2011, 2010], \"xaxis\": \"x\", \"y\": [15.8, 21.2, 27.0, 22.4, 25.3, 24.9, 37.2, 41.4], \"yaxis\": \"y\"}, {\"hoverlabel\": {\"namelength\": 0}, \"hovertemplate\": \"jurisd=Carroll<br>Year=%{x}<br>Teen Birth Rate=%{y}\", \"legendgroup\": \"jurisd=Carroll\", \"line\": {\"color\": \"#FF6692\", \"dash\": \"solid\"}, \"mode\": \"lines\", \"name\": \"jurisd=Carroll\", \"showlegend\": true, \"type\": \"scatter\", \"x\": [2017, 2016, 2015, 2014, 2013, 2012, 2011, 2010], \"xaxis\": \"x\", \"y\": [6.7, 7.5, 6.8, 8.8, 10.0, 13.4, 11.6, 15.5], \"yaxis\": \"y\"}, {\"hoverlabel\": {\"namelength\": 0}, \"hovertemplate\": \"jurisd=Cecil<br>Year=%{x}<br>Teen Birth Rate=%{y}\", \"legendgroup\": \"jurisd=Cecil\", \"line\": {\"color\": \"#B6E880\", \"dash\": \"solid\"}, \"mode\": \"lines\", \"name\": \"jurisd=Cecil\", \"showlegend\": true, \"type\": \"scatter\", \"x\": [2017, 2016, 2015, 2014, 2013, 2012, 2011, 2010], \"xaxis\": \"x\", \"y\": [18.2, 20.5, 18.3, 17.5, 22.8, 28.7, 32.3, 32.1], \"yaxis\": \"y\"}, {\"hoverlabel\": {\"namelength\": 0}, \"hovertemplate\": \"jurisd=Charles<br>Year=%{x}<br>Teen Birth Rate=%{y}\", \"legendgroup\": \"jurisd=Charles\", \"line\": {\"color\": \"#FF97FF\", \"dash\": \"solid\"}, \"mode\": \"lines\", \"name\": \"jurisd=Charles\", \"showlegend\": true, \"type\": \"scatter\", \"x\": [2017, 2016, 2015, 2014, 2013, 2012, 2011, 2010], \"xaxis\": \"x\", \"y\": [13.5, 11.8, 15.3, 13.7, 19.6, 20.2, 21.5, 22.8], \"yaxis\": \"y\"}, {\"hoverlabel\": {\"namelength\": 0}, \"hovertemplate\": \"jurisd=Dorchester<br>Year=%{x}<br>Teen Birth Rate=%{y}\", \"legendgroup\": \"jurisd=Dorchester\", \"line\": {\"color\": \"#FECB52\", \"dash\": \"solid\"}, \"mode\": \"lines\", \"name\": \"jurisd=Dorchester\", \"showlegend\": true, \"type\": \"scatter\", \"x\": [2017, 2016, 2015, 2014, 2013, 2012, 2011, 2010], \"xaxis\": \"x\", \"y\": [21.4, 27.4, 50.7, 42.0, 33.1, 46.6, 43.8, 55.1], \"yaxis\": \"y\"}, {\"hoverlabel\": {\"namelength\": 0}, \"hovertemplate\": \"jurisd=Frederick<br>Year=%{x}<br>Teen Birth Rate=%{y}\", \"legendgroup\": \"jurisd=Frederick\", \"line\": {\"color\": \"#636efa\", \"dash\": \"solid\"}, \"mode\": \"lines\", \"name\": \"jurisd=Frederick\", \"showlegend\": true, \"type\": \"scatter\", \"x\": [2017, 2016, 2015, 2014, 2013, 2012, 2011, 2010], \"xaxis\": \"x\", \"y\": [8.3, 10.2, 11.0, 11.2, 11.4, 14.4, 15.0, 19.8], \"yaxis\": \"y\"}, {\"hoverlabel\": {\"namelength\": 0}, \"hovertemplate\": \"jurisd=Garrett<br>Year=%{x}<br>Teen Birth Rate=%{y}\", \"legendgroup\": \"jurisd=Garrett\", \"line\": {\"color\": \"#EF553B\", \"dash\": \"solid\"}, \"mode\": \"lines\", \"name\": \"jurisd=Garrett\", \"showlegend\": true, \"type\": \"scatter\", \"x\": [2017, 2016, 2015, 2014, 2013, 2012, 2011, 2010], \"xaxis\": \"x\", \"y\": [17.9, 25.2, 31.8, 23.2, 29.6, 34.4, 35.0, 30.7], \"yaxis\": \"y\"}, {\"hoverlabel\": {\"namelength\": 0}, \"hovertemplate\": \"jurisd=Harford<br>Year=%{x}<br>Teen Birth Rate=%{y}\", \"legendgroup\": \"jurisd=Harford\", \"line\": {\"color\": \"#00cc96\", \"dash\": \"solid\"}, \"mode\": \"lines\", \"name\": \"jurisd=Harford\", \"showlegend\": true, \"type\": \"scatter\", \"x\": [2017, 2016, 2015, 2014, 2013, 2012, 2011, 2010], \"xaxis\": \"x\", \"y\": [9.0, 12.1, 8.8, 10.0, 11.3, 14.9, 12.4, 16.9], \"yaxis\": \"y\"}, {\"hoverlabel\": {\"namelength\": 0}, \"hovertemplate\": \"jurisd=Howard<br>Year=%{x}<br>Teen Birth Rate=%{y}\", \"legendgroup\": \"jurisd=Howard\", \"line\": {\"color\": \"#ab63fa\", \"dash\": \"solid\"}, \"mode\": \"lines\", \"name\": \"jurisd=Howard\", \"showlegend\": true, \"type\": \"scatter\", \"x\": [2017, 2016, 2015, 2014, 2013, 2012, 2011, 2010], \"xaxis\": \"x\", \"y\": [6.0, 6.5, 6.1, 7.2, 7.6, 8.3, 8.8, 10.1], \"yaxis\": \"y\"}, {\"hoverlabel\": {\"namelength\": 0}, \"hovertemplate\": \"jurisd=Kent<br>Year=%{x}<br>Teen Birth Rate=%{y}\", \"legendgroup\": \"jurisd=Kent\", \"line\": {\"color\": \"#FFA15A\", \"dash\": \"solid\"}, \"mode\": \"lines\", \"name\": \"jurisd=Kent\", \"showlegend\": true, \"type\": \"scatter\", \"x\": [2017, 2016, 2015, 2014, 2013, 2012, 2011, 2010], \"xaxis\": \"x\", \"y\": [8.5, 6.9, 18.2, 9.5, 13.3, 12.7, 10.6, 15.5], \"yaxis\": \"y\"}, {\"hoverlabel\": {\"namelength\": 0}, \"hovertemplate\": \"jurisd=Montgomery<br>Year=%{x}<br>Teen Birth Rate=%{y}\", \"legendgroup\": \"jurisd=Montgomery\", \"line\": {\"color\": \"#19d3f3\", \"dash\": \"solid\"}, \"mode\": \"lines\", \"name\": \"jurisd=Montgomery\", \"showlegend\": true, \"type\": \"scatter\", \"x\": [2017, 2016, 2015, 2014, 2013, 2012, 2011, 2010], \"xaxis\": \"x\", \"y\": [9.5, 11.2, 11.6, 12.3, 12.8, 13.5, 14.1, 17.4], \"yaxis\": \"y\"}, {\"hoverlabel\": {\"namelength\": 0}, \"hovertemplate\": \"jurisd=Prince George's<br>Year=%{x}<br>Teen Birth Rate=%{y}\", \"legendgroup\": \"jurisd=Prince George's\", \"line\": {\"color\": \"#FF6692\", \"dash\": \"solid\"}, \"mode\": \"lines\", \"name\": \"jurisd=Prince George's\", \"showlegend\": true, \"type\": \"scatter\", \"x\": [2017, 2016, 2015, 2014, 2013, 2012, 2011, 2010], \"xaxis\": \"x\", \"y\": [19.3, 20.7, 21.1, 21.3, 24.2, 27.7, 30.7, 33.1], \"yaxis\": \"y\"}, {\"hoverlabel\": {\"namelength\": 0}, \"hovertemplate\": \"jurisd=Queen Anne's<br>Year=%{x}<br>Teen Birth Rate=%{y}\", \"legendgroup\": \"jurisd=Queen Anne's\", \"line\": {\"color\": \"#B6E880\", \"dash\": \"solid\"}, \"mode\": \"lines\", \"name\": \"jurisd=Queen Anne's\", \"showlegend\": true, \"type\": \"scatter\", \"x\": [2017, 2016, 2015, 2014, 2013, 2012, 2011, 2010], \"xaxis\": \"x\", \"y\": [9.1, 14.8, 6.8, 15.1, 12.4, 14.1, 16.1, 16.4], \"yaxis\": \"y\"}, {\"hoverlabel\": {\"namelength\": 0}, \"hovertemplate\": \"jurisd=Saint Mary's<br>Year=%{x}<br>Teen Birth Rate=%{y}\", \"legendgroup\": \"jurisd=Saint Mary's\", \"line\": {\"color\": \"#FF97FF\", \"dash\": \"solid\"}, \"mode\": \"lines\", \"name\": \"jurisd=Saint Mary's\", \"showlegend\": true, \"type\": \"scatter\", \"x\": [2017, 2016, 2015, 2014, 2013, 2012, 2011, 2010], \"xaxis\": \"x\", \"y\": [9.0, 14.7, 14.8, 18.0, 14.4, 18.7, 29.4, 24.9], \"yaxis\": \"y\"}, {\"hoverlabel\": {\"namelength\": 0}, \"hovertemplate\": \"jurisd=Somerset<br>Year=%{x}<br>Teen Birth Rate=%{y}\", \"legendgroup\": \"jurisd=Somerset\", \"line\": {\"color\": \"#FECB52\", \"dash\": \"solid\"}, \"mode\": \"lines\", \"name\": \"jurisd=Somerset\", \"showlegend\": true, \"type\": \"scatter\", \"x\": [2017, 2016, 2015, 2014, 2013, 2012, 2011, 2010], \"xaxis\": \"x\", \"y\": [13.0, 19.4, 22.5, 17.7, 39.9, 30.4, 24.4, 31.6], \"yaxis\": \"y\"}, {\"hoverlabel\": {\"namelength\": 0}, \"hovertemplate\": \"jurisd=Talbot<br>Year=%{x}<br>Teen Birth Rate=%{y}\", \"legendgroup\": \"jurisd=Talbot\", \"line\": {\"color\": \"#636efa\", \"dash\": \"solid\"}, \"mode\": \"lines\", \"name\": \"jurisd=Talbot\", \"showlegend\": true, \"type\": \"scatter\", \"x\": [2017, 2016, 2015, 2014, 2013, 2012, 2011, 2010], \"xaxis\": \"x\", \"y\": [11.3, 22.9, 15.4, 15.3, 15.7, 18.5, 24.8, 20.4], \"yaxis\": \"y\"}, {\"hoverlabel\": {\"namelength\": 0}, \"hovertemplate\": \"jurisd=Washington<br>Year=%{x}<br>Teen Birth Rate=%{y}\", \"legendgroup\": \"jurisd=Washington\", \"line\": {\"color\": \"#EF553B\", \"dash\": \"solid\"}, \"mode\": \"lines\", \"name\": \"jurisd=Washington\", \"showlegend\": true, \"type\": \"scatter\", \"x\": [2017, 2016, 2015, 2014, 2013, 2012, 2011, 2010], \"xaxis\": \"x\", \"y\": [26.1, 25.8, 24.7, 30.4, 28.2, 36.2, 38.1, 36.0], \"yaxis\": \"y\"}, {\"hoverlabel\": {\"namelength\": 0}, \"hovertemplate\": \"jurisd=Wicomico<br>Year=%{x}<br>Teen Birth Rate=%{y}\", \"legendgroup\": \"jurisd=Wicomico\", \"line\": {\"color\": \"#00cc96\", \"dash\": \"solid\"}, \"mode\": \"lines\", \"name\": \"jurisd=Wicomico\", \"showlegend\": true, \"type\": \"scatter\", \"x\": [2017, 2016, 2015, 2014, 2013, 2012, 2011, 2010], \"xaxis\": \"x\", \"y\": [19.5, 16.9, 20.0, 21.0, 21.1, 24.8, 33.3, 30.9], \"yaxis\": \"y\"}, {\"hoverlabel\": {\"namelength\": 0}, \"hovertemplate\": \"jurisd=Worcester<br>Year=%{x}<br>Teen Birth Rate=%{y}\", \"legendgroup\": \"jurisd=Worcester\", \"line\": {\"color\": \"#ab63fa\", \"dash\": \"solid\"}, \"mode\": \"lines\", \"name\": \"jurisd=Worcester\", \"showlegend\": true, \"type\": \"scatter\", \"x\": [2017, 2016, 2015, 2014, 2013, 2012, 2011, 2010], \"xaxis\": \"x\", \"y\": [12.9, 14.9, 20.9, 11.5, 20.6, 19.3, 33.0, 26.6], \"yaxis\": \"y\"}],\n",
              "                        {\"legend\": {\"tracegroupgap\": 0}, \"template\": {\"data\": {\"bar\": [{\"error_x\": {\"color\": \"#2a3f5f\"}, \"error_y\": {\"color\": \"#2a3f5f\"}, \"marker\": {\"line\": {\"color\": \"#E5ECF6\", \"width\": 0.5}}, \"type\": \"bar\"}], \"barpolar\": [{\"marker\": {\"line\": {\"color\": \"#E5ECF6\", \"width\": 0.5}}, \"type\": \"barpolar\"}], \"carpet\": [{\"aaxis\": {\"endlinecolor\": \"#2a3f5f\", \"gridcolor\": \"white\", \"linecolor\": \"white\", \"minorgridcolor\": \"white\", \"startlinecolor\": \"#2a3f5f\"}, \"baxis\": {\"endlinecolor\": \"#2a3f5f\", \"gridcolor\": \"white\", \"linecolor\": \"white\", \"minorgridcolor\": \"white\", \"startlinecolor\": \"#2a3f5f\"}, \"type\": \"carpet\"}], \"choropleth\": [{\"colorbar\": {\"outlinewidth\": 0, \"ticks\": \"\"}, \"type\": \"choropleth\"}], \"contour\": [{\"colorbar\": {\"outlinewidth\": 0, \"ticks\": \"\"}, \"colorscale\": [[0.0, \"#0d0887\"], [0.1111111111111111, \"#46039f\"], [0.2222222222222222, \"#7201a8\"], [0.3333333333333333, \"#9c179e\"], [0.4444444444444444, \"#bd3786\"], [0.5555555555555556, \"#d8576b\"], [0.6666666666666666, \"#ed7953\"], [0.7777777777777778, \"#fb9f3a\"], [0.8888888888888888, \"#fdca26\"], [1.0, \"#f0f921\"]], \"type\": \"contour\"}], \"contourcarpet\": [{\"colorbar\": {\"outlinewidth\": 0, \"ticks\": \"\"}, \"type\": \"contourcarpet\"}], \"heatmap\": [{\"colorbar\": {\"outlinewidth\": 0, \"ticks\": \"\"}, \"colorscale\": [[0.0, \"#0d0887\"], [0.1111111111111111, \"#46039f\"], [0.2222222222222222, \"#7201a8\"], [0.3333333333333333, \"#9c179e\"], [0.4444444444444444, \"#bd3786\"], [0.5555555555555556, \"#d8576b\"], [0.6666666666666666, \"#ed7953\"], [0.7777777777777778, \"#fb9f3a\"], [0.8888888888888888, \"#fdca26\"], [1.0, \"#f0f921\"]], \"type\": \"heatmap\"}], \"heatmapgl\": [{\"colorbar\": {\"outlinewidth\": 0, \"ticks\": \"\"}, \"colorscale\": [[0.0, \"#0d0887\"], [0.1111111111111111, \"#46039f\"], [0.2222222222222222, \"#7201a8\"], [0.3333333333333333, \"#9c179e\"], [0.4444444444444444, \"#bd3786\"], [0.5555555555555556, \"#d8576b\"], [0.6666666666666666, \"#ed7953\"], [0.7777777777777778, \"#fb9f3a\"], [0.8888888888888888, \"#fdca26\"], [1.0, \"#f0f921\"]], \"type\": \"heatmapgl\"}], \"histogram\": [{\"marker\": {\"colorbar\": {\"outlinewidth\": 0, \"ticks\": \"\"}}, \"type\": \"histogram\"}], \"histogram2d\": [{\"colorbar\": {\"outlinewidth\": 0, \"ticks\": \"\"}, \"colorscale\": [[0.0, \"#0d0887\"], [0.1111111111111111, \"#46039f\"], [0.2222222222222222, \"#7201a8\"], [0.3333333333333333, \"#9c179e\"], [0.4444444444444444, \"#bd3786\"], [0.5555555555555556, \"#d8576b\"], [0.6666666666666666, \"#ed7953\"], [0.7777777777777778, \"#fb9f3a\"], [0.8888888888888888, \"#fdca26\"], [1.0, \"#f0f921\"]], \"type\": \"histogram2d\"}], \"histogram2dcontour\": [{\"colorbar\": {\"outlinewidth\": 0, \"ticks\": \"\"}, \"colorscale\": [[0.0, \"#0d0887\"], [0.1111111111111111, \"#46039f\"], [0.2222222222222222, \"#7201a8\"], [0.3333333333333333, \"#9c179e\"], [0.4444444444444444, \"#bd3786\"], [0.5555555555555556, \"#d8576b\"], [0.6666666666666666, \"#ed7953\"], [0.7777777777777778, \"#fb9f3a\"], [0.8888888888888888, \"#fdca26\"], [1.0, \"#f0f921\"]], \"type\": \"histogram2dcontour\"}], \"mesh3d\": [{\"colorbar\": {\"outlinewidth\": 0, \"ticks\": \"\"}, \"type\": \"mesh3d\"}], \"parcoords\": [{\"line\": {\"colorbar\": {\"outlinewidth\": 0, \"ticks\": \"\"}}, \"type\": \"parcoords\"}], \"pie\": [{\"automargin\": true, \"type\": \"pie\"}], \"scatter\": [{\"marker\": {\"colorbar\": {\"outlinewidth\": 0, \"ticks\": \"\"}}, \"type\": \"scatter\"}], \"scatter3d\": [{\"line\": {\"colorbar\": {\"outlinewidth\": 0, \"ticks\": \"\"}}, \"marker\": {\"colorbar\": {\"outlinewidth\": 0, \"ticks\": \"\"}}, \"type\": \"scatter3d\"}], \"scattercarpet\": [{\"marker\": {\"colorbar\": {\"outlinewidth\": 0, \"ticks\": \"\"}}, \"type\": \"scattercarpet\"}], \"scattergeo\": [{\"marker\": {\"colorbar\": {\"outlinewidth\": 0, \"ticks\": \"\"}}, \"type\": \"scattergeo\"}], \"scattergl\": [{\"marker\": {\"colorbar\": {\"outlinewidth\": 0, \"ticks\": \"\"}}, \"type\": \"scattergl\"}], \"scattermapbox\": [{\"marker\": {\"colorbar\": {\"outlinewidth\": 0, \"ticks\": \"\"}}, \"type\": \"scattermapbox\"}], \"scatterpolar\": [{\"marker\": {\"colorbar\": {\"outlinewidth\": 0, \"ticks\": \"\"}}, \"type\": \"scatterpolar\"}], \"scatterpolargl\": [{\"marker\": {\"colorbar\": {\"outlinewidth\": 0, \"ticks\": \"\"}}, \"type\": \"scatterpolargl\"}], \"scatterternary\": [{\"marker\": {\"colorbar\": {\"outlinewidth\": 0, \"ticks\": \"\"}}, \"type\": \"scatterternary\"}], \"surface\": [{\"colorbar\": {\"outlinewidth\": 0, \"ticks\": \"\"}, \"colorscale\": [[0.0, \"#0d0887\"], [0.1111111111111111, \"#46039f\"], [0.2222222222222222, \"#7201a8\"], [0.3333333333333333, \"#9c179e\"], [0.4444444444444444, \"#bd3786\"], [0.5555555555555556, \"#d8576b\"], [0.6666666666666666, \"#ed7953\"], [0.7777777777777778, \"#fb9f3a\"], [0.8888888888888888, \"#fdca26\"], [1.0, \"#f0f921\"]], \"type\": \"surface\"}], \"table\": [{\"cells\": {\"fill\": {\"color\": \"#EBF0F8\"}, \"line\": {\"color\": \"white\"}}, \"header\": {\"fill\": {\"color\": \"#C8D4E3\"}, \"line\": {\"color\": \"white\"}}, \"type\": \"table\"}]}, \"layout\": {\"annotationdefaults\": {\"arrowcolor\": \"#2a3f5f\", \"arrowhead\": 0, \"arrowwidth\": 1}, \"coloraxis\": {\"colorbar\": {\"outlinewidth\": 0, \"ticks\": \"\"}}, \"colorscale\": {\"diverging\": [[0, \"#8e0152\"], [0.1, \"#c51b7d\"], [0.2, \"#de77ae\"], [0.3, \"#f1b6da\"], [0.4, \"#fde0ef\"], [0.5, \"#f7f7f7\"], [0.6, \"#e6f5d0\"], [0.7, \"#b8e186\"], [0.8, \"#7fbc41\"], [0.9, \"#4d9221\"], [1, \"#276419\"]], \"sequential\": [[0.0, \"#0d0887\"], [0.1111111111111111, \"#46039f\"], [0.2222222222222222, \"#7201a8\"], [0.3333333333333333, \"#9c179e\"], [0.4444444444444444, \"#bd3786\"], [0.5555555555555556, \"#d8576b\"], [0.6666666666666666, \"#ed7953\"], [0.7777777777777778, \"#fb9f3a\"], [0.8888888888888888, \"#fdca26\"], [1.0, \"#f0f921\"]], \"sequentialminus\": [[0.0, \"#0d0887\"], [0.1111111111111111, \"#46039f\"], [0.2222222222222222, \"#7201a8\"], [0.3333333333333333, \"#9c179e\"], [0.4444444444444444, \"#bd3786\"], [0.5555555555555556, \"#d8576b\"], [0.6666666666666666, \"#ed7953\"], [0.7777777777777778, \"#fb9f3a\"], [0.8888888888888888, \"#fdca26\"], [1.0, \"#f0f921\"]]}, \"colorway\": [\"#636efa\", \"#EF553B\", \"#00cc96\", \"#ab63fa\", \"#FFA15A\", \"#19d3f3\", \"#FF6692\", \"#B6E880\", \"#FF97FF\", \"#FECB52\"], \"font\": {\"color\": \"#2a3f5f\"}, \"geo\": {\"bgcolor\": \"white\", \"lakecolor\": \"white\", \"landcolor\": \"#E5ECF6\", \"showlakes\": true, \"showland\": true, \"subunitcolor\": \"white\"}, \"hoverlabel\": {\"align\": \"left\"}, \"hovermode\": \"closest\", \"mapbox\": {\"style\": \"light\"}, \"paper_bgcolor\": \"white\", \"plot_bgcolor\": \"#E5ECF6\", \"polar\": {\"angularaxis\": {\"gridcolor\": \"white\", \"linecolor\": \"white\", \"ticks\": \"\"}, \"bgcolor\": \"#E5ECF6\", \"radialaxis\": {\"gridcolor\": \"white\", \"linecolor\": \"white\", \"ticks\": \"\"}}, \"scene\": {\"xaxis\": {\"backgroundcolor\": \"#E5ECF6\", \"gridcolor\": \"white\", \"gridwidth\": 2, \"linecolor\": \"white\", \"showbackground\": true, \"ticks\": \"\", \"zerolinecolor\": \"white\"}, \"yaxis\": {\"backgroundcolor\": \"#E5ECF6\", \"gridcolor\": \"white\", \"gridwidth\": 2, \"linecolor\": \"white\", \"showbackground\": true, \"ticks\": \"\", \"zerolinecolor\": \"white\"}, \"zaxis\": {\"backgroundcolor\": \"#E5ECF6\", \"gridcolor\": \"white\", \"gridwidth\": 2, \"linecolor\": \"white\", \"showbackground\": true, \"ticks\": \"\", \"zerolinecolor\": \"white\"}}, \"shapedefaults\": {\"line\": {\"color\": \"#2a3f5f\"}}, \"ternary\": {\"aaxis\": {\"gridcolor\": \"white\", \"linecolor\": \"white\", \"ticks\": \"\"}, \"baxis\": {\"gridcolor\": \"white\", \"linecolor\": \"white\", \"ticks\": \"\"}, \"bgcolor\": \"#E5ECF6\", \"caxis\": {\"gridcolor\": \"white\", \"linecolor\": \"white\", \"ticks\": \"\"}}, \"title\": {\"x\": 0.05}, \"xaxis\": {\"automargin\": true, \"gridcolor\": \"white\", \"linecolor\": \"white\", \"ticks\": \"\", \"title\": {\"standoff\": 15}, \"zerolinecolor\": \"white\", \"zerolinewidth\": 2}, \"yaxis\": {\"automargin\": true, \"gridcolor\": \"white\", \"linecolor\": \"white\", \"ticks\": \"\", \"title\": {\"standoff\": 15}, \"zerolinecolor\": \"white\", \"zerolinewidth\": 2}}}, \"title\": {\"text\": \"Teen Birth Rate in Maryland, 2010-2017\"}, \"xaxis\": {\"anchor\": \"y\", \"domain\": [0.0, 1.0], \"title\": {\"text\": \"Year\"}}, \"yaxis\": {\"anchor\": \"x\", \"domain\": [0.0, 1.0], \"title\": {\"text\": \"Teen Birth Rate\"}}},\n",
              "                        {\"responsive\": true}\n",
              "                    ).then(function(){\n",
              "                            \n",
              "var gd = document.getElementById('7fa8e468-3335-42b2-84d8-b3a3c1e949a9');\n",
              "var x = new MutationObserver(function (mutations, observer) {{\n",
              "        var display = window.getComputedStyle(gd).display;\n",
              "        if (!display || display === 'none') {{\n",
              "            console.log([gd, 'removed!']);\n",
              "            Plotly.purge(gd);\n",
              "            observer.disconnect();\n",
              "        }}\n",
              "}});\n",
              "\n",
              "// Listen for the removal of the full notebook cells\n",
              "var notebookContainer = gd.closest('#notebook-container');\n",
              "if (notebookContainer) {{\n",
              "    x.observe(notebookContainer, {childList: true});\n",
              "}}\n",
              "\n",
              "// Listen for the clearing of the current output cell\n",
              "var outputEl = gd.closest('.output');\n",
              "if (outputEl) {{\n",
              "    x.observe(outputEl, {childList: true});\n",
              "}}\n",
              "\n",
              "                        })\n",
              "                };\n",
              "                \n",
              "            </script>\n",
              "        </div>\n",
              "</body>\n",
              "</html>"
            ]
          },
          "metadata": {
            "tags": []
          }
        }
      ]
    },
    {
      "cell_type": "code",
      "metadata": {
        "colab": {
          "base_uri": "https://localhost:8080/",
          "height": 542
        },
        "id": "xAYlqfduZvMu",
        "outputId": "ec634602-6516-4da5-9244-b468150eb554"
      },
      "source": [
        "# line graph of access to early prenatal care for all counties in Maryland\n",
        "line_pren_all_races=px.line(df_all_races, x=\"yr\", y=\"early_prenatal_care\", color=\"jurisd\", title=\"Access to Early Prenatal Care in Maryland, 2010-2017\", labels={\"yr\":\"Year\", \"early_prenatal_care\": \"Early Prenatal Care\"})\n",
        "line_pren_all_races"
      ],
      "execution_count": 121,
      "outputs": [
        {
          "output_type": "display_data",
          "data": {
            "text/html": [
              "<html>\n",
              "<head><meta charset=\"utf-8\" /></head>\n",
              "<body>\n",
              "    <div>\n",
              "            <script src=\"https://cdnjs.cloudflare.com/ajax/libs/mathjax/2.7.5/MathJax.js?config=TeX-AMS-MML_SVG\"></script><script type=\"text/javascript\">if (window.MathJax) {MathJax.Hub.Config({SVG: {font: \"STIX-Web\"}});}</script>\n",
              "                <script type=\"text/javascript\">window.PlotlyConfig = {MathJaxConfig: 'local'};</script>\n",
              "        <script src=\"https://cdn.plot.ly/plotly-latest.min.js\"></script>    \n",
              "            <div id=\"4d4dacee-3afa-4bdd-8cb3-d1406ec8d5a2\" class=\"plotly-graph-div\" style=\"height:525px; width:100%;\"></div>\n",
              "            <script type=\"text/javascript\">\n",
              "                \n",
              "                    window.PLOTLYENV=window.PLOTLYENV || {};\n",
              "                    \n",
              "                if (document.getElementById(\"4d4dacee-3afa-4bdd-8cb3-d1406ec8d5a2\")) {\n",
              "                    Plotly.newPlot(\n",
              "                        '4d4dacee-3afa-4bdd-8cb3-d1406ec8d5a2',\n",
              "                        [{\"hoverlabel\": {\"namelength\": 0}, \"hovertemplate\": \"jurisd=Allegany<br>Year=%{x}<br>Early Prenatal Care=%{y}\", \"legendgroup\": \"jurisd=Allegany\", \"line\": {\"color\": \"#636efa\", \"dash\": \"solid\"}, \"mode\": \"lines\", \"name\": \"jurisd=Allegany\", \"showlegend\": true, \"type\": \"scatter\", \"x\": [2017, 2016, 2015, 2014, 2013, 2012, 2011, 2010], \"xaxis\": \"x\", \"y\": [78.1, 75.2, 77.2, 78.0, 70.2, 74.0, 69.5, 75.4], \"yaxis\": \"y\"}, {\"hoverlabel\": {\"namelength\": 0}, \"hovertemplate\": \"jurisd=Anne Arundel<br>Year=%{x}<br>Early Prenatal Care=%{y}\", \"legendgroup\": \"jurisd=Anne Arundel\", \"line\": {\"color\": \"#EF553B\", \"dash\": \"solid\"}, \"mode\": \"lines\", \"name\": \"jurisd=Anne Arundel\", \"showlegend\": true, \"type\": \"scatter\", \"x\": [2017, 2016, 2015, 2014, 2013, 2012, 2011, 2010], \"xaxis\": \"x\", \"y\": [71.0, 69.8, 69.4, 71.8, 74.2, 71.4, 74.7, 78.2], \"yaxis\": \"y\"}, {\"hoverlabel\": {\"namelength\": 0}, \"hovertemplate\": \"jurisd=Baltimore City<br>Year=%{x}<br>Early Prenatal Care=%{y}\", \"legendgroup\": \"jurisd=Baltimore City\", \"line\": {\"color\": \"#00cc96\", \"dash\": \"solid\"}, \"mode\": \"lines\", \"name\": \"jurisd=Baltimore City\", \"showlegend\": true, \"type\": \"scatter\", \"x\": [2017, 2016, 2015, 2014, 2013, 2012, 2011, 2010], \"xaxis\": \"x\", \"y\": [67.1, 59.6, 59.4, 56.6, 56.7, 64.4, 62.8, 64.9], \"yaxis\": \"y\"}, {\"hoverlabel\": {\"namelength\": 0}, \"hovertemplate\": \"jurisd=Baltimore County<br>Year=%{x}<br>Early Prenatal Care=%{y}\", \"legendgroup\": \"jurisd=Baltimore County\", \"line\": {\"color\": \"#ab63fa\", \"dash\": \"solid\"}, \"mode\": \"lines\", \"name\": \"jurisd=Baltimore County\", \"showlegend\": true, \"type\": \"scatter\", \"x\": [2017, 2016, 2015, 2014, 2013, 2012, 2011, 2010], \"xaxis\": \"x\", \"y\": [69.0, 66.7, 66.7, 64.9, 66.2, 68.9, 68.6, 68.4], \"yaxis\": \"y\"}, {\"hoverlabel\": {\"namelength\": 0}, \"hovertemplate\": \"jurisd=Calvert<br>Year=%{x}<br>Early Prenatal Care=%{y}\", \"legendgroup\": \"jurisd=Calvert\", \"line\": {\"color\": \"#FFA15A\", \"dash\": \"solid\"}, \"mode\": \"lines\", \"name\": \"jurisd=Calvert\", \"showlegend\": true, \"type\": \"scatter\", \"x\": [2017, 2016, 2015, 2014, 2013, 2012, 2011, 2010], \"xaxis\": \"x\", \"y\": [77.1, 77.1, 72.1, 77.1, 77.3, 76.8, 78.1, 78.2], \"yaxis\": \"y\"}, {\"hoverlabel\": {\"namelength\": 0}, \"hovertemplate\": \"jurisd=Caroline<br>Year=%{x}<br>Early Prenatal Care=%{y}\", \"legendgroup\": \"jurisd=Caroline\", \"line\": {\"color\": \"#19d3f3\", \"dash\": \"solid\"}, \"mode\": \"lines\", \"name\": \"jurisd=Caroline\", \"showlegend\": true, \"type\": \"scatter\", \"x\": [2017, 2016, 2015, 2014, 2013, 2012, 2011, 2010], \"xaxis\": \"x\", \"y\": [71.3, 72.6, 76.7, 74.1, 73.5, 78.8, 80.9, 75.0], \"yaxis\": \"y\"}, {\"hoverlabel\": {\"namelength\": 0}, \"hovertemplate\": \"jurisd=Carroll<br>Year=%{x}<br>Early Prenatal Care=%{y}\", \"legendgroup\": \"jurisd=Carroll\", \"line\": {\"color\": \"#FF6692\", \"dash\": \"solid\"}, \"mode\": \"lines\", \"name\": \"jurisd=Carroll\", \"showlegend\": true, \"type\": \"scatter\", \"x\": [2017, 2016, 2015, 2014, 2013, 2012, 2011, 2010], \"xaxis\": \"x\", \"y\": [81.2, 77.3, 75.9, 75.0, 71.6, 74.1, 73.8, 73.6], \"yaxis\": \"y\"}, {\"hoverlabel\": {\"namelength\": 0}, \"hovertemplate\": \"jurisd=Cecil<br>Year=%{x}<br>Early Prenatal Care=%{y}\", \"legendgroup\": \"jurisd=Cecil\", \"line\": {\"color\": \"#B6E880\", \"dash\": \"solid\"}, \"mode\": \"lines\", \"name\": \"jurisd=Cecil\", \"showlegend\": true, \"type\": \"scatter\", \"x\": [2017, 2016, 2015, 2014, 2013, 2012, 2011, 2010], \"xaxis\": \"x\", \"y\": [78.3, 78.5, 78.2, 75.7, 78.7, 81.1, 80.4, 78.1], \"yaxis\": \"y\"}, {\"hoverlabel\": {\"namelength\": 0}, \"hovertemplate\": \"jurisd=Charles<br>Year=%{x}<br>Early Prenatal Care=%{y}\", \"legendgroup\": \"jurisd=Charles\", \"line\": {\"color\": \"#FF97FF\", \"dash\": \"solid\"}, \"mode\": \"lines\", \"name\": \"jurisd=Charles\", \"showlegend\": true, \"type\": \"scatter\", \"x\": [2017, 2016, 2015, 2014, 2013, 2012, 2011, 2010], \"xaxis\": \"x\", \"y\": [65.0, 66.9, 67.6, 66.5, 67.0, 66.9, 60.4, 66.6], \"yaxis\": \"y\"}, {\"hoverlabel\": {\"namelength\": 0}, \"hovertemplate\": \"jurisd=Dorchester<br>Year=%{x}<br>Early Prenatal Care=%{y}\", \"legendgroup\": \"jurisd=Dorchester\", \"line\": {\"color\": \"#FECB52\", \"dash\": \"solid\"}, \"mode\": \"lines\", \"name\": \"jurisd=Dorchester\", \"showlegend\": true, \"type\": \"scatter\", \"x\": [2017, 2016, 2015, 2014, 2013, 2012, 2011, 2010], \"xaxis\": \"x\", \"y\": [78.4, 76.7, 78.1, 73.4, 73.5, 77.8, 74.1, 73.5], \"yaxis\": \"y\"}, {\"hoverlabel\": {\"namelength\": 0}, \"hovertemplate\": \"jurisd=Frederick<br>Year=%{x}<br>Early Prenatal Care=%{y}\", \"legendgroup\": \"jurisd=Frederick\", \"line\": {\"color\": \"#636efa\", \"dash\": \"solid\"}, \"mode\": \"lines\", \"name\": \"jurisd=Frederick\", \"showlegend\": true, \"type\": \"scatter\", \"x\": [2017, 2016, 2015, 2014, 2013, 2012, 2011, 2010], \"xaxis\": \"x\", \"y\": [80.0, 77.9, 77.5, 76.6, 76.1, 76.8, 74.6, 76.0], \"yaxis\": \"y\"}, {\"hoverlabel\": {\"namelength\": 0}, \"hovertemplate\": \"jurisd=Garrett<br>Year=%{x}<br>Early Prenatal Care=%{y}\", \"legendgroup\": \"jurisd=Garrett\", \"line\": {\"color\": \"#EF553B\", \"dash\": \"solid\"}, \"mode\": \"lines\", \"name\": \"jurisd=Garrett\", \"showlegend\": true, \"type\": \"scatter\", \"x\": [2017, 2016, 2015, 2014, 2013, 2012, 2011, 2010], \"xaxis\": \"x\", \"y\": [78.9, 82.4, 80.9, 78.4, 81.2, 81.1, 83.0, 82.1], \"yaxis\": \"y\"}, {\"hoverlabel\": {\"namelength\": 0}, \"hovertemplate\": \"jurisd=Harford<br>Year=%{x}<br>Early Prenatal Care=%{y}\", \"legendgroup\": \"jurisd=Harford\", \"line\": {\"color\": \"#00cc96\", \"dash\": \"solid\"}, \"mode\": \"lines\", \"name\": \"jurisd=Harford\", \"showlegend\": true, \"type\": \"scatter\", \"x\": [2017, 2016, 2015, 2014, 2013, 2012, 2011, 2010], \"xaxis\": \"x\", \"y\": [78.1, 75.0, 78.6, 74.5, 75.2, 78.0, 78.7, 78.7], \"yaxis\": \"y\"}, {\"hoverlabel\": {\"namelength\": 0}, \"hovertemplate\": \"jurisd=Howard<br>Year=%{x}<br>Early Prenatal Care=%{y}\", \"legendgroup\": \"jurisd=Howard\", \"line\": {\"color\": \"#ab63fa\", \"dash\": \"solid\"}, \"mode\": \"lines\", \"name\": \"jurisd=Howard\", \"showlegend\": true, \"type\": \"scatter\", \"x\": [2017, 2016, 2015, 2014, 2013, 2012, 2011, 2010], \"xaxis\": \"x\", \"y\": [72.5, 75.0, 68.6, 69.7, 64.0, 71.8, 73.0, 73.2], \"yaxis\": \"y\"}, {\"hoverlabel\": {\"namelength\": 0}, \"hovertemplate\": \"jurisd=Kent<br>Year=%{x}<br>Early Prenatal Care=%{y}\", \"legendgroup\": \"jurisd=Kent\", \"line\": {\"color\": \"#FFA15A\", \"dash\": \"solid\"}, \"mode\": \"lines\", \"name\": \"jurisd=Kent\", \"showlegend\": true, \"type\": \"scatter\", \"x\": [2017, 2016, 2015, 2014, 2013, 2012, 2011, 2010], \"xaxis\": \"x\", \"y\": [80.3, 72.9, 81.9, 79.6, 72.7, 74.6, 77.0, 77.3], \"yaxis\": \"y\"}, {\"hoverlabel\": {\"namelength\": 0}, \"hovertemplate\": \"jurisd=Montgomery<br>Year=%{x}<br>Early Prenatal Care=%{y}\", \"legendgroup\": \"jurisd=Montgomery\", \"line\": {\"color\": \"#19d3f3\", \"dash\": \"solid\"}, \"mode\": \"lines\", \"name\": \"jurisd=Montgomery\", \"showlegend\": true, \"type\": \"scatter\", \"x\": [2017, 2016, 2015, 2014, 2013, 2012, 2011, 2010], \"xaxis\": \"x\", \"y\": [70.9, 68.4, 66.3, 68.3, 67.9, 66.5, 66.9, 69.3], \"yaxis\": \"y\"}, {\"hoverlabel\": {\"namelength\": 0}, \"hovertemplate\": \"jurisd=Prince George's<br>Year=%{x}<br>Early Prenatal Care=%{y}\", \"legendgroup\": \"jurisd=Prince George's\", \"line\": {\"color\": \"#FF6692\", \"dash\": \"solid\"}, \"mode\": \"lines\", \"name\": \"jurisd=Prince George's\", \"showlegend\": true, \"type\": \"scatter\", \"x\": [2017, 2016, 2015, 2014, 2013, 2012, 2011, 2010], \"xaxis\": \"x\", \"y\": [59.1, 57.5, 56.5, 56.4, 58.1, 56.2, 54.1, 54.0], \"yaxis\": \"y\"}, {\"hoverlabel\": {\"namelength\": 0}, \"hovertemplate\": \"jurisd=Queen Anne's<br>Year=%{x}<br>Early Prenatal Care=%{y}\", \"legendgroup\": \"jurisd=Queen Anne's\", \"line\": {\"color\": \"#B6E880\", \"dash\": \"solid\"}, \"mode\": \"lines\", \"name\": \"jurisd=Queen Anne's\", \"showlegend\": true, \"type\": \"scatter\", \"x\": [2017, 2016, 2015, 2014, 2013, 2012, 2011, 2010], \"xaxis\": \"x\", \"y\": [76.1, 75.5, 75.3, 79.9, 81.4, 76.9, 81.1, 84.5], \"yaxis\": \"y\"}, {\"hoverlabel\": {\"namelength\": 0}, \"hovertemplate\": \"jurisd=Saint Mary's<br>Year=%{x}<br>Early Prenatal Care=%{y}\", \"legendgroup\": \"jurisd=Saint Mary's\", \"line\": {\"color\": \"#FF97FF\", \"dash\": \"solid\"}, \"mode\": \"lines\", \"name\": \"jurisd=Saint Mary's\", \"showlegend\": true, \"type\": \"scatter\", \"x\": [2017, 2016, 2015, 2014, 2013, 2012, 2011, 2010], \"xaxis\": \"x\", \"y\": [75.8, 80.3, 77.2, 77.4, 79.8, 79.2, 76.1, 74.8], \"yaxis\": \"y\"}, {\"hoverlabel\": {\"namelength\": 0}, \"hovertemplate\": \"jurisd=Somerset<br>Year=%{x}<br>Early Prenatal Care=%{y}\", \"legendgroup\": \"jurisd=Somerset\", \"line\": {\"color\": \"#FECB52\", \"dash\": \"solid\"}, \"mode\": \"lines\", \"name\": \"jurisd=Somerset\", \"showlegend\": true, \"type\": \"scatter\", \"x\": [2017, 2016, 2015, 2014, 2013, 2012, 2011, 2010], \"xaxis\": \"x\", \"y\": [76.4, 79.5, 80.5, 76.6, 72.2, 72.2, 79.5, 73.6], \"yaxis\": \"y\"}, {\"hoverlabel\": {\"namelength\": 0}, \"hovertemplate\": \"jurisd=Talbot<br>Year=%{x}<br>Early Prenatal Care=%{y}\", \"legendgroup\": \"jurisd=Talbot\", \"line\": {\"color\": \"#636efa\", \"dash\": \"solid\"}, \"mode\": \"lines\", \"name\": \"jurisd=Talbot\", \"showlegend\": true, \"type\": \"scatter\", \"x\": [2017, 2016, 2015, 2014, 2013, 2012, 2011, 2010], \"xaxis\": \"x\", \"y\": [75.3, 74.6, 76.3, 73.6, 73.6, 77.0, 73.7, 79.4], \"yaxis\": \"y\"}, {\"hoverlabel\": {\"namelength\": 0}, \"hovertemplate\": \"jurisd=Washington<br>Year=%{x}<br>Early Prenatal Care=%{y}\", \"legendgroup\": \"jurisd=Washington\", \"line\": {\"color\": \"#EF553B\", \"dash\": \"solid\"}, \"mode\": \"lines\", \"name\": \"jurisd=Washington\", \"showlegend\": true, \"type\": \"scatter\", \"x\": [2017, 2016, 2015, 2014, 2013, 2012, 2011, 2010], \"xaxis\": \"x\", \"y\": [72.1, 70.2, 70.2, 69.1, 71.7, 71.1, 68.1, 64.0], \"yaxis\": \"y\"}, {\"hoverlabel\": {\"namelength\": 0}, \"hovertemplate\": \"jurisd=Wicomico<br>Year=%{x}<br>Early Prenatal Care=%{y}\", \"legendgroup\": \"jurisd=Wicomico\", \"line\": {\"color\": \"#00cc96\", \"dash\": \"solid\"}, \"mode\": \"lines\", \"name\": \"jurisd=Wicomico\", \"showlegend\": true, \"type\": \"scatter\", \"x\": [2017, 2016, 2015, 2014, 2013, 2012, 2011, 2010], \"xaxis\": \"x\", \"y\": [72.1, 77.0, 78.8, 74.0, 76.8, 72.9, 73.1, 67.4], \"yaxis\": \"y\"}, {\"hoverlabel\": {\"namelength\": 0}, \"hovertemplate\": \"jurisd=Worcester<br>Year=%{x}<br>Early Prenatal Care=%{y}\", \"legendgroup\": \"jurisd=Worcester\", \"line\": {\"color\": \"#ab63fa\", \"dash\": \"solid\"}, \"mode\": \"lines\", \"name\": \"jurisd=Worcester\", \"showlegend\": true, \"type\": \"scatter\", \"x\": [2017, 2016, 2015, 2014, 2013, 2012, 2011, 2010], \"xaxis\": \"x\", \"y\": [79.8, 78.6, 80.4, 77.6, 77.8, 74.0, 78.4, 73.4], \"yaxis\": \"y\"}],\n",
              "                        {\"legend\": {\"tracegroupgap\": 0}, \"template\": {\"data\": {\"bar\": [{\"error_x\": {\"color\": \"#2a3f5f\"}, \"error_y\": {\"color\": \"#2a3f5f\"}, \"marker\": {\"line\": {\"color\": \"#E5ECF6\", \"width\": 0.5}}, \"type\": \"bar\"}], \"barpolar\": [{\"marker\": {\"line\": {\"color\": \"#E5ECF6\", \"width\": 0.5}}, \"type\": \"barpolar\"}], \"carpet\": [{\"aaxis\": {\"endlinecolor\": \"#2a3f5f\", \"gridcolor\": \"white\", \"linecolor\": \"white\", \"minorgridcolor\": \"white\", \"startlinecolor\": \"#2a3f5f\"}, \"baxis\": {\"endlinecolor\": \"#2a3f5f\", \"gridcolor\": \"white\", \"linecolor\": \"white\", \"minorgridcolor\": \"white\", \"startlinecolor\": \"#2a3f5f\"}, \"type\": \"carpet\"}], \"choropleth\": [{\"colorbar\": {\"outlinewidth\": 0, \"ticks\": \"\"}, \"type\": \"choropleth\"}], \"contour\": [{\"colorbar\": {\"outlinewidth\": 0, \"ticks\": \"\"}, \"colorscale\": [[0.0, \"#0d0887\"], [0.1111111111111111, \"#46039f\"], [0.2222222222222222, \"#7201a8\"], [0.3333333333333333, \"#9c179e\"], [0.4444444444444444, \"#bd3786\"], [0.5555555555555556, \"#d8576b\"], [0.6666666666666666, \"#ed7953\"], [0.7777777777777778, \"#fb9f3a\"], [0.8888888888888888, \"#fdca26\"], [1.0, \"#f0f921\"]], \"type\": \"contour\"}], \"contourcarpet\": [{\"colorbar\": {\"outlinewidth\": 0, \"ticks\": \"\"}, \"type\": \"contourcarpet\"}], \"heatmap\": [{\"colorbar\": {\"outlinewidth\": 0, \"ticks\": \"\"}, \"colorscale\": [[0.0, \"#0d0887\"], [0.1111111111111111, \"#46039f\"], [0.2222222222222222, \"#7201a8\"], [0.3333333333333333, \"#9c179e\"], [0.4444444444444444, \"#bd3786\"], [0.5555555555555556, \"#d8576b\"], [0.6666666666666666, \"#ed7953\"], [0.7777777777777778, \"#fb9f3a\"], [0.8888888888888888, \"#fdca26\"], [1.0, \"#f0f921\"]], \"type\": \"heatmap\"}], \"heatmapgl\": [{\"colorbar\": {\"outlinewidth\": 0, \"ticks\": \"\"}, \"colorscale\": [[0.0, \"#0d0887\"], [0.1111111111111111, \"#46039f\"], [0.2222222222222222, \"#7201a8\"], [0.3333333333333333, \"#9c179e\"], [0.4444444444444444, \"#bd3786\"], [0.5555555555555556, \"#d8576b\"], [0.6666666666666666, \"#ed7953\"], [0.7777777777777778, \"#fb9f3a\"], [0.8888888888888888, \"#fdca26\"], [1.0, \"#f0f921\"]], \"type\": \"heatmapgl\"}], \"histogram\": [{\"marker\": {\"colorbar\": {\"outlinewidth\": 0, \"ticks\": \"\"}}, \"type\": \"histogram\"}], \"histogram2d\": [{\"colorbar\": {\"outlinewidth\": 0, \"ticks\": \"\"}, \"colorscale\": [[0.0, \"#0d0887\"], [0.1111111111111111, \"#46039f\"], [0.2222222222222222, \"#7201a8\"], [0.3333333333333333, \"#9c179e\"], [0.4444444444444444, \"#bd3786\"], [0.5555555555555556, \"#d8576b\"], [0.6666666666666666, \"#ed7953\"], [0.7777777777777778, \"#fb9f3a\"], [0.8888888888888888, \"#fdca26\"], [1.0, \"#f0f921\"]], \"type\": \"histogram2d\"}], \"histogram2dcontour\": [{\"colorbar\": {\"outlinewidth\": 0, \"ticks\": \"\"}, \"colorscale\": [[0.0, \"#0d0887\"], [0.1111111111111111, \"#46039f\"], [0.2222222222222222, \"#7201a8\"], [0.3333333333333333, \"#9c179e\"], [0.4444444444444444, \"#bd3786\"], [0.5555555555555556, \"#d8576b\"], [0.6666666666666666, \"#ed7953\"], [0.7777777777777778, \"#fb9f3a\"], [0.8888888888888888, \"#fdca26\"], [1.0, \"#f0f921\"]], \"type\": \"histogram2dcontour\"}], \"mesh3d\": [{\"colorbar\": {\"outlinewidth\": 0, \"ticks\": \"\"}, \"type\": \"mesh3d\"}], \"parcoords\": [{\"line\": {\"colorbar\": {\"outlinewidth\": 0, \"ticks\": \"\"}}, \"type\": \"parcoords\"}], \"pie\": [{\"automargin\": true, \"type\": \"pie\"}], \"scatter\": [{\"marker\": {\"colorbar\": {\"outlinewidth\": 0, \"ticks\": \"\"}}, \"type\": \"scatter\"}], \"scatter3d\": [{\"line\": {\"colorbar\": {\"outlinewidth\": 0, \"ticks\": \"\"}}, \"marker\": {\"colorbar\": {\"outlinewidth\": 0, \"ticks\": \"\"}}, \"type\": \"scatter3d\"}], \"scattercarpet\": [{\"marker\": {\"colorbar\": {\"outlinewidth\": 0, \"ticks\": \"\"}}, \"type\": \"scattercarpet\"}], \"scattergeo\": [{\"marker\": {\"colorbar\": {\"outlinewidth\": 0, \"ticks\": \"\"}}, \"type\": \"scattergeo\"}], \"scattergl\": [{\"marker\": {\"colorbar\": {\"outlinewidth\": 0, \"ticks\": \"\"}}, \"type\": \"scattergl\"}], \"scattermapbox\": [{\"marker\": {\"colorbar\": {\"outlinewidth\": 0, \"ticks\": \"\"}}, \"type\": \"scattermapbox\"}], \"scatterpolar\": [{\"marker\": {\"colorbar\": {\"outlinewidth\": 0, \"ticks\": \"\"}}, \"type\": \"scatterpolar\"}], \"scatterpolargl\": [{\"marker\": {\"colorbar\": {\"outlinewidth\": 0, \"ticks\": \"\"}}, \"type\": \"scatterpolargl\"}], \"scatterternary\": [{\"marker\": {\"colorbar\": {\"outlinewidth\": 0, \"ticks\": \"\"}}, \"type\": \"scatterternary\"}], \"surface\": [{\"colorbar\": {\"outlinewidth\": 0, \"ticks\": \"\"}, \"colorscale\": [[0.0, \"#0d0887\"], [0.1111111111111111, \"#46039f\"], [0.2222222222222222, \"#7201a8\"], [0.3333333333333333, \"#9c179e\"], [0.4444444444444444, \"#bd3786\"], [0.5555555555555556, \"#d8576b\"], [0.6666666666666666, \"#ed7953\"], [0.7777777777777778, \"#fb9f3a\"], [0.8888888888888888, \"#fdca26\"], [1.0, \"#f0f921\"]], \"type\": \"surface\"}], \"table\": [{\"cells\": {\"fill\": {\"color\": \"#EBF0F8\"}, \"line\": {\"color\": \"white\"}}, \"header\": {\"fill\": {\"color\": \"#C8D4E3\"}, \"line\": {\"color\": \"white\"}}, \"type\": \"table\"}]}, \"layout\": {\"annotationdefaults\": {\"arrowcolor\": \"#2a3f5f\", \"arrowhead\": 0, \"arrowwidth\": 1}, \"coloraxis\": {\"colorbar\": {\"outlinewidth\": 0, \"ticks\": \"\"}}, \"colorscale\": {\"diverging\": [[0, \"#8e0152\"], [0.1, \"#c51b7d\"], [0.2, \"#de77ae\"], [0.3, \"#f1b6da\"], [0.4, \"#fde0ef\"], [0.5, \"#f7f7f7\"], [0.6, \"#e6f5d0\"], [0.7, \"#b8e186\"], [0.8, \"#7fbc41\"], [0.9, \"#4d9221\"], [1, \"#276419\"]], \"sequential\": [[0.0, \"#0d0887\"], [0.1111111111111111, \"#46039f\"], [0.2222222222222222, \"#7201a8\"], [0.3333333333333333, \"#9c179e\"], [0.4444444444444444, \"#bd3786\"], [0.5555555555555556, \"#d8576b\"], [0.6666666666666666, \"#ed7953\"], [0.7777777777777778, \"#fb9f3a\"], [0.8888888888888888, \"#fdca26\"], [1.0, \"#f0f921\"]], \"sequentialminus\": [[0.0, \"#0d0887\"], [0.1111111111111111, \"#46039f\"], [0.2222222222222222, \"#7201a8\"], [0.3333333333333333, \"#9c179e\"], [0.4444444444444444, \"#bd3786\"], [0.5555555555555556, \"#d8576b\"], [0.6666666666666666, \"#ed7953\"], [0.7777777777777778, \"#fb9f3a\"], [0.8888888888888888, \"#fdca26\"], [1.0, \"#f0f921\"]]}, \"colorway\": [\"#636efa\", \"#EF553B\", \"#00cc96\", \"#ab63fa\", \"#FFA15A\", \"#19d3f3\", \"#FF6692\", \"#B6E880\", \"#FF97FF\", \"#FECB52\"], \"font\": {\"color\": \"#2a3f5f\"}, \"geo\": {\"bgcolor\": \"white\", \"lakecolor\": \"white\", \"landcolor\": \"#E5ECF6\", \"showlakes\": true, \"showland\": true, \"subunitcolor\": \"white\"}, \"hoverlabel\": {\"align\": \"left\"}, \"hovermode\": \"closest\", \"mapbox\": {\"style\": \"light\"}, \"paper_bgcolor\": \"white\", \"plot_bgcolor\": \"#E5ECF6\", \"polar\": {\"angularaxis\": {\"gridcolor\": \"white\", \"linecolor\": \"white\", \"ticks\": \"\"}, \"bgcolor\": \"#E5ECF6\", \"radialaxis\": {\"gridcolor\": \"white\", \"linecolor\": \"white\", \"ticks\": \"\"}}, \"scene\": {\"xaxis\": {\"backgroundcolor\": \"#E5ECF6\", \"gridcolor\": \"white\", \"gridwidth\": 2, \"linecolor\": \"white\", \"showbackground\": true, \"ticks\": \"\", \"zerolinecolor\": \"white\"}, \"yaxis\": {\"backgroundcolor\": \"#E5ECF6\", \"gridcolor\": \"white\", \"gridwidth\": 2, \"linecolor\": \"white\", \"showbackground\": true, \"ticks\": \"\", \"zerolinecolor\": \"white\"}, \"zaxis\": {\"backgroundcolor\": \"#E5ECF6\", \"gridcolor\": \"white\", \"gridwidth\": 2, \"linecolor\": \"white\", \"showbackground\": true, \"ticks\": \"\", \"zerolinecolor\": \"white\"}}, \"shapedefaults\": {\"line\": {\"color\": \"#2a3f5f\"}}, \"ternary\": {\"aaxis\": {\"gridcolor\": \"white\", \"linecolor\": \"white\", \"ticks\": \"\"}, \"baxis\": {\"gridcolor\": \"white\", \"linecolor\": \"white\", \"ticks\": \"\"}, \"bgcolor\": \"#E5ECF6\", \"caxis\": {\"gridcolor\": \"white\", \"linecolor\": \"white\", \"ticks\": \"\"}}, \"title\": {\"x\": 0.05}, \"xaxis\": {\"automargin\": true, \"gridcolor\": \"white\", \"linecolor\": \"white\", \"ticks\": \"\", \"title\": {\"standoff\": 15}, \"zerolinecolor\": \"white\", \"zerolinewidth\": 2}, \"yaxis\": {\"automargin\": true, \"gridcolor\": \"white\", \"linecolor\": \"white\", \"ticks\": \"\", \"title\": {\"standoff\": 15}, \"zerolinecolor\": \"white\", \"zerolinewidth\": 2}}}, \"title\": {\"text\": \"Access to Early Prenatal Care in Maryland, 2010-2017\"}, \"xaxis\": {\"anchor\": \"y\", \"domain\": [0.0, 1.0], \"title\": {\"text\": \"Year\"}}, \"yaxis\": {\"anchor\": \"x\", \"domain\": [0.0, 1.0], \"title\": {\"text\": \"Early Prenatal Care\"}}},\n",
              "                        {\"responsive\": true}\n",
              "                    ).then(function(){\n",
              "                            \n",
              "var gd = document.getElementById('4d4dacee-3afa-4bdd-8cb3-d1406ec8d5a2');\n",
              "var x = new MutationObserver(function (mutations, observer) {{\n",
              "        var display = window.getComputedStyle(gd).display;\n",
              "        if (!display || display === 'none') {{\n",
              "            console.log([gd, 'removed!']);\n",
              "            Plotly.purge(gd);\n",
              "            observer.disconnect();\n",
              "        }}\n",
              "}});\n",
              "\n",
              "// Listen for the removal of the full notebook cells\n",
              "var notebookContainer = gd.closest('#notebook-container');\n",
              "if (notebookContainer) {{\n",
              "    x.observe(notebookContainer, {childList: true});\n",
              "}}\n",
              "\n",
              "// Listen for the clearing of the current output cell\n",
              "var outputEl = gd.closest('.output');\n",
              "if (outputEl) {{\n",
              "    x.observe(outputEl, {childList: true});\n",
              "}}\n",
              "\n",
              "                        })\n",
              "                };\n",
              "                \n",
              "            </script>\n",
              "        </div>\n",
              "</body>\n",
              "</html>"
            ]
          },
          "metadata": {
            "tags": []
          }
        }
      ]
    },
    {
      "cell_type": "code",
      "metadata": {
        "colab": {
          "base_uri": "https://localhost:8080/",
          "height": 542
        },
        "id": "rnlCgwiJdgjp",
        "outputId": "efeec090-7820-4957-ffe7-caf819dec82c"
      },
      "source": [
        "# line graph of babies with low birth weight for all counties in Maryland\n",
        "line_babies_all_races=px.line(df_all_races, x=\"yr\", y=\"babies_low_birth_weight\", color=\"jurisd\", title=\"Babies with Low Birth Weight in Maryland, 2010-2017\", labels={\"yr\":\"Year\", \"babies_low_birth_weight\":\"Babies with Low Birth Weight\"})\n",
        "line_babies_all_races"
      ],
      "execution_count": 122,
      "outputs": [
        {
          "output_type": "display_data",
          "data": {
            "text/html": [
              "<html>\n",
              "<head><meta charset=\"utf-8\" /></head>\n",
              "<body>\n",
              "    <div>\n",
              "            <script src=\"https://cdnjs.cloudflare.com/ajax/libs/mathjax/2.7.5/MathJax.js?config=TeX-AMS-MML_SVG\"></script><script type=\"text/javascript\">if (window.MathJax) {MathJax.Hub.Config({SVG: {font: \"STIX-Web\"}});}</script>\n",
              "                <script type=\"text/javascript\">window.PlotlyConfig = {MathJaxConfig: 'local'};</script>\n",
              "        <script src=\"https://cdn.plot.ly/plotly-latest.min.js\"></script>    \n",
              "            <div id=\"447a0872-000f-43f8-8a50-055073fd8319\" class=\"plotly-graph-div\" style=\"height:525px; width:100%;\"></div>\n",
              "            <script type=\"text/javascript\">\n",
              "                \n",
              "                    window.PLOTLYENV=window.PLOTLYENV || {};\n",
              "                    \n",
              "                if (document.getElementById(\"447a0872-000f-43f8-8a50-055073fd8319\")) {\n",
              "                    Plotly.newPlot(\n",
              "                        '447a0872-000f-43f8-8a50-055073fd8319',\n",
              "                        [{\"hoverlabel\": {\"namelength\": 0}, \"hovertemplate\": \"jurisd=Allegany<br>Year=%{x}<br>Babies with Low Birth Weight=%{y}\", \"legendgroup\": \"jurisd=Allegany\", \"line\": {\"color\": \"#636efa\", \"dash\": \"solid\"}, \"mode\": \"lines\", \"name\": \"jurisd=Allegany\", \"showlegend\": true, \"type\": \"scatter\", \"x\": [2017, 2016, 2015, 2014, 2013, 2012, 2011, 2010], \"xaxis\": \"x\", \"y\": [6.6, 8.6, 9.8, 7.3, 9.8, 7.6, 8.9, 10.3], \"yaxis\": \"y\"}, {\"hoverlabel\": {\"namelength\": 0}, \"hovertemplate\": \"jurisd=Anne Arundel<br>Year=%{x}<br>Babies with Low Birth Weight=%{y}\", \"legendgroup\": \"jurisd=Anne Arundel\", \"line\": {\"color\": \"#EF553B\", \"dash\": \"solid\"}, \"mode\": \"lines\", \"name\": \"jurisd=Anne Arundel\", \"showlegend\": true, \"type\": \"scatter\", \"x\": [2017, 2016, 2015, 2014, 2013, 2012, 2011, 2010], \"xaxis\": \"x\", \"y\": [7.8, 7.4, 7.8, 8.1, 7.5, 7.8, 8.1, 8.2], \"yaxis\": \"y\"}, {\"hoverlabel\": {\"namelength\": 0}, \"hovertemplate\": \"jurisd=Baltimore City<br>Year=%{x}<br>Babies with Low Birth Weight=%{y}\", \"legendgroup\": \"jurisd=Baltimore City\", \"line\": {\"color\": \"#00cc96\", \"dash\": \"solid\"}, \"mode\": \"lines\", \"name\": \"jurisd=Baltimore City\", \"showlegend\": true, \"type\": \"scatter\", \"x\": [2017, 2016, 2015, 2014, 2013, 2012, 2011, 2010], \"xaxis\": \"x\", \"y\": [12.4, 11.7, 12.3, 11.5, 11.9, 11.8, 11.6, 11.7], \"yaxis\": \"y\"}, {\"hoverlabel\": {\"namelength\": 0}, \"hovertemplate\": \"jurisd=Baltimore County<br>Year=%{x}<br>Babies with Low Birth Weight=%{y}\", \"legendgroup\": \"jurisd=Baltimore County\", \"line\": {\"color\": \"#ab63fa\", \"dash\": \"solid\"}, \"mode\": \"lines\", \"name\": \"jurisd=Baltimore County\", \"showlegend\": true, \"type\": \"scatter\", \"x\": [2017, 2016, 2015, 2014, 2013, 2012, 2011, 2010], \"xaxis\": \"x\", \"y\": [9.5, 8.8, 9.0, 8.8, 8.5, 9.0, 9.1, 8.4], \"yaxis\": \"y\"}, {\"hoverlabel\": {\"namelength\": 0}, \"hovertemplate\": \"jurisd=Calvert<br>Year=%{x}<br>Babies with Low Birth Weight=%{y}\", \"legendgroup\": \"jurisd=Calvert\", \"line\": {\"color\": \"#FFA15A\", \"dash\": \"solid\"}, \"mode\": \"lines\", \"name\": \"jurisd=Calvert\", \"showlegend\": true, \"type\": \"scatter\", \"x\": [2017, 2016, 2015, 2014, 2013, 2012, 2011, 2010], \"xaxis\": \"x\", \"y\": [7.8, 6.1, 5.3, 7.1, 8.7, 6.9, 6.8, 6.0], \"yaxis\": \"y\"}, {\"hoverlabel\": {\"namelength\": 0}, \"hovertemplate\": \"jurisd=Caroline<br>Year=%{x}<br>Babies with Low Birth Weight=%{y}\", \"legendgroup\": \"jurisd=Caroline\", \"line\": {\"color\": \"#19d3f3\", \"dash\": \"solid\"}, \"mode\": \"lines\", \"name\": \"jurisd=Caroline\", \"showlegend\": true, \"type\": \"scatter\", \"x\": [2017, 2016, 2015, 2014, 2013, 2012, 2011, 2010], \"xaxis\": \"x\", \"y\": [7.4, 6.2, 8.7, 9.1, 6.6, 10.1, 8.4, 8.6], \"yaxis\": \"y\"}, {\"hoverlabel\": {\"namelength\": 0}, \"hovertemplate\": \"jurisd=Carroll<br>Year=%{x}<br>Babies with Low Birth Weight=%{y}\", \"legendgroup\": \"jurisd=Carroll\", \"line\": {\"color\": \"#FF6692\", \"dash\": \"solid\"}, \"mode\": \"lines\", \"name\": \"jurisd=Carroll\", \"showlegend\": true, \"type\": \"scatter\", \"x\": [2017, 2016, 2015, 2014, 2013, 2012, 2011, 2010], \"xaxis\": \"x\", \"y\": [6.8, 7.1, 5.9, 6.2, 7.3, 6.2, 5.8, 5.8], \"yaxis\": \"y\"}, {\"hoverlabel\": {\"namelength\": 0}, \"hovertemplate\": \"jurisd=Cecil<br>Year=%{x}<br>Babies with Low Birth Weight=%{y}\", \"legendgroup\": \"jurisd=Cecil\", \"line\": {\"color\": \"#B6E880\", \"dash\": \"solid\"}, \"mode\": \"lines\", \"name\": \"jurisd=Cecil\", \"showlegend\": true, \"type\": \"scatter\", \"x\": [2017, 2016, 2015, 2014, 2013, 2012, 2011, 2010], \"xaxis\": \"x\", \"y\": [7.4, 7.9, 8.9, 5.8, 6.9, 7.7, 8.7, 7.8], \"yaxis\": \"y\"}, {\"hoverlabel\": {\"namelength\": 0}, \"hovertemplate\": \"jurisd=Charles<br>Year=%{x}<br>Babies with Low Birth Weight=%{y}\", \"legendgroup\": \"jurisd=Charles\", \"line\": {\"color\": \"#FF97FF\", \"dash\": \"solid\"}, \"mode\": \"lines\", \"name\": \"jurisd=Charles\", \"showlegend\": true, \"type\": \"scatter\", \"x\": [2017, 2016, 2015, 2014, 2013, 2012, 2011, 2010], \"xaxis\": \"x\", \"y\": [11.1, 10.2, 9.0, 7.4, 8.0, 10.8, 10.0, 9.8], \"yaxis\": \"y\"}, {\"hoverlabel\": {\"namelength\": 0}, \"hovertemplate\": \"jurisd=Dorchester<br>Year=%{x}<br>Babies with Low Birth Weight=%{y}\", \"legendgroup\": \"jurisd=Dorchester\", \"line\": {\"color\": \"#FECB52\", \"dash\": \"solid\"}, \"mode\": \"lines\", \"name\": \"jurisd=Dorchester\", \"showlegend\": true, \"type\": \"scatter\", \"x\": [2017, 2016, 2015, 2014, 2013, 2012, 2011, 2010], \"xaxis\": \"x\", \"y\": [7.3, 9.7, 11.3, 10.6, 9.8, 8.9, 11.2, 11.3], \"yaxis\": \"y\"}, {\"hoverlabel\": {\"namelength\": 0}, \"hovertemplate\": \"jurisd=Frederick<br>Year=%{x}<br>Babies with Low Birth Weight=%{y}\", \"legendgroup\": \"jurisd=Frederick\", \"line\": {\"color\": \"#636efa\", \"dash\": \"solid\"}, \"mode\": \"lines\", \"name\": \"jurisd=Frederick\", \"showlegend\": true, \"type\": \"scatter\", \"x\": [2017, 2016, 2015, 2014, 2013, 2012, 2011, 2010], \"xaxis\": \"x\", \"y\": [6.9, 5.9, 7.4, 7.5, 7.4, 8.2, 7.5, 8.5], \"yaxis\": \"y\"}, {\"hoverlabel\": {\"namelength\": 0}, \"hovertemplate\": \"jurisd=Garrett<br>Year=%{x}<br>Babies with Low Birth Weight=%{y}\", \"legendgroup\": \"jurisd=Garrett\", \"line\": {\"color\": \"#EF553B\", \"dash\": \"solid\"}, \"mode\": \"lines\", \"name\": \"jurisd=Garrett\", \"showlegend\": true, \"type\": \"scatter\", \"x\": [2017, 2016, 2015, 2014, 2013, 2012, 2011, 2010], \"xaxis\": \"x\", \"y\": [11.0, 10.0, 8.2, 10.6, 7.6, 8.4, 6.0, 7.9], \"yaxis\": \"y\"}, {\"hoverlabel\": {\"namelength\": 0}, \"hovertemplate\": \"jurisd=Harford<br>Year=%{x}<br>Babies with Low Birth Weight=%{y}\", \"legendgroup\": \"jurisd=Harford\", \"line\": {\"color\": \"#00cc96\", \"dash\": \"solid\"}, \"mode\": \"lines\", \"name\": \"jurisd=Harford\", \"showlegend\": true, \"type\": \"scatter\", \"x\": [2017, 2016, 2015, 2014, 2013, 2012, 2011, 2010], \"xaxis\": \"x\", \"y\": [7.2, 7.6, 7.1, 7.5, 6.8, 6.8, 7.3, 7.6], \"yaxis\": \"y\"}, {\"hoverlabel\": {\"namelength\": 0}, \"hovertemplate\": \"jurisd=Howard<br>Year=%{x}<br>Babies with Low Birth Weight=%{y}\", \"legendgroup\": \"jurisd=Howard\", \"line\": {\"color\": \"#ab63fa\", \"dash\": \"solid\"}, \"mode\": \"lines\", \"name\": \"jurisd=Howard\", \"showlegend\": true, \"type\": \"scatter\", \"x\": [2017, 2016, 2015, 2014, 2013, 2012, 2011, 2010], \"xaxis\": \"x\", \"y\": [8.3, 8.4, 8.1, 8.0, 7.8, 8.0, 8.3, 7.7], \"yaxis\": \"y\"}, {\"hoverlabel\": {\"namelength\": 0}, \"hovertemplate\": \"jurisd=Kent<br>Year=%{x}<br>Babies with Low Birth Weight=%{y}\", \"legendgroup\": \"jurisd=Kent\", \"line\": {\"color\": \"#FFA15A\", \"dash\": \"solid\"}, \"mode\": \"lines\", \"name\": \"jurisd=Kent\", \"showlegend\": true, \"type\": \"scatter\", \"x\": [2017, 2016, 2015, 2014, 2013, 2012, 2011, 2010], \"xaxis\": \"x\", \"y\": [10.4, 8.1, 10.8, 12.1, 8.6, 16.9, 9.2, 10.8], \"yaxis\": \"y\"}, {\"hoverlabel\": {\"namelength\": 0}, \"hovertemplate\": \"jurisd=Montgomery<br>Year=%{x}<br>Babies with Low Birth Weight=%{y}\", \"legendgroup\": \"jurisd=Montgomery\", \"line\": {\"color\": \"#19d3f3\", \"dash\": \"solid\"}, \"mode\": \"lines\", \"name\": \"jurisd=Montgomery\", \"showlegend\": true, \"type\": \"scatter\", \"x\": [2017, 2016, 2015, 2014, 2013, 2012, 2011, 2010], \"xaxis\": \"x\", \"y\": [7.5, 7.2, 7.1, 7.7, 7.5, 7.4, 7.7, 7.7], \"yaxis\": \"y\"}, {\"hoverlabel\": {\"namelength\": 0}, \"hovertemplate\": \"jurisd=Prince George's<br>Year=%{x}<br>Babies with Low Birth Weight=%{y}\", \"legendgroup\": \"jurisd=Prince George's\", \"line\": {\"color\": \"#FF6692\", \"dash\": \"solid\"}, \"mode\": \"lines\", \"name\": \"jurisd=Prince George's\", \"showlegend\": true, \"type\": \"scatter\", \"x\": [2017, 2016, 2015, 2014, 2013, 2012, 2011, 2010], \"xaxis\": \"x\", \"y\": [9.8, 9.7, 9.1, 9.2, 9.4, 10.0, 10.0, 10.2], \"yaxis\": \"y\"}, {\"hoverlabel\": {\"namelength\": 0}, \"hovertemplate\": \"jurisd=Queen Anne's<br>Year=%{x}<br>Babies with Low Birth Weight=%{y}\", \"legendgroup\": \"jurisd=Queen Anne's\", \"line\": {\"color\": \"#B6E880\", \"dash\": \"solid\"}, \"mode\": \"lines\", \"name\": \"jurisd=Queen Anne's\", \"showlegend\": true, \"type\": \"scatter\", \"x\": [2017, 2016, 2015, 2014, 2013, 2012, 2011, 2010], \"xaxis\": \"x\", \"y\": [9.3, 7.6, 6.7, 5.1, 5.5, 7.4, 8.9, 10.5], \"yaxis\": \"y\"}, {\"hoverlabel\": {\"namelength\": 0}, \"hovertemplate\": \"jurisd=Saint Mary's<br>Year=%{x}<br>Babies with Low Birth Weight=%{y}\", \"legendgroup\": \"jurisd=Saint Mary's\", \"line\": {\"color\": \"#FF97FF\", \"dash\": \"solid\"}, \"mode\": \"lines\", \"name\": \"jurisd=Saint Mary's\", \"showlegend\": true, \"type\": \"scatter\", \"x\": [2017, 2016, 2015, 2014, 2013, 2012, 2011, 2010], \"xaxis\": \"x\", \"y\": [6.4, 6.5, 5.1, 7.7, 6.3, 7.2, 5.6, 4.9], \"yaxis\": \"y\"}, {\"hoverlabel\": {\"namelength\": 0}, \"hovertemplate\": \"jurisd=Somerset<br>Year=%{x}<br>Babies with Low Birth Weight=%{y}\", \"legendgroup\": \"jurisd=Somerset\", \"line\": {\"color\": \"#FECB52\", \"dash\": \"solid\"}, \"mode\": \"lines\", \"name\": \"jurisd=Somerset\", \"showlegend\": true, \"type\": \"scatter\", \"x\": [2017, 2016, 2015, 2014, 2013, 2012, 2011, 2010], \"xaxis\": \"x\", \"y\": [13.2, 10.2, 6.2, 9.6, 5.3, 7.6, 10.1, 7.4], \"yaxis\": \"y\"}, {\"hoverlabel\": {\"namelength\": 0}, \"hovertemplate\": \"jurisd=Talbot<br>Year=%{x}<br>Babies with Low Birth Weight=%{y}\", \"legendgroup\": \"jurisd=Talbot\", \"line\": {\"color\": \"#636efa\", \"dash\": \"solid\"}, \"mode\": \"lines\", \"name\": \"jurisd=Talbot\", \"showlegend\": true, \"type\": \"scatter\", \"x\": [2017, 2016, 2015, 2014, 2013, 2012, 2011, 2010], \"xaxis\": \"x\", \"y\": [7.3, 7.6, 4.3, 7.2, 8.7, 6.9, 8.3, 6.7], \"yaxis\": \"y\"}, {\"hoverlabel\": {\"namelength\": 0}, \"hovertemplate\": \"jurisd=Washington<br>Year=%{x}<br>Babies with Low Birth Weight=%{y}\", \"legendgroup\": \"jurisd=Washington\", \"line\": {\"color\": \"#EF553B\", \"dash\": \"solid\"}, \"mode\": \"lines\", \"name\": \"jurisd=Washington\", \"showlegend\": true, \"type\": \"scatter\", \"x\": [2017, 2016, 2015, 2014, 2013, 2012, 2011, 2010], \"xaxis\": \"x\", \"y\": [9.4, 9.4, 9.5, 9.0, 6.8, 8.8, 7.7, 9.1], \"yaxis\": \"y\"}, {\"hoverlabel\": {\"namelength\": 0}, \"hovertemplate\": \"jurisd=Wicomico<br>Year=%{x}<br>Babies with Low Birth Weight=%{y}\", \"legendgroup\": \"jurisd=Wicomico\", \"line\": {\"color\": \"#00cc96\", \"dash\": \"solid\"}, \"mode\": \"lines\", \"name\": \"jurisd=Wicomico\", \"showlegend\": true, \"type\": \"scatter\", \"x\": [2017, 2016, 2015, 2014, 2013, 2012, 2011, 2010], \"xaxis\": \"x\", \"y\": [9.9, 9.0, 9.1, 9.3, 8.1, 8.9, 9.0, 8.2], \"yaxis\": \"y\"}, {\"hoverlabel\": {\"namelength\": 0}, \"hovertemplate\": \"jurisd=Worcester<br>Year=%{x}<br>Babies with Low Birth Weight=%{y}\", \"legendgroup\": \"jurisd=Worcester\", \"line\": {\"color\": \"#ab63fa\", \"dash\": \"solid\"}, \"mode\": \"lines\", \"name\": \"jurisd=Worcester\", \"showlegend\": true, \"type\": \"scatter\", \"x\": [2017, 2016, 2015, 2014, 2013, 2012, 2011, 2010], \"xaxis\": \"x\", \"y\": [5.0, 6.0, 9.2, 8.2, 5.1, 5.3, 9.1, 5.3], \"yaxis\": \"y\"}],\n",
              "                        {\"legend\": {\"tracegroupgap\": 0}, \"template\": {\"data\": {\"bar\": [{\"error_x\": {\"color\": \"#2a3f5f\"}, \"error_y\": {\"color\": \"#2a3f5f\"}, \"marker\": {\"line\": {\"color\": \"#E5ECF6\", \"width\": 0.5}}, \"type\": \"bar\"}], \"barpolar\": [{\"marker\": {\"line\": {\"color\": \"#E5ECF6\", \"width\": 0.5}}, \"type\": \"barpolar\"}], \"carpet\": [{\"aaxis\": {\"endlinecolor\": \"#2a3f5f\", \"gridcolor\": \"white\", \"linecolor\": \"white\", \"minorgridcolor\": \"white\", \"startlinecolor\": \"#2a3f5f\"}, \"baxis\": {\"endlinecolor\": \"#2a3f5f\", \"gridcolor\": \"white\", \"linecolor\": \"white\", \"minorgridcolor\": \"white\", \"startlinecolor\": \"#2a3f5f\"}, \"type\": \"carpet\"}], \"choropleth\": [{\"colorbar\": {\"outlinewidth\": 0, \"ticks\": \"\"}, \"type\": \"choropleth\"}], \"contour\": [{\"colorbar\": {\"outlinewidth\": 0, \"ticks\": \"\"}, \"colorscale\": [[0.0, \"#0d0887\"], [0.1111111111111111, \"#46039f\"], [0.2222222222222222, \"#7201a8\"], [0.3333333333333333, \"#9c179e\"], [0.4444444444444444, \"#bd3786\"], [0.5555555555555556, \"#d8576b\"], [0.6666666666666666, \"#ed7953\"], [0.7777777777777778, \"#fb9f3a\"], [0.8888888888888888, \"#fdca26\"], [1.0, \"#f0f921\"]], \"type\": \"contour\"}], \"contourcarpet\": [{\"colorbar\": {\"outlinewidth\": 0, \"ticks\": \"\"}, \"type\": \"contourcarpet\"}], \"heatmap\": [{\"colorbar\": {\"outlinewidth\": 0, \"ticks\": \"\"}, \"colorscale\": [[0.0, \"#0d0887\"], [0.1111111111111111, \"#46039f\"], [0.2222222222222222, \"#7201a8\"], [0.3333333333333333, \"#9c179e\"], [0.4444444444444444, \"#bd3786\"], [0.5555555555555556, \"#d8576b\"], [0.6666666666666666, \"#ed7953\"], [0.7777777777777778, \"#fb9f3a\"], [0.8888888888888888, \"#fdca26\"], [1.0, \"#f0f921\"]], \"type\": \"heatmap\"}], \"heatmapgl\": [{\"colorbar\": {\"outlinewidth\": 0, \"ticks\": \"\"}, \"colorscale\": [[0.0, \"#0d0887\"], [0.1111111111111111, \"#46039f\"], [0.2222222222222222, \"#7201a8\"], [0.3333333333333333, \"#9c179e\"], [0.4444444444444444, \"#bd3786\"], [0.5555555555555556, \"#d8576b\"], [0.6666666666666666, \"#ed7953\"], [0.7777777777777778, \"#fb9f3a\"], [0.8888888888888888, \"#fdca26\"], [1.0, \"#f0f921\"]], \"type\": \"heatmapgl\"}], \"histogram\": [{\"marker\": {\"colorbar\": {\"outlinewidth\": 0, \"ticks\": \"\"}}, \"type\": \"histogram\"}], \"histogram2d\": [{\"colorbar\": {\"outlinewidth\": 0, \"ticks\": \"\"}, \"colorscale\": [[0.0, \"#0d0887\"], [0.1111111111111111, \"#46039f\"], [0.2222222222222222, \"#7201a8\"], [0.3333333333333333, \"#9c179e\"], [0.4444444444444444, \"#bd3786\"], [0.5555555555555556, \"#d8576b\"], [0.6666666666666666, \"#ed7953\"], [0.7777777777777778, \"#fb9f3a\"], [0.8888888888888888, \"#fdca26\"], [1.0, \"#f0f921\"]], \"type\": \"histogram2d\"}], \"histogram2dcontour\": [{\"colorbar\": {\"outlinewidth\": 0, \"ticks\": \"\"}, \"colorscale\": [[0.0, \"#0d0887\"], [0.1111111111111111, \"#46039f\"], [0.2222222222222222, \"#7201a8\"], [0.3333333333333333, \"#9c179e\"], [0.4444444444444444, \"#bd3786\"], [0.5555555555555556, \"#d8576b\"], [0.6666666666666666, \"#ed7953\"], [0.7777777777777778, \"#fb9f3a\"], [0.8888888888888888, \"#fdca26\"], [1.0, \"#f0f921\"]], \"type\": \"histogram2dcontour\"}], \"mesh3d\": [{\"colorbar\": {\"outlinewidth\": 0, \"ticks\": \"\"}, \"type\": \"mesh3d\"}], \"parcoords\": [{\"line\": {\"colorbar\": {\"outlinewidth\": 0, \"ticks\": \"\"}}, \"type\": \"parcoords\"}], \"pie\": [{\"automargin\": true, \"type\": \"pie\"}], \"scatter\": [{\"marker\": {\"colorbar\": {\"outlinewidth\": 0, \"ticks\": \"\"}}, \"type\": \"scatter\"}], \"scatter3d\": [{\"line\": {\"colorbar\": {\"outlinewidth\": 0, \"ticks\": \"\"}}, \"marker\": {\"colorbar\": {\"outlinewidth\": 0, \"ticks\": \"\"}}, \"type\": \"scatter3d\"}], \"scattercarpet\": [{\"marker\": {\"colorbar\": {\"outlinewidth\": 0, \"ticks\": \"\"}}, \"type\": \"scattercarpet\"}], \"scattergeo\": [{\"marker\": {\"colorbar\": {\"outlinewidth\": 0, \"ticks\": \"\"}}, \"type\": \"scattergeo\"}], \"scattergl\": [{\"marker\": {\"colorbar\": {\"outlinewidth\": 0, \"ticks\": \"\"}}, \"type\": \"scattergl\"}], \"scattermapbox\": [{\"marker\": {\"colorbar\": {\"outlinewidth\": 0, \"ticks\": \"\"}}, \"type\": \"scattermapbox\"}], \"scatterpolar\": [{\"marker\": {\"colorbar\": {\"outlinewidth\": 0, \"ticks\": \"\"}}, \"type\": \"scatterpolar\"}], \"scatterpolargl\": [{\"marker\": {\"colorbar\": {\"outlinewidth\": 0, \"ticks\": \"\"}}, \"type\": \"scatterpolargl\"}], \"scatterternary\": [{\"marker\": {\"colorbar\": {\"outlinewidth\": 0, \"ticks\": \"\"}}, \"type\": \"scatterternary\"}], \"surface\": [{\"colorbar\": {\"outlinewidth\": 0, \"ticks\": \"\"}, \"colorscale\": [[0.0, \"#0d0887\"], [0.1111111111111111, \"#46039f\"], [0.2222222222222222, \"#7201a8\"], [0.3333333333333333, \"#9c179e\"], [0.4444444444444444, \"#bd3786\"], [0.5555555555555556, \"#d8576b\"], [0.6666666666666666, \"#ed7953\"], [0.7777777777777778, \"#fb9f3a\"], [0.8888888888888888, \"#fdca26\"], [1.0, \"#f0f921\"]], \"type\": \"surface\"}], \"table\": [{\"cells\": {\"fill\": {\"color\": \"#EBF0F8\"}, \"line\": {\"color\": \"white\"}}, \"header\": {\"fill\": {\"color\": \"#C8D4E3\"}, \"line\": {\"color\": \"white\"}}, \"type\": \"table\"}]}, \"layout\": {\"annotationdefaults\": {\"arrowcolor\": \"#2a3f5f\", \"arrowhead\": 0, \"arrowwidth\": 1}, \"coloraxis\": {\"colorbar\": {\"outlinewidth\": 0, \"ticks\": \"\"}}, \"colorscale\": {\"diverging\": [[0, \"#8e0152\"], [0.1, \"#c51b7d\"], [0.2, \"#de77ae\"], [0.3, \"#f1b6da\"], [0.4, \"#fde0ef\"], [0.5, \"#f7f7f7\"], [0.6, \"#e6f5d0\"], [0.7, \"#b8e186\"], [0.8, \"#7fbc41\"], [0.9, \"#4d9221\"], [1, \"#276419\"]], \"sequential\": [[0.0, \"#0d0887\"], [0.1111111111111111, \"#46039f\"], [0.2222222222222222, \"#7201a8\"], [0.3333333333333333, \"#9c179e\"], [0.4444444444444444, \"#bd3786\"], [0.5555555555555556, \"#d8576b\"], [0.6666666666666666, \"#ed7953\"], [0.7777777777777778, \"#fb9f3a\"], [0.8888888888888888, \"#fdca26\"], [1.0, \"#f0f921\"]], \"sequentialminus\": [[0.0, \"#0d0887\"], [0.1111111111111111, \"#46039f\"], [0.2222222222222222, \"#7201a8\"], [0.3333333333333333, \"#9c179e\"], [0.4444444444444444, \"#bd3786\"], [0.5555555555555556, \"#d8576b\"], [0.6666666666666666, \"#ed7953\"], [0.7777777777777778, \"#fb9f3a\"], [0.8888888888888888, \"#fdca26\"], [1.0, \"#f0f921\"]]}, \"colorway\": [\"#636efa\", \"#EF553B\", \"#00cc96\", \"#ab63fa\", \"#FFA15A\", \"#19d3f3\", \"#FF6692\", \"#B6E880\", \"#FF97FF\", \"#FECB52\"], \"font\": {\"color\": \"#2a3f5f\"}, \"geo\": {\"bgcolor\": \"white\", \"lakecolor\": \"white\", \"landcolor\": \"#E5ECF6\", \"showlakes\": true, \"showland\": true, \"subunitcolor\": \"white\"}, \"hoverlabel\": {\"align\": \"left\"}, \"hovermode\": \"closest\", \"mapbox\": {\"style\": \"light\"}, \"paper_bgcolor\": \"white\", \"plot_bgcolor\": \"#E5ECF6\", \"polar\": {\"angularaxis\": {\"gridcolor\": \"white\", \"linecolor\": \"white\", \"ticks\": \"\"}, \"bgcolor\": \"#E5ECF6\", \"radialaxis\": {\"gridcolor\": \"white\", \"linecolor\": \"white\", \"ticks\": \"\"}}, \"scene\": {\"xaxis\": {\"backgroundcolor\": \"#E5ECF6\", \"gridcolor\": \"white\", \"gridwidth\": 2, \"linecolor\": \"white\", \"showbackground\": true, \"ticks\": \"\", \"zerolinecolor\": \"white\"}, \"yaxis\": {\"backgroundcolor\": \"#E5ECF6\", \"gridcolor\": \"white\", \"gridwidth\": 2, \"linecolor\": \"white\", \"showbackground\": true, \"ticks\": \"\", \"zerolinecolor\": \"white\"}, \"zaxis\": {\"backgroundcolor\": \"#E5ECF6\", \"gridcolor\": \"white\", \"gridwidth\": 2, \"linecolor\": \"white\", \"showbackground\": true, \"ticks\": \"\", \"zerolinecolor\": \"white\"}}, \"shapedefaults\": {\"line\": {\"color\": \"#2a3f5f\"}}, \"ternary\": {\"aaxis\": {\"gridcolor\": \"white\", \"linecolor\": \"white\", \"ticks\": \"\"}, \"baxis\": {\"gridcolor\": \"white\", \"linecolor\": \"white\", \"ticks\": \"\"}, \"bgcolor\": \"#E5ECF6\", \"caxis\": {\"gridcolor\": \"white\", \"linecolor\": \"white\", \"ticks\": \"\"}}, \"title\": {\"x\": 0.05}, \"xaxis\": {\"automargin\": true, \"gridcolor\": \"white\", \"linecolor\": \"white\", \"ticks\": \"\", \"title\": {\"standoff\": 15}, \"zerolinecolor\": \"white\", \"zerolinewidth\": 2}, \"yaxis\": {\"automargin\": true, \"gridcolor\": \"white\", \"linecolor\": \"white\", \"ticks\": \"\", \"title\": {\"standoff\": 15}, \"zerolinecolor\": \"white\", \"zerolinewidth\": 2}}}, \"title\": {\"text\": \"Babies with Low Birth Weight in Maryland, 2010-2017\"}, \"xaxis\": {\"anchor\": \"y\", \"domain\": [0.0, 1.0], \"title\": {\"text\": \"Year\"}}, \"yaxis\": {\"anchor\": \"x\", \"domain\": [0.0, 1.0], \"title\": {\"text\": \"Babies with Low Birth Weight\"}}},\n",
              "                        {\"responsive\": true}\n",
              "                    ).then(function(){\n",
              "                            \n",
              "var gd = document.getElementById('447a0872-000f-43f8-8a50-055073fd8319');\n",
              "var x = new MutationObserver(function (mutations, observer) {{\n",
              "        var display = window.getComputedStyle(gd).display;\n",
              "        if (!display || display === 'none') {{\n",
              "            console.log([gd, 'removed!']);\n",
              "            Plotly.purge(gd);\n",
              "            observer.disconnect();\n",
              "        }}\n",
              "}});\n",
              "\n",
              "// Listen for the removal of the full notebook cells\n",
              "var notebookContainer = gd.closest('#notebook-container');\n",
              "if (notebookContainer) {{\n",
              "    x.observe(notebookContainer, {childList: true});\n",
              "}}\n",
              "\n",
              "// Listen for the clearing of the current output cell\n",
              "var outputEl = gd.closest('.output');\n",
              "if (outputEl) {{\n",
              "    x.observe(outputEl, {childList: true});\n",
              "}}\n",
              "\n",
              "                        })\n",
              "                };\n",
              "                \n",
              "            </script>\n",
              "        </div>\n",
              "</body>\n",
              "</html>"
            ]
          },
          "metadata": {
            "tags": []
          }
        }
      ]
    },
    {
      "cell_type": "code",
      "metadata": {
        "colab": {
          "base_uri": "https://localhost:8080/",
          "height": 204
        },
        "id": "3azoR_5ifC24",
        "outputId": "33396d0b-0311-4574-a1e9-0c7d8bc2c931"
      },
      "source": [
        "df_all.tail()"
      ],
      "execution_count": 123,
      "outputs": [
        {
          "output_type": "execute_result",
          "data": {
            "text/html": [
              "<div>\n",
              "<style scoped>\n",
              "    .dataframe tbody tr th:only-of-type {\n",
              "        vertical-align: middle;\n",
              "    }\n",
              "\n",
              "    .dataframe tbody tr th {\n",
              "        vertical-align: top;\n",
              "    }\n",
              "\n",
              "    .dataframe thead th {\n",
              "        text-align: right;\n",
              "    }\n",
              "</style>\n",
              "<table border=\"1\" class=\"dataframe\">\n",
              "  <thead>\n",
              "    <tr style=\"text-align: right;\">\n",
              "      <th></th>\n",
              "      <th>jurisd</th>\n",
              "      <th>race/ethn</th>\n",
              "      <th>yr</th>\n",
              "      <th>teen_birth_rate</th>\n",
              "      <th>early_prenatal_care</th>\n",
              "      <th>babies_low_birth_weight</th>\n",
              "    </tr>\n",
              "  </thead>\n",
              "  <tbody>\n",
              "    <tr>\n",
              "      <th>195</th>\n",
              "      <td>Somerset</td>\n",
              "      <td>All races/ ethnicities (aggregated)</td>\n",
              "      <td>2010</td>\n",
              "      <td>31.6</td>\n",
              "      <td>73.6</td>\n",
              "      <td>7.4</td>\n",
              "    </tr>\n",
              "    <tr>\n",
              "      <th>196</th>\n",
              "      <td>Talbot</td>\n",
              "      <td>All races/ ethnicities (aggregated)</td>\n",
              "      <td>2010</td>\n",
              "      <td>20.4</td>\n",
              "      <td>79.4</td>\n",
              "      <td>6.7</td>\n",
              "    </tr>\n",
              "    <tr>\n",
              "      <th>197</th>\n",
              "      <td>Washington</td>\n",
              "      <td>All races/ ethnicities (aggregated)</td>\n",
              "      <td>2010</td>\n",
              "      <td>36.0</td>\n",
              "      <td>64.0</td>\n",
              "      <td>9.1</td>\n",
              "    </tr>\n",
              "    <tr>\n",
              "      <th>198</th>\n",
              "      <td>Wicomico</td>\n",
              "      <td>All races/ ethnicities (aggregated)</td>\n",
              "      <td>2010</td>\n",
              "      <td>30.9</td>\n",
              "      <td>67.4</td>\n",
              "      <td>8.2</td>\n",
              "    </tr>\n",
              "    <tr>\n",
              "      <th>199</th>\n",
              "      <td>Worcester</td>\n",
              "      <td>All races/ ethnicities (aggregated)</td>\n",
              "      <td>2010</td>\n",
              "      <td>26.6</td>\n",
              "      <td>73.4</td>\n",
              "      <td>5.3</td>\n",
              "    </tr>\n",
              "  </tbody>\n",
              "</table>\n",
              "</div>"
            ],
            "text/plain": [
              "         jurisd  ... babies_low_birth_weight\n",
              "195    Somerset  ...                     7.4\n",
              "196      Talbot  ...                     6.7\n",
              "197  Washington  ...                     9.1\n",
              "198    Wicomico  ...                     8.2\n",
              "199   Worcester  ...                     5.3\n",
              "\n",
              "[5 rows x 6 columns]"
            ]
          },
          "metadata": {
            "tags": []
          },
          "execution_count": 123
        }
      ]
    },
    {
      "cell_type": "code",
      "metadata": {
        "colab": {
          "base_uri": "https://localhost:8080/",
          "height": 204
        },
        "id": "fKISQVx8fhb8",
        "outputId": "c0e1a06c-5d5e-4675-c745-0330bd791a83"
      },
      "source": [
        "df_all.head()"
      ],
      "execution_count": 124,
      "outputs": [
        {
          "output_type": "execute_result",
          "data": {
            "text/html": [
              "<div>\n",
              "<style scoped>\n",
              "    .dataframe tbody tr th:only-of-type {\n",
              "        vertical-align: middle;\n",
              "    }\n",
              "\n",
              "    .dataframe tbody tr th {\n",
              "        vertical-align: top;\n",
              "    }\n",
              "\n",
              "    .dataframe thead th {\n",
              "        text-align: right;\n",
              "    }\n",
              "</style>\n",
              "<table border=\"1\" class=\"dataframe\">\n",
              "  <thead>\n",
              "    <tr style=\"text-align: right;\">\n",
              "      <th></th>\n",
              "      <th>jurisd</th>\n",
              "      <th>race/ethn</th>\n",
              "      <th>yr</th>\n",
              "      <th>teen_birth_rate</th>\n",
              "      <th>early_prenatal_care</th>\n",
              "      <th>babies_low_birth_weight</th>\n",
              "    </tr>\n",
              "  </thead>\n",
              "  <tbody>\n",
              "    <tr>\n",
              "      <th>0</th>\n",
              "      <td>State</td>\n",
              "      <td>All races/ ethnicities (aggregated)</td>\n",
              "      <td>2017</td>\n",
              "      <td>14.2</td>\n",
              "      <td>69.6</td>\n",
              "      <td>8.9</td>\n",
              "    </tr>\n",
              "    <tr>\n",
              "      <th>1</th>\n",
              "      <td>Allegany</td>\n",
              "      <td>All races/ ethnicities (aggregated)</td>\n",
              "      <td>2017</td>\n",
              "      <td>23.5</td>\n",
              "      <td>78.1</td>\n",
              "      <td>6.6</td>\n",
              "    </tr>\n",
              "    <tr>\n",
              "      <th>2</th>\n",
              "      <td>Anne Arundel</td>\n",
              "      <td>All races/ ethnicities (aggregated)</td>\n",
              "      <td>2017</td>\n",
              "      <td>11.9</td>\n",
              "      <td>71.0</td>\n",
              "      <td>7.8</td>\n",
              "    </tr>\n",
              "    <tr>\n",
              "      <th>3</th>\n",
              "      <td>Baltimore City</td>\n",
              "      <td>All races/ ethnicities (aggregated)</td>\n",
              "      <td>2017</td>\n",
              "      <td>28.9</td>\n",
              "      <td>67.1</td>\n",
              "      <td>12.4</td>\n",
              "    </tr>\n",
              "    <tr>\n",
              "      <th>4</th>\n",
              "      <td>Baltimore County</td>\n",
              "      <td>All races/ ethnicities (aggregated)</td>\n",
              "      <td>2017</td>\n",
              "      <td>11.0</td>\n",
              "      <td>69.0</td>\n",
              "      <td>9.5</td>\n",
              "    </tr>\n",
              "  </tbody>\n",
              "</table>\n",
              "</div>"
            ],
            "text/plain": [
              "             jurisd  ... babies_low_birth_weight\n",
              "0             State  ...                     8.9\n",
              "1          Allegany  ...                     6.6\n",
              "2      Anne Arundel  ...                     7.8\n",
              "3    Baltimore City  ...                    12.4\n",
              "4  Baltimore County  ...                     9.5\n",
              "\n",
              "[5 rows x 6 columns]"
            ]
          },
          "metadata": {
            "tags": []
          },
          "execution_count": 124
        }
      ]
    },
    {
      "cell_type": "code",
      "metadata": {
        "colab": {
          "base_uri": "https://localhost:8080/",
          "height": 419
        },
        "id": "QlXHhCcMreHh",
        "outputId": "5db6c407-e0e2-4a78-c8bf-4ce04aa0ce8d"
      },
      "source": [
        "df_all_races"
      ],
      "execution_count": 125,
      "outputs": [
        {
          "output_type": "execute_result",
          "data": {
            "text/html": [
              "<div>\n",
              "<style scoped>\n",
              "    .dataframe tbody tr th:only-of-type {\n",
              "        vertical-align: middle;\n",
              "    }\n",
              "\n",
              "    .dataframe tbody tr th {\n",
              "        vertical-align: top;\n",
              "    }\n",
              "\n",
              "    .dataframe thead th {\n",
              "        text-align: right;\n",
              "    }\n",
              "</style>\n",
              "<table border=\"1\" class=\"dataframe\">\n",
              "  <thead>\n",
              "    <tr style=\"text-align: right;\">\n",
              "      <th></th>\n",
              "      <th>jurisd</th>\n",
              "      <th>race/ethn</th>\n",
              "      <th>yr</th>\n",
              "      <th>teen_birth_rate</th>\n",
              "      <th>early_prenatal_care</th>\n",
              "      <th>babies_low_birth_weight</th>\n",
              "    </tr>\n",
              "  </thead>\n",
              "  <tbody>\n",
              "    <tr>\n",
              "      <th>1</th>\n",
              "      <td>Allegany</td>\n",
              "      <td>All races/ ethnicities (aggregated)</td>\n",
              "      <td>2017</td>\n",
              "      <td>23.5</td>\n",
              "      <td>78.1</td>\n",
              "      <td>6.6</td>\n",
              "    </tr>\n",
              "    <tr>\n",
              "      <th>2</th>\n",
              "      <td>Anne Arundel</td>\n",
              "      <td>All races/ ethnicities (aggregated)</td>\n",
              "      <td>2017</td>\n",
              "      <td>11.9</td>\n",
              "      <td>71.0</td>\n",
              "      <td>7.8</td>\n",
              "    </tr>\n",
              "    <tr>\n",
              "      <th>3</th>\n",
              "      <td>Baltimore City</td>\n",
              "      <td>All races/ ethnicities (aggregated)</td>\n",
              "      <td>2017</td>\n",
              "      <td>28.9</td>\n",
              "      <td>67.1</td>\n",
              "      <td>12.4</td>\n",
              "    </tr>\n",
              "    <tr>\n",
              "      <th>4</th>\n",
              "      <td>Baltimore County</td>\n",
              "      <td>All races/ ethnicities (aggregated)</td>\n",
              "      <td>2017</td>\n",
              "      <td>11.0</td>\n",
              "      <td>69.0</td>\n",
              "      <td>9.5</td>\n",
              "    </tr>\n",
              "    <tr>\n",
              "      <th>5</th>\n",
              "      <td>Calvert</td>\n",
              "      <td>All races/ ethnicities (aggregated)</td>\n",
              "      <td>2017</td>\n",
              "      <td>8.1</td>\n",
              "      <td>77.1</td>\n",
              "      <td>7.8</td>\n",
              "    </tr>\n",
              "    <tr>\n",
              "      <th>...</th>\n",
              "      <td>...</td>\n",
              "      <td>...</td>\n",
              "      <td>...</td>\n",
              "      <td>...</td>\n",
              "      <td>...</td>\n",
              "      <td>...</td>\n",
              "    </tr>\n",
              "    <tr>\n",
              "      <th>195</th>\n",
              "      <td>Somerset</td>\n",
              "      <td>All races/ ethnicities (aggregated)</td>\n",
              "      <td>2010</td>\n",
              "      <td>31.6</td>\n",
              "      <td>73.6</td>\n",
              "      <td>7.4</td>\n",
              "    </tr>\n",
              "    <tr>\n",
              "      <th>196</th>\n",
              "      <td>Talbot</td>\n",
              "      <td>All races/ ethnicities (aggregated)</td>\n",
              "      <td>2010</td>\n",
              "      <td>20.4</td>\n",
              "      <td>79.4</td>\n",
              "      <td>6.7</td>\n",
              "    </tr>\n",
              "    <tr>\n",
              "      <th>197</th>\n",
              "      <td>Washington</td>\n",
              "      <td>All races/ ethnicities (aggregated)</td>\n",
              "      <td>2010</td>\n",
              "      <td>36.0</td>\n",
              "      <td>64.0</td>\n",
              "      <td>9.1</td>\n",
              "    </tr>\n",
              "    <tr>\n",
              "      <th>198</th>\n",
              "      <td>Wicomico</td>\n",
              "      <td>All races/ ethnicities (aggregated)</td>\n",
              "      <td>2010</td>\n",
              "      <td>30.9</td>\n",
              "      <td>67.4</td>\n",
              "      <td>8.2</td>\n",
              "    </tr>\n",
              "    <tr>\n",
              "      <th>199</th>\n",
              "      <td>Worcester</td>\n",
              "      <td>All races/ ethnicities (aggregated)</td>\n",
              "      <td>2010</td>\n",
              "      <td>26.6</td>\n",
              "      <td>73.4</td>\n",
              "      <td>5.3</td>\n",
              "    </tr>\n",
              "  </tbody>\n",
              "</table>\n",
              "<p>192 rows × 6 columns</p>\n",
              "</div>"
            ],
            "text/plain": [
              "               jurisd  ... babies_low_birth_weight\n",
              "1            Allegany  ...                     6.6\n",
              "2        Anne Arundel  ...                     7.8\n",
              "3      Baltimore City  ...                    12.4\n",
              "4    Baltimore County  ...                     9.5\n",
              "5             Calvert  ...                     7.8\n",
              "..                ...  ...                     ...\n",
              "195          Somerset  ...                     7.4\n",
              "196            Talbot  ...                     6.7\n",
              "197        Washington  ...                     9.1\n",
              "198          Wicomico  ...                     8.2\n",
              "199         Worcester  ...                     5.3\n",
              "\n",
              "[192 rows x 6 columns]"
            ]
          },
          "metadata": {
            "tags": []
          },
          "execution_count": 125
        }
      ]
    },
    {
      "cell_type": "code",
      "metadata": {
        "colab": {
          "base_uri": "https://localhost:8080/",
          "height": 204
        },
        "id": "2Vu81UsItBWN",
        "outputId": "78c9c307-7890-4987-98a4-7312bae5cc5d"
      },
      "source": [
        "# new dataframe with only 5 largest counties in Maryland\n",
        "df_top5 = df_all_races[df_all_races[\"jurisd\"].isin([\"Montgomery\",\"Prince George's\",\"Baltimore County\",\"Baltimore City\",\"Anne Arundel\"])]\n",
        "df_top5.head()"
      ],
      "execution_count": 126,
      "outputs": [
        {
          "output_type": "execute_result",
          "data": {
            "text/html": [
              "<div>\n",
              "<style scoped>\n",
              "    .dataframe tbody tr th:only-of-type {\n",
              "        vertical-align: middle;\n",
              "    }\n",
              "\n",
              "    .dataframe tbody tr th {\n",
              "        vertical-align: top;\n",
              "    }\n",
              "\n",
              "    .dataframe thead th {\n",
              "        text-align: right;\n",
              "    }\n",
              "</style>\n",
              "<table border=\"1\" class=\"dataframe\">\n",
              "  <thead>\n",
              "    <tr style=\"text-align: right;\">\n",
              "      <th></th>\n",
              "      <th>jurisd</th>\n",
              "      <th>race/ethn</th>\n",
              "      <th>yr</th>\n",
              "      <th>teen_birth_rate</th>\n",
              "      <th>early_prenatal_care</th>\n",
              "      <th>babies_low_birth_weight</th>\n",
              "    </tr>\n",
              "  </thead>\n",
              "  <tbody>\n",
              "    <tr>\n",
              "      <th>2</th>\n",
              "      <td>Anne Arundel</td>\n",
              "      <td>All races/ ethnicities (aggregated)</td>\n",
              "      <td>2017</td>\n",
              "      <td>11.9</td>\n",
              "      <td>71.0</td>\n",
              "      <td>7.8</td>\n",
              "    </tr>\n",
              "    <tr>\n",
              "      <th>3</th>\n",
              "      <td>Baltimore City</td>\n",
              "      <td>All races/ ethnicities (aggregated)</td>\n",
              "      <td>2017</td>\n",
              "      <td>28.9</td>\n",
              "      <td>67.1</td>\n",
              "      <td>12.4</td>\n",
              "    </tr>\n",
              "    <tr>\n",
              "      <th>4</th>\n",
              "      <td>Baltimore County</td>\n",
              "      <td>All races/ ethnicities (aggregated)</td>\n",
              "      <td>2017</td>\n",
              "      <td>11.0</td>\n",
              "      <td>69.0</td>\n",
              "      <td>9.5</td>\n",
              "    </tr>\n",
              "    <tr>\n",
              "      <th>16</th>\n",
              "      <td>Montgomery</td>\n",
              "      <td>All races/ ethnicities (aggregated)</td>\n",
              "      <td>2017</td>\n",
              "      <td>9.5</td>\n",
              "      <td>70.9</td>\n",
              "      <td>7.5</td>\n",
              "    </tr>\n",
              "    <tr>\n",
              "      <th>17</th>\n",
              "      <td>Prince George's</td>\n",
              "      <td>All races/ ethnicities (aggregated)</td>\n",
              "      <td>2017</td>\n",
              "      <td>19.3</td>\n",
              "      <td>59.1</td>\n",
              "      <td>9.8</td>\n",
              "    </tr>\n",
              "  </tbody>\n",
              "</table>\n",
              "</div>"
            ],
            "text/plain": [
              "              jurisd  ... babies_low_birth_weight\n",
              "2       Anne Arundel  ...                     7.8\n",
              "3     Baltimore City  ...                    12.4\n",
              "4   Baltimore County  ...                     9.5\n",
              "16        Montgomery  ...                     7.5\n",
              "17   Prince George's  ...                     9.8\n",
              "\n",
              "[5 rows x 6 columns]"
            ]
          },
          "metadata": {
            "tags": []
          },
          "execution_count": 126
        }
      ]
    },
    {
      "cell_type": "code",
      "metadata": {
        "colab": {
          "base_uri": "https://localhost:8080/",
          "height": 204
        },
        "id": "MQfmH2QpvgbF",
        "outputId": "2a485e43-3261-4b9a-cbf3-c9372593456f"
      },
      "source": [
        "# new dataframe with only 5 smallest counties in Maryland\n",
        "df_bot5=df_all_races[df_all_races[\"jurisd\"].isin([\"Caroline\", \"Dorchester\", \"Garrett\", \"Somerset\", \"Kent\"])]\n",
        "df_bot5.head()"
      ],
      "execution_count": 127,
      "outputs": [
        {
          "output_type": "execute_result",
          "data": {
            "text/html": [
              "<div>\n",
              "<style scoped>\n",
              "    .dataframe tbody tr th:only-of-type {\n",
              "        vertical-align: middle;\n",
              "    }\n",
              "\n",
              "    .dataframe tbody tr th {\n",
              "        vertical-align: top;\n",
              "    }\n",
              "\n",
              "    .dataframe thead th {\n",
              "        text-align: right;\n",
              "    }\n",
              "</style>\n",
              "<table border=\"1\" class=\"dataframe\">\n",
              "  <thead>\n",
              "    <tr style=\"text-align: right;\">\n",
              "      <th></th>\n",
              "      <th>jurisd</th>\n",
              "      <th>race/ethn</th>\n",
              "      <th>yr</th>\n",
              "      <th>teen_birth_rate</th>\n",
              "      <th>early_prenatal_care</th>\n",
              "      <th>babies_low_birth_weight</th>\n",
              "    </tr>\n",
              "  </thead>\n",
              "  <tbody>\n",
              "    <tr>\n",
              "      <th>6</th>\n",
              "      <td>Caroline</td>\n",
              "      <td>All races/ ethnicities (aggregated)</td>\n",
              "      <td>2017</td>\n",
              "      <td>15.8</td>\n",
              "      <td>71.3</td>\n",
              "      <td>7.4</td>\n",
              "    </tr>\n",
              "    <tr>\n",
              "      <th>10</th>\n",
              "      <td>Dorchester</td>\n",
              "      <td>All races/ ethnicities (aggregated)</td>\n",
              "      <td>2017</td>\n",
              "      <td>21.4</td>\n",
              "      <td>78.4</td>\n",
              "      <td>7.3</td>\n",
              "    </tr>\n",
              "    <tr>\n",
              "      <th>12</th>\n",
              "      <td>Garrett</td>\n",
              "      <td>All races/ ethnicities (aggregated)</td>\n",
              "      <td>2017</td>\n",
              "      <td>17.9</td>\n",
              "      <td>78.9</td>\n",
              "      <td>11.0</td>\n",
              "    </tr>\n",
              "    <tr>\n",
              "      <th>15</th>\n",
              "      <td>Kent</td>\n",
              "      <td>All races/ ethnicities (aggregated)</td>\n",
              "      <td>2017</td>\n",
              "      <td>8.5</td>\n",
              "      <td>80.3</td>\n",
              "      <td>10.4</td>\n",
              "    </tr>\n",
              "    <tr>\n",
              "      <th>20</th>\n",
              "      <td>Somerset</td>\n",
              "      <td>All races/ ethnicities (aggregated)</td>\n",
              "      <td>2017</td>\n",
              "      <td>13.0</td>\n",
              "      <td>76.4</td>\n",
              "      <td>13.2</td>\n",
              "    </tr>\n",
              "  </tbody>\n",
              "</table>\n",
              "</div>"
            ],
            "text/plain": [
              "        jurisd  ... babies_low_birth_weight\n",
              "6     Caroline  ...                     7.4\n",
              "10  Dorchester  ...                     7.3\n",
              "12     Garrett  ...                    11.0\n",
              "15        Kent  ...                    10.4\n",
              "20    Somerset  ...                    13.2\n",
              "\n",
              "[5 rows x 6 columns]"
            ]
          },
          "metadata": {
            "tags": []
          },
          "execution_count": 127
        }
      ]
    },
    {
      "cell_type": "code",
      "metadata": {
        "colab": {
          "base_uri": "https://localhost:8080/",
          "height": 542
        },
        "id": "9egwh5TlspqR",
        "outputId": "d9daa274-997e-42be-df83-fb884fd44a27"
      },
      "source": [
        "# line graph of teen birth rate for 5 largest counties in Maryland\n",
        "line_teen_top5=px.line(df_top5, x=\"yr\", y=\"teen_birth_rate\", color=\"jurisd\", title=\"Teen Birth Rate for 5 Largest Counties in Maryland, 2010-2017\", labels={\"yr\":\"Year\", \"teen_birth_rate\": \"Teen Birth Rate\"})\n",
        "line_teen_top5"
      ],
      "execution_count": 128,
      "outputs": [
        {
          "output_type": "display_data",
          "data": {
            "text/html": [
              "<html>\n",
              "<head><meta charset=\"utf-8\" /></head>\n",
              "<body>\n",
              "    <div>\n",
              "            <script src=\"https://cdnjs.cloudflare.com/ajax/libs/mathjax/2.7.5/MathJax.js?config=TeX-AMS-MML_SVG\"></script><script type=\"text/javascript\">if (window.MathJax) {MathJax.Hub.Config({SVG: {font: \"STIX-Web\"}});}</script>\n",
              "                <script type=\"text/javascript\">window.PlotlyConfig = {MathJaxConfig: 'local'};</script>\n",
              "        <script src=\"https://cdn.plot.ly/plotly-latest.min.js\"></script>    \n",
              "            <div id=\"5fce007a-90c4-41c9-857b-8bb309d02b2d\" class=\"plotly-graph-div\" style=\"height:525px; width:100%;\"></div>\n",
              "            <script type=\"text/javascript\">\n",
              "                \n",
              "                    window.PLOTLYENV=window.PLOTLYENV || {};\n",
              "                    \n",
              "                if (document.getElementById(\"5fce007a-90c4-41c9-857b-8bb309d02b2d\")) {\n",
              "                    Plotly.newPlot(\n",
              "                        '5fce007a-90c4-41c9-857b-8bb309d02b2d',\n",
              "                        [{\"hoverlabel\": {\"namelength\": 0}, \"hovertemplate\": \"jurisd=Anne Arundel<br>Year=%{x}<br>Teen Birth Rate=%{y}\", \"legendgroup\": \"jurisd=Anne Arundel\", \"line\": {\"color\": \"#636efa\", \"dash\": \"solid\"}, \"mode\": \"lines\", \"name\": \"jurisd=Anne Arundel\", \"showlegend\": true, \"type\": \"scatter\", \"x\": [2017, 2016, 2015, 2014, 2013, 2012, 2011, 2010], \"xaxis\": \"x\", \"y\": [11.9, 13.4, 14.4, 13.9, 15.6, 20.3, 22.3, 25.8], \"yaxis\": \"y\"}, {\"hoverlabel\": {\"namelength\": 0}, \"hovertemplate\": \"jurisd=Baltimore City<br>Year=%{x}<br>Teen Birth Rate=%{y}\", \"legendgroup\": \"jurisd=Baltimore City\", \"line\": {\"color\": \"#EF553B\", \"dash\": \"solid\"}, \"mode\": \"lines\", \"name\": \"jurisd=Baltimore City\", \"showlegend\": true, \"type\": \"scatter\", \"x\": [2017, 2016, 2015, 2014, 2013, 2012, 2011, 2010], \"xaxis\": \"x\", \"y\": [28.9, 32.6, 36.2, 41.0, 43.4, 46.9, 50.7, 53.3], \"yaxis\": \"y\"}, {\"hoverlabel\": {\"namelength\": 0}, \"hovertemplate\": \"jurisd=Baltimore County<br>Year=%{x}<br>Teen Birth Rate=%{y}\", \"legendgroup\": \"jurisd=Baltimore County\", \"line\": {\"color\": \"#00cc96\", \"dash\": \"solid\"}, \"mode\": \"lines\", \"name\": \"jurisd=Baltimore County\", \"showlegend\": true, \"type\": \"scatter\", \"x\": [2017, 2016, 2015, 2014, 2013, 2012, 2011, 2010], \"xaxis\": \"x\", \"y\": [11.0, 12.7, 14.6, 15.0, 15.4, 17.2, 21.5, 22.5], \"yaxis\": \"y\"}, {\"hoverlabel\": {\"namelength\": 0}, \"hovertemplate\": \"jurisd=Montgomery<br>Year=%{x}<br>Teen Birth Rate=%{y}\", \"legendgroup\": \"jurisd=Montgomery\", \"line\": {\"color\": \"#ab63fa\", \"dash\": \"solid\"}, \"mode\": \"lines\", \"name\": \"jurisd=Montgomery\", \"showlegend\": true, \"type\": \"scatter\", \"x\": [2017, 2016, 2015, 2014, 2013, 2012, 2011, 2010], \"xaxis\": \"x\", \"y\": [9.5, 11.2, 11.6, 12.3, 12.8, 13.5, 14.1, 17.4], \"yaxis\": \"y\"}, {\"hoverlabel\": {\"namelength\": 0}, \"hovertemplate\": \"jurisd=Prince George's<br>Year=%{x}<br>Teen Birth Rate=%{y}\", \"legendgroup\": \"jurisd=Prince George's\", \"line\": {\"color\": \"#FFA15A\", \"dash\": \"solid\"}, \"mode\": \"lines\", \"name\": \"jurisd=Prince George's\", \"showlegend\": true, \"type\": \"scatter\", \"x\": [2017, 2016, 2015, 2014, 2013, 2012, 2011, 2010], \"xaxis\": \"x\", \"y\": [19.3, 20.7, 21.1, 21.3, 24.2, 27.7, 30.7, 33.1], \"yaxis\": \"y\"}],\n",
              "                        {\"legend\": {\"tracegroupgap\": 0}, \"template\": {\"data\": {\"bar\": [{\"error_x\": {\"color\": \"#2a3f5f\"}, \"error_y\": {\"color\": \"#2a3f5f\"}, \"marker\": {\"line\": {\"color\": \"#E5ECF6\", \"width\": 0.5}}, \"type\": \"bar\"}], \"barpolar\": [{\"marker\": {\"line\": {\"color\": \"#E5ECF6\", \"width\": 0.5}}, \"type\": \"barpolar\"}], \"carpet\": [{\"aaxis\": {\"endlinecolor\": \"#2a3f5f\", \"gridcolor\": \"white\", \"linecolor\": \"white\", \"minorgridcolor\": \"white\", \"startlinecolor\": \"#2a3f5f\"}, \"baxis\": {\"endlinecolor\": \"#2a3f5f\", \"gridcolor\": \"white\", \"linecolor\": \"white\", \"minorgridcolor\": \"white\", \"startlinecolor\": \"#2a3f5f\"}, \"type\": \"carpet\"}], \"choropleth\": [{\"colorbar\": {\"outlinewidth\": 0, \"ticks\": \"\"}, \"type\": \"choropleth\"}], \"contour\": [{\"colorbar\": {\"outlinewidth\": 0, \"ticks\": \"\"}, \"colorscale\": [[0.0, \"#0d0887\"], [0.1111111111111111, \"#46039f\"], [0.2222222222222222, \"#7201a8\"], [0.3333333333333333, \"#9c179e\"], [0.4444444444444444, \"#bd3786\"], [0.5555555555555556, \"#d8576b\"], [0.6666666666666666, \"#ed7953\"], [0.7777777777777778, \"#fb9f3a\"], [0.8888888888888888, \"#fdca26\"], [1.0, \"#f0f921\"]], \"type\": \"contour\"}], \"contourcarpet\": [{\"colorbar\": {\"outlinewidth\": 0, \"ticks\": \"\"}, \"type\": \"contourcarpet\"}], \"heatmap\": [{\"colorbar\": {\"outlinewidth\": 0, \"ticks\": \"\"}, \"colorscale\": [[0.0, \"#0d0887\"], [0.1111111111111111, \"#46039f\"], [0.2222222222222222, \"#7201a8\"], [0.3333333333333333, \"#9c179e\"], [0.4444444444444444, \"#bd3786\"], [0.5555555555555556, \"#d8576b\"], [0.6666666666666666, \"#ed7953\"], [0.7777777777777778, \"#fb9f3a\"], [0.8888888888888888, \"#fdca26\"], [1.0, \"#f0f921\"]], \"type\": \"heatmap\"}], \"heatmapgl\": [{\"colorbar\": {\"outlinewidth\": 0, \"ticks\": \"\"}, \"colorscale\": [[0.0, \"#0d0887\"], [0.1111111111111111, \"#46039f\"], [0.2222222222222222, \"#7201a8\"], [0.3333333333333333, \"#9c179e\"], [0.4444444444444444, \"#bd3786\"], [0.5555555555555556, \"#d8576b\"], [0.6666666666666666, \"#ed7953\"], [0.7777777777777778, \"#fb9f3a\"], [0.8888888888888888, \"#fdca26\"], [1.0, \"#f0f921\"]], \"type\": \"heatmapgl\"}], \"histogram\": [{\"marker\": {\"colorbar\": {\"outlinewidth\": 0, \"ticks\": \"\"}}, \"type\": \"histogram\"}], \"histogram2d\": [{\"colorbar\": {\"outlinewidth\": 0, \"ticks\": \"\"}, \"colorscale\": [[0.0, \"#0d0887\"], [0.1111111111111111, \"#46039f\"], [0.2222222222222222, \"#7201a8\"], [0.3333333333333333, \"#9c179e\"], [0.4444444444444444, \"#bd3786\"], [0.5555555555555556, \"#d8576b\"], [0.6666666666666666, \"#ed7953\"], [0.7777777777777778, \"#fb9f3a\"], [0.8888888888888888, \"#fdca26\"], [1.0, \"#f0f921\"]], \"type\": \"histogram2d\"}], \"histogram2dcontour\": [{\"colorbar\": {\"outlinewidth\": 0, \"ticks\": \"\"}, \"colorscale\": [[0.0, \"#0d0887\"], [0.1111111111111111, \"#46039f\"], [0.2222222222222222, \"#7201a8\"], [0.3333333333333333, \"#9c179e\"], [0.4444444444444444, \"#bd3786\"], [0.5555555555555556, \"#d8576b\"], [0.6666666666666666, \"#ed7953\"], [0.7777777777777778, \"#fb9f3a\"], [0.8888888888888888, \"#fdca26\"], [1.0, \"#f0f921\"]], \"type\": \"histogram2dcontour\"}], \"mesh3d\": [{\"colorbar\": {\"outlinewidth\": 0, \"ticks\": \"\"}, \"type\": \"mesh3d\"}], \"parcoords\": [{\"line\": {\"colorbar\": {\"outlinewidth\": 0, \"ticks\": \"\"}}, \"type\": \"parcoords\"}], \"pie\": [{\"automargin\": true, \"type\": \"pie\"}], \"scatter\": [{\"marker\": {\"colorbar\": {\"outlinewidth\": 0, \"ticks\": \"\"}}, \"type\": \"scatter\"}], \"scatter3d\": [{\"line\": {\"colorbar\": {\"outlinewidth\": 0, \"ticks\": \"\"}}, \"marker\": {\"colorbar\": {\"outlinewidth\": 0, \"ticks\": \"\"}}, \"type\": \"scatter3d\"}], \"scattercarpet\": [{\"marker\": {\"colorbar\": {\"outlinewidth\": 0, \"ticks\": \"\"}}, \"type\": \"scattercarpet\"}], \"scattergeo\": [{\"marker\": {\"colorbar\": {\"outlinewidth\": 0, \"ticks\": \"\"}}, \"type\": \"scattergeo\"}], \"scattergl\": [{\"marker\": {\"colorbar\": {\"outlinewidth\": 0, \"ticks\": \"\"}}, \"type\": \"scattergl\"}], \"scattermapbox\": [{\"marker\": {\"colorbar\": {\"outlinewidth\": 0, \"ticks\": \"\"}}, \"type\": \"scattermapbox\"}], \"scatterpolar\": [{\"marker\": {\"colorbar\": {\"outlinewidth\": 0, \"ticks\": \"\"}}, \"type\": \"scatterpolar\"}], \"scatterpolargl\": [{\"marker\": {\"colorbar\": {\"outlinewidth\": 0, \"ticks\": \"\"}}, \"type\": \"scatterpolargl\"}], \"scatterternary\": [{\"marker\": {\"colorbar\": {\"outlinewidth\": 0, \"ticks\": \"\"}}, \"type\": \"scatterternary\"}], \"surface\": [{\"colorbar\": {\"outlinewidth\": 0, \"ticks\": \"\"}, \"colorscale\": [[0.0, \"#0d0887\"], [0.1111111111111111, \"#46039f\"], [0.2222222222222222, \"#7201a8\"], [0.3333333333333333, \"#9c179e\"], [0.4444444444444444, \"#bd3786\"], [0.5555555555555556, \"#d8576b\"], [0.6666666666666666, \"#ed7953\"], [0.7777777777777778, \"#fb9f3a\"], [0.8888888888888888, \"#fdca26\"], [1.0, \"#f0f921\"]], \"type\": \"surface\"}], \"table\": [{\"cells\": {\"fill\": {\"color\": \"#EBF0F8\"}, \"line\": {\"color\": \"white\"}}, \"header\": {\"fill\": {\"color\": \"#C8D4E3\"}, \"line\": {\"color\": \"white\"}}, \"type\": \"table\"}]}, \"layout\": {\"annotationdefaults\": {\"arrowcolor\": \"#2a3f5f\", \"arrowhead\": 0, \"arrowwidth\": 1}, \"coloraxis\": {\"colorbar\": {\"outlinewidth\": 0, \"ticks\": \"\"}}, \"colorscale\": {\"diverging\": [[0, \"#8e0152\"], [0.1, \"#c51b7d\"], [0.2, \"#de77ae\"], [0.3, \"#f1b6da\"], [0.4, \"#fde0ef\"], [0.5, \"#f7f7f7\"], [0.6, \"#e6f5d0\"], [0.7, \"#b8e186\"], [0.8, \"#7fbc41\"], [0.9, \"#4d9221\"], [1, \"#276419\"]], \"sequential\": [[0.0, \"#0d0887\"], [0.1111111111111111, \"#46039f\"], [0.2222222222222222, \"#7201a8\"], [0.3333333333333333, \"#9c179e\"], [0.4444444444444444, \"#bd3786\"], [0.5555555555555556, \"#d8576b\"], [0.6666666666666666, \"#ed7953\"], [0.7777777777777778, \"#fb9f3a\"], [0.8888888888888888, \"#fdca26\"], [1.0, \"#f0f921\"]], \"sequentialminus\": [[0.0, \"#0d0887\"], [0.1111111111111111, \"#46039f\"], [0.2222222222222222, \"#7201a8\"], [0.3333333333333333, \"#9c179e\"], [0.4444444444444444, \"#bd3786\"], [0.5555555555555556, \"#d8576b\"], [0.6666666666666666, \"#ed7953\"], [0.7777777777777778, \"#fb9f3a\"], [0.8888888888888888, \"#fdca26\"], [1.0, \"#f0f921\"]]}, \"colorway\": [\"#636efa\", \"#EF553B\", \"#00cc96\", \"#ab63fa\", \"#FFA15A\", \"#19d3f3\", \"#FF6692\", \"#B6E880\", \"#FF97FF\", \"#FECB52\"], \"font\": {\"color\": \"#2a3f5f\"}, \"geo\": {\"bgcolor\": \"white\", \"lakecolor\": \"white\", \"landcolor\": \"#E5ECF6\", \"showlakes\": true, \"showland\": true, \"subunitcolor\": \"white\"}, \"hoverlabel\": {\"align\": \"left\"}, \"hovermode\": \"closest\", \"mapbox\": {\"style\": \"light\"}, \"paper_bgcolor\": \"white\", \"plot_bgcolor\": \"#E5ECF6\", \"polar\": {\"angularaxis\": {\"gridcolor\": \"white\", \"linecolor\": \"white\", \"ticks\": \"\"}, \"bgcolor\": \"#E5ECF6\", \"radialaxis\": {\"gridcolor\": \"white\", \"linecolor\": \"white\", \"ticks\": \"\"}}, \"scene\": {\"xaxis\": {\"backgroundcolor\": \"#E5ECF6\", \"gridcolor\": \"white\", \"gridwidth\": 2, \"linecolor\": \"white\", \"showbackground\": true, \"ticks\": \"\", \"zerolinecolor\": \"white\"}, \"yaxis\": {\"backgroundcolor\": \"#E5ECF6\", \"gridcolor\": \"white\", \"gridwidth\": 2, \"linecolor\": \"white\", \"showbackground\": true, \"ticks\": \"\", \"zerolinecolor\": \"white\"}, \"zaxis\": {\"backgroundcolor\": \"#E5ECF6\", \"gridcolor\": \"white\", \"gridwidth\": 2, \"linecolor\": \"white\", \"showbackground\": true, \"ticks\": \"\", \"zerolinecolor\": \"white\"}}, \"shapedefaults\": {\"line\": {\"color\": \"#2a3f5f\"}}, \"ternary\": {\"aaxis\": {\"gridcolor\": \"white\", \"linecolor\": \"white\", \"ticks\": \"\"}, \"baxis\": {\"gridcolor\": \"white\", \"linecolor\": \"white\", \"ticks\": \"\"}, \"bgcolor\": \"#E5ECF6\", \"caxis\": {\"gridcolor\": \"white\", \"linecolor\": \"white\", \"ticks\": \"\"}}, \"title\": {\"x\": 0.05}, \"xaxis\": {\"automargin\": true, \"gridcolor\": \"white\", \"linecolor\": \"white\", \"ticks\": \"\", \"title\": {\"standoff\": 15}, \"zerolinecolor\": \"white\", \"zerolinewidth\": 2}, \"yaxis\": {\"automargin\": true, \"gridcolor\": \"white\", \"linecolor\": \"white\", \"ticks\": \"\", \"title\": {\"standoff\": 15}, \"zerolinecolor\": \"white\", \"zerolinewidth\": 2}}}, \"title\": {\"text\": \"Teen Birth Rate for 5 Largest Counties in Maryland, 2010-2017\"}, \"xaxis\": {\"anchor\": \"y\", \"domain\": [0.0, 1.0], \"title\": {\"text\": \"Year\"}}, \"yaxis\": {\"anchor\": \"x\", \"domain\": [0.0, 1.0], \"title\": {\"text\": \"Teen Birth Rate\"}}},\n",
              "                        {\"responsive\": true}\n",
              "                    ).then(function(){\n",
              "                            \n",
              "var gd = document.getElementById('5fce007a-90c4-41c9-857b-8bb309d02b2d');\n",
              "var x = new MutationObserver(function (mutations, observer) {{\n",
              "        var display = window.getComputedStyle(gd).display;\n",
              "        if (!display || display === 'none') {{\n",
              "            console.log([gd, 'removed!']);\n",
              "            Plotly.purge(gd);\n",
              "            observer.disconnect();\n",
              "        }}\n",
              "}});\n",
              "\n",
              "// Listen for the removal of the full notebook cells\n",
              "var notebookContainer = gd.closest('#notebook-container');\n",
              "if (notebookContainer) {{\n",
              "    x.observe(notebookContainer, {childList: true});\n",
              "}}\n",
              "\n",
              "// Listen for the clearing of the current output cell\n",
              "var outputEl = gd.closest('.output');\n",
              "if (outputEl) {{\n",
              "    x.observe(outputEl, {childList: true});\n",
              "}}\n",
              "\n",
              "                        })\n",
              "                };\n",
              "                \n",
              "            </script>\n",
              "        </div>\n",
              "</body>\n",
              "</html>"
            ]
          },
          "metadata": {
            "tags": []
          }
        }
      ]
    },
    {
      "cell_type": "code",
      "metadata": {
        "colab": {
          "base_uri": "https://localhost:8080/",
          "height": 542
        },
        "id": "qdT9A29MvV_j",
        "outputId": "d1327f18-c697-45ca-b4c0-32c924231d14"
      },
      "source": [
        "# line graph of teen birth rate for 5 smallest counties in Maryland\n",
        "line_teen_bot5=px.line(df_bot5, x=\"yr\", y=\"teen_birth_rate\", color=\"jurisd\", title=\"Teen Birth Rate for 5 Smallest Counties in Maryland, 2010-2017\", labels={\"yr\":\"Year\", \"teen_birth_rate\": \"Teen Birth Rate\"})\n",
        "line_teen_bot5"
      ],
      "execution_count": 129,
      "outputs": [
        {
          "output_type": "display_data",
          "data": {
            "text/html": [
              "<html>\n",
              "<head><meta charset=\"utf-8\" /></head>\n",
              "<body>\n",
              "    <div>\n",
              "            <script src=\"https://cdnjs.cloudflare.com/ajax/libs/mathjax/2.7.5/MathJax.js?config=TeX-AMS-MML_SVG\"></script><script type=\"text/javascript\">if (window.MathJax) {MathJax.Hub.Config({SVG: {font: \"STIX-Web\"}});}</script>\n",
              "                <script type=\"text/javascript\">window.PlotlyConfig = {MathJaxConfig: 'local'};</script>\n",
              "        <script src=\"https://cdn.plot.ly/plotly-latest.min.js\"></script>    \n",
              "            <div id=\"556aba73-70c6-462b-90b8-f19847d6ad81\" class=\"plotly-graph-div\" style=\"height:525px; width:100%;\"></div>\n",
              "            <script type=\"text/javascript\">\n",
              "                \n",
              "                    window.PLOTLYENV=window.PLOTLYENV || {};\n",
              "                    \n",
              "                if (document.getElementById(\"556aba73-70c6-462b-90b8-f19847d6ad81\")) {\n",
              "                    Plotly.newPlot(\n",
              "                        '556aba73-70c6-462b-90b8-f19847d6ad81',\n",
              "                        [{\"hoverlabel\": {\"namelength\": 0}, \"hovertemplate\": \"jurisd=Caroline<br>Year=%{x}<br>Teen Birth Rate=%{y}\", \"legendgroup\": \"jurisd=Caroline\", \"line\": {\"color\": \"#636efa\", \"dash\": \"solid\"}, \"mode\": \"lines\", \"name\": \"jurisd=Caroline\", \"showlegend\": true, \"type\": \"scatter\", \"x\": [2017, 2016, 2015, 2014, 2013, 2012, 2011, 2010], \"xaxis\": \"x\", \"y\": [15.8, 21.2, 27.0, 22.4, 25.3, 24.9, 37.2, 41.4], \"yaxis\": \"y\"}, {\"hoverlabel\": {\"namelength\": 0}, \"hovertemplate\": \"jurisd=Dorchester<br>Year=%{x}<br>Teen Birth Rate=%{y}\", \"legendgroup\": \"jurisd=Dorchester\", \"line\": {\"color\": \"#EF553B\", \"dash\": \"solid\"}, \"mode\": \"lines\", \"name\": \"jurisd=Dorchester\", \"showlegend\": true, \"type\": \"scatter\", \"x\": [2017, 2016, 2015, 2014, 2013, 2012, 2011, 2010], \"xaxis\": \"x\", \"y\": [21.4, 27.4, 50.7, 42.0, 33.1, 46.6, 43.8, 55.1], \"yaxis\": \"y\"}, {\"hoverlabel\": {\"namelength\": 0}, \"hovertemplate\": \"jurisd=Garrett<br>Year=%{x}<br>Teen Birth Rate=%{y}\", \"legendgroup\": \"jurisd=Garrett\", \"line\": {\"color\": \"#00cc96\", \"dash\": \"solid\"}, \"mode\": \"lines\", \"name\": \"jurisd=Garrett\", \"showlegend\": true, \"type\": \"scatter\", \"x\": [2017, 2016, 2015, 2014, 2013, 2012, 2011, 2010], \"xaxis\": \"x\", \"y\": [17.9, 25.2, 31.8, 23.2, 29.6, 34.4, 35.0, 30.7], \"yaxis\": \"y\"}, {\"hoverlabel\": {\"namelength\": 0}, \"hovertemplate\": \"jurisd=Kent<br>Year=%{x}<br>Teen Birth Rate=%{y}\", \"legendgroup\": \"jurisd=Kent\", \"line\": {\"color\": \"#ab63fa\", \"dash\": \"solid\"}, \"mode\": \"lines\", \"name\": \"jurisd=Kent\", \"showlegend\": true, \"type\": \"scatter\", \"x\": [2017, 2016, 2015, 2014, 2013, 2012, 2011, 2010], \"xaxis\": \"x\", \"y\": [8.5, 6.9, 18.2, 9.5, 13.3, 12.7, 10.6, 15.5], \"yaxis\": \"y\"}, {\"hoverlabel\": {\"namelength\": 0}, \"hovertemplate\": \"jurisd=Somerset<br>Year=%{x}<br>Teen Birth Rate=%{y}\", \"legendgroup\": \"jurisd=Somerset\", \"line\": {\"color\": \"#FFA15A\", \"dash\": \"solid\"}, \"mode\": \"lines\", \"name\": \"jurisd=Somerset\", \"showlegend\": true, \"type\": \"scatter\", \"x\": [2017, 2016, 2015, 2014, 2013, 2012, 2011, 2010], \"xaxis\": \"x\", \"y\": [13.0, 19.4, 22.5, 17.7, 39.9, 30.4, 24.4, 31.6], \"yaxis\": \"y\"}],\n",
              "                        {\"legend\": {\"tracegroupgap\": 0}, \"template\": {\"data\": {\"bar\": [{\"error_x\": {\"color\": \"#2a3f5f\"}, \"error_y\": {\"color\": \"#2a3f5f\"}, \"marker\": {\"line\": {\"color\": \"#E5ECF6\", \"width\": 0.5}}, \"type\": \"bar\"}], \"barpolar\": [{\"marker\": {\"line\": {\"color\": \"#E5ECF6\", \"width\": 0.5}}, \"type\": \"barpolar\"}], \"carpet\": [{\"aaxis\": {\"endlinecolor\": \"#2a3f5f\", \"gridcolor\": \"white\", \"linecolor\": \"white\", \"minorgridcolor\": \"white\", \"startlinecolor\": \"#2a3f5f\"}, \"baxis\": {\"endlinecolor\": \"#2a3f5f\", \"gridcolor\": \"white\", \"linecolor\": \"white\", \"minorgridcolor\": \"white\", \"startlinecolor\": \"#2a3f5f\"}, \"type\": \"carpet\"}], \"choropleth\": [{\"colorbar\": {\"outlinewidth\": 0, \"ticks\": \"\"}, \"type\": \"choropleth\"}], \"contour\": [{\"colorbar\": {\"outlinewidth\": 0, \"ticks\": \"\"}, \"colorscale\": [[0.0, \"#0d0887\"], [0.1111111111111111, \"#46039f\"], [0.2222222222222222, \"#7201a8\"], [0.3333333333333333, \"#9c179e\"], [0.4444444444444444, \"#bd3786\"], [0.5555555555555556, \"#d8576b\"], [0.6666666666666666, \"#ed7953\"], [0.7777777777777778, \"#fb9f3a\"], [0.8888888888888888, \"#fdca26\"], [1.0, \"#f0f921\"]], \"type\": \"contour\"}], \"contourcarpet\": [{\"colorbar\": {\"outlinewidth\": 0, \"ticks\": \"\"}, \"type\": \"contourcarpet\"}], \"heatmap\": [{\"colorbar\": {\"outlinewidth\": 0, \"ticks\": \"\"}, \"colorscale\": [[0.0, \"#0d0887\"], [0.1111111111111111, \"#46039f\"], [0.2222222222222222, \"#7201a8\"], [0.3333333333333333, \"#9c179e\"], [0.4444444444444444, \"#bd3786\"], [0.5555555555555556, \"#d8576b\"], [0.6666666666666666, \"#ed7953\"], [0.7777777777777778, \"#fb9f3a\"], [0.8888888888888888, \"#fdca26\"], [1.0, \"#f0f921\"]], \"type\": \"heatmap\"}], \"heatmapgl\": [{\"colorbar\": {\"outlinewidth\": 0, \"ticks\": \"\"}, \"colorscale\": [[0.0, \"#0d0887\"], [0.1111111111111111, \"#46039f\"], [0.2222222222222222, \"#7201a8\"], [0.3333333333333333, \"#9c179e\"], [0.4444444444444444, \"#bd3786\"], [0.5555555555555556, \"#d8576b\"], [0.6666666666666666, \"#ed7953\"], [0.7777777777777778, \"#fb9f3a\"], [0.8888888888888888, \"#fdca26\"], [1.0, \"#f0f921\"]], \"type\": \"heatmapgl\"}], \"histogram\": [{\"marker\": {\"colorbar\": {\"outlinewidth\": 0, \"ticks\": \"\"}}, \"type\": \"histogram\"}], \"histogram2d\": [{\"colorbar\": {\"outlinewidth\": 0, \"ticks\": \"\"}, \"colorscale\": [[0.0, \"#0d0887\"], [0.1111111111111111, \"#46039f\"], [0.2222222222222222, \"#7201a8\"], [0.3333333333333333, \"#9c179e\"], [0.4444444444444444, \"#bd3786\"], [0.5555555555555556, \"#d8576b\"], [0.6666666666666666, \"#ed7953\"], [0.7777777777777778, \"#fb9f3a\"], [0.8888888888888888, \"#fdca26\"], [1.0, \"#f0f921\"]], \"type\": \"histogram2d\"}], \"histogram2dcontour\": [{\"colorbar\": {\"outlinewidth\": 0, \"ticks\": \"\"}, \"colorscale\": [[0.0, \"#0d0887\"], [0.1111111111111111, \"#46039f\"], [0.2222222222222222, \"#7201a8\"], [0.3333333333333333, \"#9c179e\"], [0.4444444444444444, \"#bd3786\"], [0.5555555555555556, \"#d8576b\"], [0.6666666666666666, \"#ed7953\"], [0.7777777777777778, \"#fb9f3a\"], [0.8888888888888888, \"#fdca26\"], [1.0, \"#f0f921\"]], \"type\": \"histogram2dcontour\"}], \"mesh3d\": [{\"colorbar\": {\"outlinewidth\": 0, \"ticks\": \"\"}, \"type\": \"mesh3d\"}], \"parcoords\": [{\"line\": {\"colorbar\": {\"outlinewidth\": 0, \"ticks\": \"\"}}, \"type\": \"parcoords\"}], \"pie\": [{\"automargin\": true, \"type\": \"pie\"}], \"scatter\": [{\"marker\": {\"colorbar\": {\"outlinewidth\": 0, \"ticks\": \"\"}}, \"type\": \"scatter\"}], \"scatter3d\": [{\"line\": {\"colorbar\": {\"outlinewidth\": 0, \"ticks\": \"\"}}, \"marker\": {\"colorbar\": {\"outlinewidth\": 0, \"ticks\": \"\"}}, \"type\": \"scatter3d\"}], \"scattercarpet\": [{\"marker\": {\"colorbar\": {\"outlinewidth\": 0, \"ticks\": \"\"}}, \"type\": \"scattercarpet\"}], \"scattergeo\": [{\"marker\": {\"colorbar\": {\"outlinewidth\": 0, \"ticks\": \"\"}}, \"type\": \"scattergeo\"}], \"scattergl\": [{\"marker\": {\"colorbar\": {\"outlinewidth\": 0, \"ticks\": \"\"}}, \"type\": \"scattergl\"}], \"scattermapbox\": [{\"marker\": {\"colorbar\": {\"outlinewidth\": 0, \"ticks\": \"\"}}, \"type\": \"scattermapbox\"}], \"scatterpolar\": [{\"marker\": {\"colorbar\": {\"outlinewidth\": 0, \"ticks\": \"\"}}, \"type\": \"scatterpolar\"}], \"scatterpolargl\": [{\"marker\": {\"colorbar\": {\"outlinewidth\": 0, \"ticks\": \"\"}}, \"type\": \"scatterpolargl\"}], \"scatterternary\": [{\"marker\": {\"colorbar\": {\"outlinewidth\": 0, \"ticks\": \"\"}}, \"type\": \"scatterternary\"}], \"surface\": [{\"colorbar\": {\"outlinewidth\": 0, \"ticks\": \"\"}, \"colorscale\": [[0.0, \"#0d0887\"], [0.1111111111111111, \"#46039f\"], [0.2222222222222222, \"#7201a8\"], [0.3333333333333333, \"#9c179e\"], [0.4444444444444444, \"#bd3786\"], [0.5555555555555556, \"#d8576b\"], [0.6666666666666666, \"#ed7953\"], [0.7777777777777778, \"#fb9f3a\"], [0.8888888888888888, \"#fdca26\"], [1.0, \"#f0f921\"]], \"type\": \"surface\"}], \"table\": [{\"cells\": {\"fill\": {\"color\": \"#EBF0F8\"}, \"line\": {\"color\": \"white\"}}, \"header\": {\"fill\": {\"color\": \"#C8D4E3\"}, \"line\": {\"color\": \"white\"}}, \"type\": \"table\"}]}, \"layout\": {\"annotationdefaults\": {\"arrowcolor\": \"#2a3f5f\", \"arrowhead\": 0, \"arrowwidth\": 1}, \"coloraxis\": {\"colorbar\": {\"outlinewidth\": 0, \"ticks\": \"\"}}, \"colorscale\": {\"diverging\": [[0, \"#8e0152\"], [0.1, \"#c51b7d\"], [0.2, \"#de77ae\"], [0.3, \"#f1b6da\"], [0.4, \"#fde0ef\"], [0.5, \"#f7f7f7\"], [0.6, \"#e6f5d0\"], [0.7, \"#b8e186\"], [0.8, \"#7fbc41\"], [0.9, \"#4d9221\"], [1, \"#276419\"]], \"sequential\": [[0.0, \"#0d0887\"], [0.1111111111111111, \"#46039f\"], [0.2222222222222222, \"#7201a8\"], [0.3333333333333333, \"#9c179e\"], [0.4444444444444444, \"#bd3786\"], [0.5555555555555556, \"#d8576b\"], [0.6666666666666666, \"#ed7953\"], [0.7777777777777778, \"#fb9f3a\"], [0.8888888888888888, \"#fdca26\"], [1.0, \"#f0f921\"]], \"sequentialminus\": [[0.0, \"#0d0887\"], [0.1111111111111111, \"#46039f\"], [0.2222222222222222, \"#7201a8\"], [0.3333333333333333, \"#9c179e\"], [0.4444444444444444, \"#bd3786\"], [0.5555555555555556, \"#d8576b\"], [0.6666666666666666, \"#ed7953\"], [0.7777777777777778, \"#fb9f3a\"], [0.8888888888888888, \"#fdca26\"], [1.0, \"#f0f921\"]]}, \"colorway\": [\"#636efa\", \"#EF553B\", \"#00cc96\", \"#ab63fa\", \"#FFA15A\", \"#19d3f3\", \"#FF6692\", \"#B6E880\", \"#FF97FF\", \"#FECB52\"], \"font\": {\"color\": \"#2a3f5f\"}, \"geo\": {\"bgcolor\": \"white\", \"lakecolor\": \"white\", \"landcolor\": \"#E5ECF6\", \"showlakes\": true, \"showland\": true, \"subunitcolor\": \"white\"}, \"hoverlabel\": {\"align\": \"left\"}, \"hovermode\": \"closest\", \"mapbox\": {\"style\": \"light\"}, \"paper_bgcolor\": \"white\", \"plot_bgcolor\": \"#E5ECF6\", \"polar\": {\"angularaxis\": {\"gridcolor\": \"white\", \"linecolor\": \"white\", \"ticks\": \"\"}, \"bgcolor\": \"#E5ECF6\", \"radialaxis\": {\"gridcolor\": \"white\", \"linecolor\": \"white\", \"ticks\": \"\"}}, \"scene\": {\"xaxis\": {\"backgroundcolor\": \"#E5ECF6\", \"gridcolor\": \"white\", \"gridwidth\": 2, \"linecolor\": \"white\", \"showbackground\": true, \"ticks\": \"\", \"zerolinecolor\": \"white\"}, \"yaxis\": {\"backgroundcolor\": \"#E5ECF6\", \"gridcolor\": \"white\", \"gridwidth\": 2, \"linecolor\": \"white\", \"showbackground\": true, \"ticks\": \"\", \"zerolinecolor\": \"white\"}, \"zaxis\": {\"backgroundcolor\": \"#E5ECF6\", \"gridcolor\": \"white\", \"gridwidth\": 2, \"linecolor\": \"white\", \"showbackground\": true, \"ticks\": \"\", \"zerolinecolor\": \"white\"}}, \"shapedefaults\": {\"line\": {\"color\": \"#2a3f5f\"}}, \"ternary\": {\"aaxis\": {\"gridcolor\": \"white\", \"linecolor\": \"white\", \"ticks\": \"\"}, \"baxis\": {\"gridcolor\": \"white\", \"linecolor\": \"white\", \"ticks\": \"\"}, \"bgcolor\": \"#E5ECF6\", \"caxis\": {\"gridcolor\": \"white\", \"linecolor\": \"white\", \"ticks\": \"\"}}, \"title\": {\"x\": 0.05}, \"xaxis\": {\"automargin\": true, \"gridcolor\": \"white\", \"linecolor\": \"white\", \"ticks\": \"\", \"title\": {\"standoff\": 15}, \"zerolinecolor\": \"white\", \"zerolinewidth\": 2}, \"yaxis\": {\"automargin\": true, \"gridcolor\": \"white\", \"linecolor\": \"white\", \"ticks\": \"\", \"title\": {\"standoff\": 15}, \"zerolinecolor\": \"white\", \"zerolinewidth\": 2}}}, \"title\": {\"text\": \"Teen Birth Rate for 5 Smallest Counties in Maryland, 2010-2017\"}, \"xaxis\": {\"anchor\": \"y\", \"domain\": [0.0, 1.0], \"title\": {\"text\": \"Year\"}}, \"yaxis\": {\"anchor\": \"x\", \"domain\": [0.0, 1.0], \"title\": {\"text\": \"Teen Birth Rate\"}}},\n",
              "                        {\"responsive\": true}\n",
              "                    ).then(function(){\n",
              "                            \n",
              "var gd = document.getElementById('556aba73-70c6-462b-90b8-f19847d6ad81');\n",
              "var x = new MutationObserver(function (mutations, observer) {{\n",
              "        var display = window.getComputedStyle(gd).display;\n",
              "        if (!display || display === 'none') {{\n",
              "            console.log([gd, 'removed!']);\n",
              "            Plotly.purge(gd);\n",
              "            observer.disconnect();\n",
              "        }}\n",
              "}});\n",
              "\n",
              "// Listen for the removal of the full notebook cells\n",
              "var notebookContainer = gd.closest('#notebook-container');\n",
              "if (notebookContainer) {{\n",
              "    x.observe(notebookContainer, {childList: true});\n",
              "}}\n",
              "\n",
              "// Listen for the clearing of the current output cell\n",
              "var outputEl = gd.closest('.output');\n",
              "if (outputEl) {{\n",
              "    x.observe(outputEl, {childList: true});\n",
              "}}\n",
              "\n",
              "                        })\n",
              "                };\n",
              "                \n",
              "            </script>\n",
              "        </div>\n",
              "</body>\n",
              "</html>"
            ]
          },
          "metadata": {
            "tags": []
          }
        }
      ]
    },
    {
      "cell_type": "code",
      "metadata": {
        "colab": {
          "base_uri": "https://localhost:8080/",
          "height": 542
        },
        "id": "9FltHfEPwBKW",
        "outputId": "8803b766-f213-4216-cb67-50882fd8886e"
      },
      "source": [
        "# line graph of access to early prenatal care for 5 largest counties in Maryland\n",
        "line_pren_top5=px.line(df_top5, x=\"yr\", y=\"early_prenatal_care\", color=\"jurisd\", title=\"Access to Early Prenatal Care in 5 Largest Counties in Maryland, 2010-2017\", labels={\"yr\":\"Year\", \"early_prenatal_care\": \"Early Prenatal Care\"}, range_y=[50,85])\n",
        "line_pren_top5"
      ],
      "execution_count": 130,
      "outputs": [
        {
          "output_type": "display_data",
          "data": {
            "text/html": [
              "<html>\n",
              "<head><meta charset=\"utf-8\" /></head>\n",
              "<body>\n",
              "    <div>\n",
              "            <script src=\"https://cdnjs.cloudflare.com/ajax/libs/mathjax/2.7.5/MathJax.js?config=TeX-AMS-MML_SVG\"></script><script type=\"text/javascript\">if (window.MathJax) {MathJax.Hub.Config({SVG: {font: \"STIX-Web\"}});}</script>\n",
              "                <script type=\"text/javascript\">window.PlotlyConfig = {MathJaxConfig: 'local'};</script>\n",
              "        <script src=\"https://cdn.plot.ly/plotly-latest.min.js\"></script>    \n",
              "            <div id=\"d10ea3b3-d066-4857-985c-5b1426257681\" class=\"plotly-graph-div\" style=\"height:525px; width:100%;\"></div>\n",
              "            <script type=\"text/javascript\">\n",
              "                \n",
              "                    window.PLOTLYENV=window.PLOTLYENV || {};\n",
              "                    \n",
              "                if (document.getElementById(\"d10ea3b3-d066-4857-985c-5b1426257681\")) {\n",
              "                    Plotly.newPlot(\n",
              "                        'd10ea3b3-d066-4857-985c-5b1426257681',\n",
              "                        [{\"hoverlabel\": {\"namelength\": 0}, \"hovertemplate\": \"jurisd=Anne Arundel<br>Year=%{x}<br>Early Prenatal Care=%{y}\", \"legendgroup\": \"jurisd=Anne Arundel\", \"line\": {\"color\": \"#636efa\", \"dash\": \"solid\"}, \"mode\": \"lines\", \"name\": \"jurisd=Anne Arundel\", \"showlegend\": true, \"type\": \"scatter\", \"x\": [2017, 2016, 2015, 2014, 2013, 2012, 2011, 2010], \"xaxis\": \"x\", \"y\": [71.0, 69.8, 69.4, 71.8, 74.2, 71.4, 74.7, 78.2], \"yaxis\": \"y\"}, {\"hoverlabel\": {\"namelength\": 0}, \"hovertemplate\": \"jurisd=Baltimore City<br>Year=%{x}<br>Early Prenatal Care=%{y}\", \"legendgroup\": \"jurisd=Baltimore City\", \"line\": {\"color\": \"#EF553B\", \"dash\": \"solid\"}, \"mode\": \"lines\", \"name\": \"jurisd=Baltimore City\", \"showlegend\": true, \"type\": \"scatter\", \"x\": [2017, 2016, 2015, 2014, 2013, 2012, 2011, 2010], \"xaxis\": \"x\", \"y\": [67.1, 59.6, 59.4, 56.6, 56.7, 64.4, 62.8, 64.9], \"yaxis\": \"y\"}, {\"hoverlabel\": {\"namelength\": 0}, \"hovertemplate\": \"jurisd=Baltimore County<br>Year=%{x}<br>Early Prenatal Care=%{y}\", \"legendgroup\": \"jurisd=Baltimore County\", \"line\": {\"color\": \"#00cc96\", \"dash\": \"solid\"}, \"mode\": \"lines\", \"name\": \"jurisd=Baltimore County\", \"showlegend\": true, \"type\": \"scatter\", \"x\": [2017, 2016, 2015, 2014, 2013, 2012, 2011, 2010], \"xaxis\": \"x\", \"y\": [69.0, 66.7, 66.7, 64.9, 66.2, 68.9, 68.6, 68.4], \"yaxis\": \"y\"}, {\"hoverlabel\": {\"namelength\": 0}, \"hovertemplate\": \"jurisd=Montgomery<br>Year=%{x}<br>Early Prenatal Care=%{y}\", \"legendgroup\": \"jurisd=Montgomery\", \"line\": {\"color\": \"#ab63fa\", \"dash\": \"solid\"}, \"mode\": \"lines\", \"name\": \"jurisd=Montgomery\", \"showlegend\": true, \"type\": \"scatter\", \"x\": [2017, 2016, 2015, 2014, 2013, 2012, 2011, 2010], \"xaxis\": \"x\", \"y\": [70.9, 68.4, 66.3, 68.3, 67.9, 66.5, 66.9, 69.3], \"yaxis\": \"y\"}, {\"hoverlabel\": {\"namelength\": 0}, \"hovertemplate\": \"jurisd=Prince George's<br>Year=%{x}<br>Early Prenatal Care=%{y}\", \"legendgroup\": \"jurisd=Prince George's\", \"line\": {\"color\": \"#FFA15A\", \"dash\": \"solid\"}, \"mode\": \"lines\", \"name\": \"jurisd=Prince George's\", \"showlegend\": true, \"type\": \"scatter\", \"x\": [2017, 2016, 2015, 2014, 2013, 2012, 2011, 2010], \"xaxis\": \"x\", \"y\": [59.1, 57.5, 56.5, 56.4, 58.1, 56.2, 54.1, 54.0], \"yaxis\": \"y\"}],\n",
              "                        {\"legend\": {\"tracegroupgap\": 0}, \"template\": {\"data\": {\"bar\": [{\"error_x\": {\"color\": \"#2a3f5f\"}, \"error_y\": {\"color\": \"#2a3f5f\"}, \"marker\": {\"line\": {\"color\": \"#E5ECF6\", \"width\": 0.5}}, \"type\": \"bar\"}], \"barpolar\": [{\"marker\": {\"line\": {\"color\": \"#E5ECF6\", \"width\": 0.5}}, \"type\": \"barpolar\"}], \"carpet\": [{\"aaxis\": {\"endlinecolor\": \"#2a3f5f\", \"gridcolor\": \"white\", \"linecolor\": \"white\", \"minorgridcolor\": \"white\", \"startlinecolor\": \"#2a3f5f\"}, \"baxis\": {\"endlinecolor\": \"#2a3f5f\", \"gridcolor\": \"white\", \"linecolor\": \"white\", \"minorgridcolor\": \"white\", \"startlinecolor\": \"#2a3f5f\"}, \"type\": \"carpet\"}], \"choropleth\": [{\"colorbar\": {\"outlinewidth\": 0, \"ticks\": \"\"}, \"type\": \"choropleth\"}], \"contour\": [{\"colorbar\": {\"outlinewidth\": 0, \"ticks\": \"\"}, \"colorscale\": [[0.0, \"#0d0887\"], [0.1111111111111111, \"#46039f\"], [0.2222222222222222, \"#7201a8\"], [0.3333333333333333, \"#9c179e\"], [0.4444444444444444, \"#bd3786\"], [0.5555555555555556, \"#d8576b\"], [0.6666666666666666, \"#ed7953\"], [0.7777777777777778, \"#fb9f3a\"], [0.8888888888888888, \"#fdca26\"], [1.0, \"#f0f921\"]], \"type\": \"contour\"}], \"contourcarpet\": [{\"colorbar\": {\"outlinewidth\": 0, \"ticks\": \"\"}, \"type\": \"contourcarpet\"}], \"heatmap\": [{\"colorbar\": {\"outlinewidth\": 0, \"ticks\": \"\"}, \"colorscale\": [[0.0, \"#0d0887\"], [0.1111111111111111, \"#46039f\"], [0.2222222222222222, \"#7201a8\"], [0.3333333333333333, \"#9c179e\"], [0.4444444444444444, \"#bd3786\"], [0.5555555555555556, \"#d8576b\"], [0.6666666666666666, \"#ed7953\"], [0.7777777777777778, \"#fb9f3a\"], [0.8888888888888888, \"#fdca26\"], [1.0, \"#f0f921\"]], \"type\": \"heatmap\"}], \"heatmapgl\": [{\"colorbar\": {\"outlinewidth\": 0, \"ticks\": \"\"}, \"colorscale\": [[0.0, \"#0d0887\"], [0.1111111111111111, \"#46039f\"], [0.2222222222222222, \"#7201a8\"], [0.3333333333333333, \"#9c179e\"], [0.4444444444444444, \"#bd3786\"], [0.5555555555555556, \"#d8576b\"], [0.6666666666666666, \"#ed7953\"], [0.7777777777777778, \"#fb9f3a\"], [0.8888888888888888, \"#fdca26\"], [1.0, \"#f0f921\"]], \"type\": \"heatmapgl\"}], \"histogram\": [{\"marker\": {\"colorbar\": {\"outlinewidth\": 0, \"ticks\": \"\"}}, \"type\": \"histogram\"}], \"histogram2d\": [{\"colorbar\": {\"outlinewidth\": 0, \"ticks\": \"\"}, \"colorscale\": [[0.0, \"#0d0887\"], [0.1111111111111111, \"#46039f\"], [0.2222222222222222, \"#7201a8\"], [0.3333333333333333, \"#9c179e\"], [0.4444444444444444, \"#bd3786\"], [0.5555555555555556, \"#d8576b\"], [0.6666666666666666, \"#ed7953\"], [0.7777777777777778, \"#fb9f3a\"], [0.8888888888888888, \"#fdca26\"], [1.0, \"#f0f921\"]], \"type\": \"histogram2d\"}], \"histogram2dcontour\": [{\"colorbar\": {\"outlinewidth\": 0, \"ticks\": \"\"}, \"colorscale\": [[0.0, \"#0d0887\"], [0.1111111111111111, \"#46039f\"], [0.2222222222222222, \"#7201a8\"], [0.3333333333333333, \"#9c179e\"], [0.4444444444444444, \"#bd3786\"], [0.5555555555555556, \"#d8576b\"], [0.6666666666666666, \"#ed7953\"], [0.7777777777777778, \"#fb9f3a\"], [0.8888888888888888, \"#fdca26\"], [1.0, \"#f0f921\"]], \"type\": \"histogram2dcontour\"}], \"mesh3d\": [{\"colorbar\": {\"outlinewidth\": 0, \"ticks\": \"\"}, \"type\": \"mesh3d\"}], \"parcoords\": [{\"line\": {\"colorbar\": {\"outlinewidth\": 0, \"ticks\": \"\"}}, \"type\": \"parcoords\"}], \"pie\": [{\"automargin\": true, \"type\": \"pie\"}], \"scatter\": [{\"marker\": {\"colorbar\": {\"outlinewidth\": 0, \"ticks\": \"\"}}, \"type\": \"scatter\"}], \"scatter3d\": [{\"line\": {\"colorbar\": {\"outlinewidth\": 0, \"ticks\": \"\"}}, \"marker\": {\"colorbar\": {\"outlinewidth\": 0, \"ticks\": \"\"}}, \"type\": \"scatter3d\"}], \"scattercarpet\": [{\"marker\": {\"colorbar\": {\"outlinewidth\": 0, \"ticks\": \"\"}}, \"type\": \"scattercarpet\"}], \"scattergeo\": [{\"marker\": {\"colorbar\": {\"outlinewidth\": 0, \"ticks\": \"\"}}, \"type\": \"scattergeo\"}], \"scattergl\": [{\"marker\": {\"colorbar\": {\"outlinewidth\": 0, \"ticks\": \"\"}}, \"type\": \"scattergl\"}], \"scattermapbox\": [{\"marker\": {\"colorbar\": {\"outlinewidth\": 0, \"ticks\": \"\"}}, \"type\": \"scattermapbox\"}], \"scatterpolar\": [{\"marker\": {\"colorbar\": {\"outlinewidth\": 0, \"ticks\": \"\"}}, \"type\": \"scatterpolar\"}], \"scatterpolargl\": [{\"marker\": {\"colorbar\": {\"outlinewidth\": 0, \"ticks\": \"\"}}, \"type\": \"scatterpolargl\"}], \"scatterternary\": [{\"marker\": {\"colorbar\": {\"outlinewidth\": 0, \"ticks\": \"\"}}, \"type\": \"scatterternary\"}], \"surface\": [{\"colorbar\": {\"outlinewidth\": 0, \"ticks\": \"\"}, \"colorscale\": [[0.0, \"#0d0887\"], [0.1111111111111111, \"#46039f\"], [0.2222222222222222, \"#7201a8\"], [0.3333333333333333, \"#9c179e\"], [0.4444444444444444, \"#bd3786\"], [0.5555555555555556, \"#d8576b\"], [0.6666666666666666, \"#ed7953\"], [0.7777777777777778, \"#fb9f3a\"], [0.8888888888888888, \"#fdca26\"], [1.0, \"#f0f921\"]], \"type\": \"surface\"}], \"table\": [{\"cells\": {\"fill\": {\"color\": \"#EBF0F8\"}, \"line\": {\"color\": \"white\"}}, \"header\": {\"fill\": {\"color\": \"#C8D4E3\"}, \"line\": {\"color\": \"white\"}}, \"type\": \"table\"}]}, \"layout\": {\"annotationdefaults\": {\"arrowcolor\": \"#2a3f5f\", \"arrowhead\": 0, \"arrowwidth\": 1}, \"coloraxis\": {\"colorbar\": {\"outlinewidth\": 0, \"ticks\": \"\"}}, \"colorscale\": {\"diverging\": [[0, \"#8e0152\"], [0.1, \"#c51b7d\"], [0.2, \"#de77ae\"], [0.3, \"#f1b6da\"], [0.4, \"#fde0ef\"], [0.5, \"#f7f7f7\"], [0.6, \"#e6f5d0\"], [0.7, \"#b8e186\"], [0.8, \"#7fbc41\"], [0.9, \"#4d9221\"], [1, \"#276419\"]], \"sequential\": [[0.0, \"#0d0887\"], [0.1111111111111111, \"#46039f\"], [0.2222222222222222, \"#7201a8\"], [0.3333333333333333, \"#9c179e\"], [0.4444444444444444, \"#bd3786\"], [0.5555555555555556, \"#d8576b\"], [0.6666666666666666, \"#ed7953\"], [0.7777777777777778, \"#fb9f3a\"], [0.8888888888888888, \"#fdca26\"], [1.0, \"#f0f921\"]], \"sequentialminus\": [[0.0, \"#0d0887\"], [0.1111111111111111, \"#46039f\"], [0.2222222222222222, \"#7201a8\"], [0.3333333333333333, \"#9c179e\"], [0.4444444444444444, \"#bd3786\"], [0.5555555555555556, \"#d8576b\"], [0.6666666666666666, \"#ed7953\"], [0.7777777777777778, \"#fb9f3a\"], [0.8888888888888888, \"#fdca26\"], [1.0, \"#f0f921\"]]}, \"colorway\": [\"#636efa\", \"#EF553B\", \"#00cc96\", \"#ab63fa\", \"#FFA15A\", \"#19d3f3\", \"#FF6692\", \"#B6E880\", \"#FF97FF\", \"#FECB52\"], \"font\": {\"color\": \"#2a3f5f\"}, \"geo\": {\"bgcolor\": \"white\", \"lakecolor\": \"white\", \"landcolor\": \"#E5ECF6\", \"showlakes\": true, \"showland\": true, \"subunitcolor\": \"white\"}, \"hoverlabel\": {\"align\": \"left\"}, \"hovermode\": \"closest\", \"mapbox\": {\"style\": \"light\"}, \"paper_bgcolor\": \"white\", \"plot_bgcolor\": \"#E5ECF6\", \"polar\": {\"angularaxis\": {\"gridcolor\": \"white\", \"linecolor\": \"white\", \"ticks\": \"\"}, \"bgcolor\": \"#E5ECF6\", \"radialaxis\": {\"gridcolor\": \"white\", \"linecolor\": \"white\", \"ticks\": \"\"}}, \"scene\": {\"xaxis\": {\"backgroundcolor\": \"#E5ECF6\", \"gridcolor\": \"white\", \"gridwidth\": 2, \"linecolor\": \"white\", \"showbackground\": true, \"ticks\": \"\", \"zerolinecolor\": \"white\"}, \"yaxis\": {\"backgroundcolor\": \"#E5ECF6\", \"gridcolor\": \"white\", \"gridwidth\": 2, \"linecolor\": \"white\", \"showbackground\": true, \"ticks\": \"\", \"zerolinecolor\": \"white\"}, \"zaxis\": {\"backgroundcolor\": \"#E5ECF6\", \"gridcolor\": \"white\", \"gridwidth\": 2, \"linecolor\": \"white\", \"showbackground\": true, \"ticks\": \"\", \"zerolinecolor\": \"white\"}}, \"shapedefaults\": {\"line\": {\"color\": \"#2a3f5f\"}}, \"ternary\": {\"aaxis\": {\"gridcolor\": \"white\", \"linecolor\": \"white\", \"ticks\": \"\"}, \"baxis\": {\"gridcolor\": \"white\", \"linecolor\": \"white\", \"ticks\": \"\"}, \"bgcolor\": \"#E5ECF6\", \"caxis\": {\"gridcolor\": \"white\", \"linecolor\": \"white\", \"ticks\": \"\"}}, \"title\": {\"x\": 0.05}, \"xaxis\": {\"automargin\": true, \"gridcolor\": \"white\", \"linecolor\": \"white\", \"ticks\": \"\", \"title\": {\"standoff\": 15}, \"zerolinecolor\": \"white\", \"zerolinewidth\": 2}, \"yaxis\": {\"automargin\": true, \"gridcolor\": \"white\", \"linecolor\": \"white\", \"ticks\": \"\", \"title\": {\"standoff\": 15}, \"zerolinecolor\": \"white\", \"zerolinewidth\": 2}}}, \"title\": {\"text\": \"Access to Early Prenatal Care in 5 Largest Counties in Maryland, 2010-2017\"}, \"xaxis\": {\"anchor\": \"y\", \"domain\": [0.0, 1.0], \"title\": {\"text\": \"Year\"}}, \"yaxis\": {\"anchor\": \"x\", \"domain\": [0.0, 1.0], \"range\": [50, 85], \"title\": {\"text\": \"Early Prenatal Care\"}}},\n",
              "                        {\"responsive\": true}\n",
              "                    ).then(function(){\n",
              "                            \n",
              "var gd = document.getElementById('d10ea3b3-d066-4857-985c-5b1426257681');\n",
              "var x = new MutationObserver(function (mutations, observer) {{\n",
              "        var display = window.getComputedStyle(gd).display;\n",
              "        if (!display || display === 'none') {{\n",
              "            console.log([gd, 'removed!']);\n",
              "            Plotly.purge(gd);\n",
              "            observer.disconnect();\n",
              "        }}\n",
              "}});\n",
              "\n",
              "// Listen for the removal of the full notebook cells\n",
              "var notebookContainer = gd.closest('#notebook-container');\n",
              "if (notebookContainer) {{\n",
              "    x.observe(notebookContainer, {childList: true});\n",
              "}}\n",
              "\n",
              "// Listen for the clearing of the current output cell\n",
              "var outputEl = gd.closest('.output');\n",
              "if (outputEl) {{\n",
              "    x.observe(outputEl, {childList: true});\n",
              "}}\n",
              "\n",
              "                        })\n",
              "                };\n",
              "                \n",
              "            </script>\n",
              "        </div>\n",
              "</body>\n",
              "</html>"
            ]
          },
          "metadata": {
            "tags": []
          }
        }
      ]
    },
    {
      "cell_type": "code",
      "metadata": {
        "colab": {
          "base_uri": "https://localhost:8080/",
          "height": 542
        },
        "id": "h1izVAl1wkml",
        "outputId": "491970d9-5d66-430a-a9bc-4432d6c571d3"
      },
      "source": [
        "# line graph of access to early prenatal care for 5 smallest counties in Maryland\n",
        "line_pren_bot5=px.line(df_bot5, x=\"yr\", y=\"early_prenatal_care\", color=\"jurisd\", title=\"Access to Early Prenatal Care in 5 Smallest Counties in Maryland, 2010-2017\", labels={\"yr\":\"Year\", \"early_prenatal_care\": \"Early Prenatal Care\"}, range_y=[50,85])\n",
        "line_pren_bot5"
      ],
      "execution_count": 131,
      "outputs": [
        {
          "output_type": "display_data",
          "data": {
            "text/html": [
              "<html>\n",
              "<head><meta charset=\"utf-8\" /></head>\n",
              "<body>\n",
              "    <div>\n",
              "            <script src=\"https://cdnjs.cloudflare.com/ajax/libs/mathjax/2.7.5/MathJax.js?config=TeX-AMS-MML_SVG\"></script><script type=\"text/javascript\">if (window.MathJax) {MathJax.Hub.Config({SVG: {font: \"STIX-Web\"}});}</script>\n",
              "                <script type=\"text/javascript\">window.PlotlyConfig = {MathJaxConfig: 'local'};</script>\n",
              "        <script src=\"https://cdn.plot.ly/plotly-latest.min.js\"></script>    \n",
              "            <div id=\"8563d511-0bb5-47a8-9748-8f5d7236b586\" class=\"plotly-graph-div\" style=\"height:525px; width:100%;\"></div>\n",
              "            <script type=\"text/javascript\">\n",
              "                \n",
              "                    window.PLOTLYENV=window.PLOTLYENV || {};\n",
              "                    \n",
              "                if (document.getElementById(\"8563d511-0bb5-47a8-9748-8f5d7236b586\")) {\n",
              "                    Plotly.newPlot(\n",
              "                        '8563d511-0bb5-47a8-9748-8f5d7236b586',\n",
              "                        [{\"hoverlabel\": {\"namelength\": 0}, \"hovertemplate\": \"jurisd=Caroline<br>Year=%{x}<br>Early Prenatal Care=%{y}\", \"legendgroup\": \"jurisd=Caroline\", \"line\": {\"color\": \"#636efa\", \"dash\": \"solid\"}, \"mode\": \"lines\", \"name\": \"jurisd=Caroline\", \"showlegend\": true, \"type\": \"scatter\", \"x\": [2017, 2016, 2015, 2014, 2013, 2012, 2011, 2010], \"xaxis\": \"x\", \"y\": [71.3, 72.6, 76.7, 74.1, 73.5, 78.8, 80.9, 75.0], \"yaxis\": \"y\"}, {\"hoverlabel\": {\"namelength\": 0}, \"hovertemplate\": \"jurisd=Dorchester<br>Year=%{x}<br>Early Prenatal Care=%{y}\", \"legendgroup\": \"jurisd=Dorchester\", \"line\": {\"color\": \"#EF553B\", \"dash\": \"solid\"}, \"mode\": \"lines\", \"name\": \"jurisd=Dorchester\", \"showlegend\": true, \"type\": \"scatter\", \"x\": [2017, 2016, 2015, 2014, 2013, 2012, 2011, 2010], \"xaxis\": \"x\", \"y\": [78.4, 76.7, 78.1, 73.4, 73.5, 77.8, 74.1, 73.5], \"yaxis\": \"y\"}, {\"hoverlabel\": {\"namelength\": 0}, \"hovertemplate\": \"jurisd=Garrett<br>Year=%{x}<br>Early Prenatal Care=%{y}\", \"legendgroup\": \"jurisd=Garrett\", \"line\": {\"color\": \"#00cc96\", \"dash\": \"solid\"}, \"mode\": \"lines\", \"name\": \"jurisd=Garrett\", \"showlegend\": true, \"type\": \"scatter\", \"x\": [2017, 2016, 2015, 2014, 2013, 2012, 2011, 2010], \"xaxis\": \"x\", \"y\": [78.9, 82.4, 80.9, 78.4, 81.2, 81.1, 83.0, 82.1], \"yaxis\": \"y\"}, {\"hoverlabel\": {\"namelength\": 0}, \"hovertemplate\": \"jurisd=Kent<br>Year=%{x}<br>Early Prenatal Care=%{y}\", \"legendgroup\": \"jurisd=Kent\", \"line\": {\"color\": \"#ab63fa\", \"dash\": \"solid\"}, \"mode\": \"lines\", \"name\": \"jurisd=Kent\", \"showlegend\": true, \"type\": \"scatter\", \"x\": [2017, 2016, 2015, 2014, 2013, 2012, 2011, 2010], \"xaxis\": \"x\", \"y\": [80.3, 72.9, 81.9, 79.6, 72.7, 74.6, 77.0, 77.3], \"yaxis\": \"y\"}, {\"hoverlabel\": {\"namelength\": 0}, \"hovertemplate\": \"jurisd=Somerset<br>Year=%{x}<br>Early Prenatal Care=%{y}\", \"legendgroup\": \"jurisd=Somerset\", \"line\": {\"color\": \"#FFA15A\", \"dash\": \"solid\"}, \"mode\": \"lines\", \"name\": \"jurisd=Somerset\", \"showlegend\": true, \"type\": \"scatter\", \"x\": [2017, 2016, 2015, 2014, 2013, 2012, 2011, 2010], \"xaxis\": \"x\", \"y\": [76.4, 79.5, 80.5, 76.6, 72.2, 72.2, 79.5, 73.6], \"yaxis\": \"y\"}],\n",
              "                        {\"legend\": {\"tracegroupgap\": 0}, \"template\": {\"data\": {\"bar\": [{\"error_x\": {\"color\": \"#2a3f5f\"}, \"error_y\": {\"color\": \"#2a3f5f\"}, \"marker\": {\"line\": {\"color\": \"#E5ECF6\", \"width\": 0.5}}, \"type\": \"bar\"}], \"barpolar\": [{\"marker\": {\"line\": {\"color\": \"#E5ECF6\", \"width\": 0.5}}, \"type\": \"barpolar\"}], \"carpet\": [{\"aaxis\": {\"endlinecolor\": \"#2a3f5f\", \"gridcolor\": \"white\", \"linecolor\": \"white\", \"minorgridcolor\": \"white\", \"startlinecolor\": \"#2a3f5f\"}, \"baxis\": {\"endlinecolor\": \"#2a3f5f\", \"gridcolor\": \"white\", \"linecolor\": \"white\", \"minorgridcolor\": \"white\", \"startlinecolor\": \"#2a3f5f\"}, \"type\": \"carpet\"}], \"choropleth\": [{\"colorbar\": {\"outlinewidth\": 0, \"ticks\": \"\"}, \"type\": \"choropleth\"}], \"contour\": [{\"colorbar\": {\"outlinewidth\": 0, \"ticks\": \"\"}, \"colorscale\": [[0.0, \"#0d0887\"], [0.1111111111111111, \"#46039f\"], [0.2222222222222222, \"#7201a8\"], [0.3333333333333333, \"#9c179e\"], [0.4444444444444444, \"#bd3786\"], [0.5555555555555556, \"#d8576b\"], [0.6666666666666666, \"#ed7953\"], [0.7777777777777778, \"#fb9f3a\"], [0.8888888888888888, \"#fdca26\"], [1.0, \"#f0f921\"]], \"type\": \"contour\"}], \"contourcarpet\": [{\"colorbar\": {\"outlinewidth\": 0, \"ticks\": \"\"}, \"type\": \"contourcarpet\"}], \"heatmap\": [{\"colorbar\": {\"outlinewidth\": 0, \"ticks\": \"\"}, \"colorscale\": [[0.0, \"#0d0887\"], [0.1111111111111111, \"#46039f\"], [0.2222222222222222, \"#7201a8\"], [0.3333333333333333, \"#9c179e\"], [0.4444444444444444, \"#bd3786\"], [0.5555555555555556, \"#d8576b\"], [0.6666666666666666, \"#ed7953\"], [0.7777777777777778, \"#fb9f3a\"], [0.8888888888888888, \"#fdca26\"], [1.0, \"#f0f921\"]], \"type\": \"heatmap\"}], \"heatmapgl\": [{\"colorbar\": {\"outlinewidth\": 0, \"ticks\": \"\"}, \"colorscale\": [[0.0, \"#0d0887\"], [0.1111111111111111, \"#46039f\"], [0.2222222222222222, \"#7201a8\"], [0.3333333333333333, \"#9c179e\"], [0.4444444444444444, \"#bd3786\"], [0.5555555555555556, \"#d8576b\"], [0.6666666666666666, \"#ed7953\"], [0.7777777777777778, \"#fb9f3a\"], [0.8888888888888888, \"#fdca26\"], [1.0, \"#f0f921\"]], \"type\": \"heatmapgl\"}], \"histogram\": [{\"marker\": {\"colorbar\": {\"outlinewidth\": 0, \"ticks\": \"\"}}, \"type\": \"histogram\"}], \"histogram2d\": [{\"colorbar\": {\"outlinewidth\": 0, \"ticks\": \"\"}, \"colorscale\": [[0.0, \"#0d0887\"], [0.1111111111111111, \"#46039f\"], [0.2222222222222222, \"#7201a8\"], [0.3333333333333333, \"#9c179e\"], [0.4444444444444444, \"#bd3786\"], [0.5555555555555556, \"#d8576b\"], [0.6666666666666666, \"#ed7953\"], [0.7777777777777778, \"#fb9f3a\"], [0.8888888888888888, \"#fdca26\"], [1.0, \"#f0f921\"]], \"type\": \"histogram2d\"}], \"histogram2dcontour\": [{\"colorbar\": {\"outlinewidth\": 0, \"ticks\": \"\"}, \"colorscale\": [[0.0, \"#0d0887\"], [0.1111111111111111, \"#46039f\"], [0.2222222222222222, \"#7201a8\"], [0.3333333333333333, \"#9c179e\"], [0.4444444444444444, \"#bd3786\"], [0.5555555555555556, \"#d8576b\"], [0.6666666666666666, \"#ed7953\"], [0.7777777777777778, \"#fb9f3a\"], [0.8888888888888888, \"#fdca26\"], [1.0, \"#f0f921\"]], \"type\": \"histogram2dcontour\"}], \"mesh3d\": [{\"colorbar\": {\"outlinewidth\": 0, \"ticks\": \"\"}, \"type\": \"mesh3d\"}], \"parcoords\": [{\"line\": {\"colorbar\": {\"outlinewidth\": 0, \"ticks\": \"\"}}, \"type\": \"parcoords\"}], \"pie\": [{\"automargin\": true, \"type\": \"pie\"}], \"scatter\": [{\"marker\": {\"colorbar\": {\"outlinewidth\": 0, \"ticks\": \"\"}}, \"type\": \"scatter\"}], \"scatter3d\": [{\"line\": {\"colorbar\": {\"outlinewidth\": 0, \"ticks\": \"\"}}, \"marker\": {\"colorbar\": {\"outlinewidth\": 0, \"ticks\": \"\"}}, \"type\": \"scatter3d\"}], \"scattercarpet\": [{\"marker\": {\"colorbar\": {\"outlinewidth\": 0, \"ticks\": \"\"}}, \"type\": \"scattercarpet\"}], \"scattergeo\": [{\"marker\": {\"colorbar\": {\"outlinewidth\": 0, \"ticks\": \"\"}}, \"type\": \"scattergeo\"}], \"scattergl\": [{\"marker\": {\"colorbar\": {\"outlinewidth\": 0, \"ticks\": \"\"}}, \"type\": \"scattergl\"}], \"scattermapbox\": [{\"marker\": {\"colorbar\": {\"outlinewidth\": 0, \"ticks\": \"\"}}, \"type\": \"scattermapbox\"}], \"scatterpolar\": [{\"marker\": {\"colorbar\": {\"outlinewidth\": 0, \"ticks\": \"\"}}, \"type\": \"scatterpolar\"}], \"scatterpolargl\": [{\"marker\": {\"colorbar\": {\"outlinewidth\": 0, \"ticks\": \"\"}}, \"type\": \"scatterpolargl\"}], \"scatterternary\": [{\"marker\": {\"colorbar\": {\"outlinewidth\": 0, \"ticks\": \"\"}}, \"type\": \"scatterternary\"}], \"surface\": [{\"colorbar\": {\"outlinewidth\": 0, \"ticks\": \"\"}, \"colorscale\": [[0.0, \"#0d0887\"], [0.1111111111111111, \"#46039f\"], [0.2222222222222222, \"#7201a8\"], [0.3333333333333333, \"#9c179e\"], [0.4444444444444444, \"#bd3786\"], [0.5555555555555556, \"#d8576b\"], [0.6666666666666666, \"#ed7953\"], [0.7777777777777778, \"#fb9f3a\"], [0.8888888888888888, \"#fdca26\"], [1.0, \"#f0f921\"]], \"type\": \"surface\"}], \"table\": [{\"cells\": {\"fill\": {\"color\": \"#EBF0F8\"}, \"line\": {\"color\": \"white\"}}, \"header\": {\"fill\": {\"color\": \"#C8D4E3\"}, \"line\": {\"color\": \"white\"}}, \"type\": \"table\"}]}, \"layout\": {\"annotationdefaults\": {\"arrowcolor\": \"#2a3f5f\", \"arrowhead\": 0, \"arrowwidth\": 1}, \"coloraxis\": {\"colorbar\": {\"outlinewidth\": 0, \"ticks\": \"\"}}, \"colorscale\": {\"diverging\": [[0, \"#8e0152\"], [0.1, \"#c51b7d\"], [0.2, \"#de77ae\"], [0.3, \"#f1b6da\"], [0.4, \"#fde0ef\"], [0.5, \"#f7f7f7\"], [0.6, \"#e6f5d0\"], [0.7, \"#b8e186\"], [0.8, \"#7fbc41\"], [0.9, \"#4d9221\"], [1, \"#276419\"]], \"sequential\": [[0.0, \"#0d0887\"], [0.1111111111111111, \"#46039f\"], [0.2222222222222222, \"#7201a8\"], [0.3333333333333333, \"#9c179e\"], [0.4444444444444444, \"#bd3786\"], [0.5555555555555556, \"#d8576b\"], [0.6666666666666666, \"#ed7953\"], [0.7777777777777778, \"#fb9f3a\"], [0.8888888888888888, \"#fdca26\"], [1.0, \"#f0f921\"]], \"sequentialminus\": [[0.0, \"#0d0887\"], [0.1111111111111111, \"#46039f\"], [0.2222222222222222, \"#7201a8\"], [0.3333333333333333, \"#9c179e\"], [0.4444444444444444, \"#bd3786\"], [0.5555555555555556, \"#d8576b\"], [0.6666666666666666, \"#ed7953\"], [0.7777777777777778, \"#fb9f3a\"], [0.8888888888888888, \"#fdca26\"], [1.0, \"#f0f921\"]]}, \"colorway\": [\"#636efa\", \"#EF553B\", \"#00cc96\", \"#ab63fa\", \"#FFA15A\", \"#19d3f3\", \"#FF6692\", \"#B6E880\", \"#FF97FF\", \"#FECB52\"], \"font\": {\"color\": \"#2a3f5f\"}, \"geo\": {\"bgcolor\": \"white\", \"lakecolor\": \"white\", \"landcolor\": \"#E5ECF6\", \"showlakes\": true, \"showland\": true, \"subunitcolor\": \"white\"}, \"hoverlabel\": {\"align\": \"left\"}, \"hovermode\": \"closest\", \"mapbox\": {\"style\": \"light\"}, \"paper_bgcolor\": \"white\", \"plot_bgcolor\": \"#E5ECF6\", \"polar\": {\"angularaxis\": {\"gridcolor\": \"white\", \"linecolor\": \"white\", \"ticks\": \"\"}, \"bgcolor\": \"#E5ECF6\", \"radialaxis\": {\"gridcolor\": \"white\", \"linecolor\": \"white\", \"ticks\": \"\"}}, \"scene\": {\"xaxis\": {\"backgroundcolor\": \"#E5ECF6\", \"gridcolor\": \"white\", \"gridwidth\": 2, \"linecolor\": \"white\", \"showbackground\": true, \"ticks\": \"\", \"zerolinecolor\": \"white\"}, \"yaxis\": {\"backgroundcolor\": \"#E5ECF6\", \"gridcolor\": \"white\", \"gridwidth\": 2, \"linecolor\": \"white\", \"showbackground\": true, \"ticks\": \"\", \"zerolinecolor\": \"white\"}, \"zaxis\": {\"backgroundcolor\": \"#E5ECF6\", \"gridcolor\": \"white\", \"gridwidth\": 2, \"linecolor\": \"white\", \"showbackground\": true, \"ticks\": \"\", \"zerolinecolor\": \"white\"}}, \"shapedefaults\": {\"line\": {\"color\": \"#2a3f5f\"}}, \"ternary\": {\"aaxis\": {\"gridcolor\": \"white\", \"linecolor\": \"white\", \"ticks\": \"\"}, \"baxis\": {\"gridcolor\": \"white\", \"linecolor\": \"white\", \"ticks\": \"\"}, \"bgcolor\": \"#E5ECF6\", \"caxis\": {\"gridcolor\": \"white\", \"linecolor\": \"white\", \"ticks\": \"\"}}, \"title\": {\"x\": 0.05}, \"xaxis\": {\"automargin\": true, \"gridcolor\": \"white\", \"linecolor\": \"white\", \"ticks\": \"\", \"title\": {\"standoff\": 15}, \"zerolinecolor\": \"white\", \"zerolinewidth\": 2}, \"yaxis\": {\"automargin\": true, \"gridcolor\": \"white\", \"linecolor\": \"white\", \"ticks\": \"\", \"title\": {\"standoff\": 15}, \"zerolinecolor\": \"white\", \"zerolinewidth\": 2}}}, \"title\": {\"text\": \"Access to Early Prenatal Care in 5 Smallest Counties in Maryland, 2010-2017\"}, \"xaxis\": {\"anchor\": \"y\", \"domain\": [0.0, 1.0], \"title\": {\"text\": \"Year\"}}, \"yaxis\": {\"anchor\": \"x\", \"domain\": [0.0, 1.0], \"range\": [50, 85], \"title\": {\"text\": \"Early Prenatal Care\"}}},\n",
              "                        {\"responsive\": true}\n",
              "                    ).then(function(){\n",
              "                            \n",
              "var gd = document.getElementById('8563d511-0bb5-47a8-9748-8f5d7236b586');\n",
              "var x = new MutationObserver(function (mutations, observer) {{\n",
              "        var display = window.getComputedStyle(gd).display;\n",
              "        if (!display || display === 'none') {{\n",
              "            console.log([gd, 'removed!']);\n",
              "            Plotly.purge(gd);\n",
              "            observer.disconnect();\n",
              "        }}\n",
              "}});\n",
              "\n",
              "// Listen for the removal of the full notebook cells\n",
              "var notebookContainer = gd.closest('#notebook-container');\n",
              "if (notebookContainer) {{\n",
              "    x.observe(notebookContainer, {childList: true});\n",
              "}}\n",
              "\n",
              "// Listen for the clearing of the current output cell\n",
              "var outputEl = gd.closest('.output');\n",
              "if (outputEl) {{\n",
              "    x.observe(outputEl, {childList: true});\n",
              "}}\n",
              "\n",
              "                        })\n",
              "                };\n",
              "                \n",
              "            </script>\n",
              "        </div>\n",
              "</body>\n",
              "</html>"
            ]
          },
          "metadata": {
            "tags": []
          }
        }
      ]
    },
    {
      "cell_type": "code",
      "metadata": {
        "colab": {
          "base_uri": "https://localhost:8080/",
          "height": 542
        },
        "id": "un1HFADiwq8u",
        "outputId": "f5a44e0c-7bc5-42d9-9723-645af5ea94ba"
      },
      "source": [
        "# line graph of babies with low birth weight for 5 largest counties in Maryland\n",
        "line_babies_top5=px.line(df_top5, x=\"yr\", y=\"babies_low_birth_weight\", color=\"jurisd\", title=\"Babies with Low Birth Weight in 5 Largest Counties Maryland, 2010-2017\", labels={\"yr\":\"Year\", \"babies_low_birth_weight\":\"Babies with Low Birth Weight\"})\n",
        "line_babies_top5"
      ],
      "execution_count": 132,
      "outputs": [
        {
          "output_type": "display_data",
          "data": {
            "text/html": [
              "<html>\n",
              "<head><meta charset=\"utf-8\" /></head>\n",
              "<body>\n",
              "    <div>\n",
              "            <script src=\"https://cdnjs.cloudflare.com/ajax/libs/mathjax/2.7.5/MathJax.js?config=TeX-AMS-MML_SVG\"></script><script type=\"text/javascript\">if (window.MathJax) {MathJax.Hub.Config({SVG: {font: \"STIX-Web\"}});}</script>\n",
              "                <script type=\"text/javascript\">window.PlotlyConfig = {MathJaxConfig: 'local'};</script>\n",
              "        <script src=\"https://cdn.plot.ly/plotly-latest.min.js\"></script>    \n",
              "            <div id=\"c42d9454-b263-4471-9512-fdb912240a80\" class=\"plotly-graph-div\" style=\"height:525px; width:100%;\"></div>\n",
              "            <script type=\"text/javascript\">\n",
              "                \n",
              "                    window.PLOTLYENV=window.PLOTLYENV || {};\n",
              "                    \n",
              "                if (document.getElementById(\"c42d9454-b263-4471-9512-fdb912240a80\")) {\n",
              "                    Plotly.newPlot(\n",
              "                        'c42d9454-b263-4471-9512-fdb912240a80',\n",
              "                        [{\"hoverlabel\": {\"namelength\": 0}, \"hovertemplate\": \"jurisd=Anne Arundel<br>Year=%{x}<br>Babies with Low Birth Weight=%{y}\", \"legendgroup\": \"jurisd=Anne Arundel\", \"line\": {\"color\": \"#636efa\", \"dash\": \"solid\"}, \"mode\": \"lines\", \"name\": \"jurisd=Anne Arundel\", \"showlegend\": true, \"type\": \"scatter\", \"x\": [2017, 2016, 2015, 2014, 2013, 2012, 2011, 2010], \"xaxis\": \"x\", \"y\": [7.8, 7.4, 7.8, 8.1, 7.5, 7.8, 8.1, 8.2], \"yaxis\": \"y\"}, {\"hoverlabel\": {\"namelength\": 0}, \"hovertemplate\": \"jurisd=Baltimore City<br>Year=%{x}<br>Babies with Low Birth Weight=%{y}\", \"legendgroup\": \"jurisd=Baltimore City\", \"line\": {\"color\": \"#EF553B\", \"dash\": \"solid\"}, \"mode\": \"lines\", \"name\": \"jurisd=Baltimore City\", \"showlegend\": true, \"type\": \"scatter\", \"x\": [2017, 2016, 2015, 2014, 2013, 2012, 2011, 2010], \"xaxis\": \"x\", \"y\": [12.4, 11.7, 12.3, 11.5, 11.9, 11.8, 11.6, 11.7], \"yaxis\": \"y\"}, {\"hoverlabel\": {\"namelength\": 0}, \"hovertemplate\": \"jurisd=Baltimore County<br>Year=%{x}<br>Babies with Low Birth Weight=%{y}\", \"legendgroup\": \"jurisd=Baltimore County\", \"line\": {\"color\": \"#00cc96\", \"dash\": \"solid\"}, \"mode\": \"lines\", \"name\": \"jurisd=Baltimore County\", \"showlegend\": true, \"type\": \"scatter\", \"x\": [2017, 2016, 2015, 2014, 2013, 2012, 2011, 2010], \"xaxis\": \"x\", \"y\": [9.5, 8.8, 9.0, 8.8, 8.5, 9.0, 9.1, 8.4], \"yaxis\": \"y\"}, {\"hoverlabel\": {\"namelength\": 0}, \"hovertemplate\": \"jurisd=Montgomery<br>Year=%{x}<br>Babies with Low Birth Weight=%{y}\", \"legendgroup\": \"jurisd=Montgomery\", \"line\": {\"color\": \"#ab63fa\", \"dash\": \"solid\"}, \"mode\": \"lines\", \"name\": \"jurisd=Montgomery\", \"showlegend\": true, \"type\": \"scatter\", \"x\": [2017, 2016, 2015, 2014, 2013, 2012, 2011, 2010], \"xaxis\": \"x\", \"y\": [7.5, 7.2, 7.1, 7.7, 7.5, 7.4, 7.7, 7.7], \"yaxis\": \"y\"}, {\"hoverlabel\": {\"namelength\": 0}, \"hovertemplate\": \"jurisd=Prince George's<br>Year=%{x}<br>Babies with Low Birth Weight=%{y}\", \"legendgroup\": \"jurisd=Prince George's\", \"line\": {\"color\": \"#FFA15A\", \"dash\": \"solid\"}, \"mode\": \"lines\", \"name\": \"jurisd=Prince George's\", \"showlegend\": true, \"type\": \"scatter\", \"x\": [2017, 2016, 2015, 2014, 2013, 2012, 2011, 2010], \"xaxis\": \"x\", \"y\": [9.8, 9.7, 9.1, 9.2, 9.4, 10.0, 10.0, 10.2], \"yaxis\": \"y\"}],\n",
              "                        {\"legend\": {\"tracegroupgap\": 0}, \"template\": {\"data\": {\"bar\": [{\"error_x\": {\"color\": \"#2a3f5f\"}, \"error_y\": {\"color\": \"#2a3f5f\"}, \"marker\": {\"line\": {\"color\": \"#E5ECF6\", \"width\": 0.5}}, \"type\": \"bar\"}], \"barpolar\": [{\"marker\": {\"line\": {\"color\": \"#E5ECF6\", \"width\": 0.5}}, \"type\": \"barpolar\"}], \"carpet\": [{\"aaxis\": {\"endlinecolor\": \"#2a3f5f\", \"gridcolor\": \"white\", \"linecolor\": \"white\", \"minorgridcolor\": \"white\", \"startlinecolor\": \"#2a3f5f\"}, \"baxis\": {\"endlinecolor\": \"#2a3f5f\", \"gridcolor\": \"white\", \"linecolor\": \"white\", \"minorgridcolor\": \"white\", \"startlinecolor\": \"#2a3f5f\"}, \"type\": \"carpet\"}], \"choropleth\": [{\"colorbar\": {\"outlinewidth\": 0, \"ticks\": \"\"}, \"type\": \"choropleth\"}], \"contour\": [{\"colorbar\": {\"outlinewidth\": 0, \"ticks\": \"\"}, \"colorscale\": [[0.0, \"#0d0887\"], [0.1111111111111111, \"#46039f\"], [0.2222222222222222, \"#7201a8\"], [0.3333333333333333, \"#9c179e\"], [0.4444444444444444, \"#bd3786\"], [0.5555555555555556, \"#d8576b\"], [0.6666666666666666, \"#ed7953\"], [0.7777777777777778, \"#fb9f3a\"], [0.8888888888888888, \"#fdca26\"], [1.0, \"#f0f921\"]], \"type\": \"contour\"}], \"contourcarpet\": [{\"colorbar\": {\"outlinewidth\": 0, \"ticks\": \"\"}, \"type\": \"contourcarpet\"}], \"heatmap\": [{\"colorbar\": {\"outlinewidth\": 0, \"ticks\": \"\"}, \"colorscale\": [[0.0, \"#0d0887\"], [0.1111111111111111, \"#46039f\"], [0.2222222222222222, \"#7201a8\"], [0.3333333333333333, \"#9c179e\"], [0.4444444444444444, \"#bd3786\"], [0.5555555555555556, \"#d8576b\"], [0.6666666666666666, \"#ed7953\"], [0.7777777777777778, \"#fb9f3a\"], [0.8888888888888888, \"#fdca26\"], [1.0, \"#f0f921\"]], \"type\": \"heatmap\"}], \"heatmapgl\": [{\"colorbar\": {\"outlinewidth\": 0, \"ticks\": \"\"}, \"colorscale\": [[0.0, \"#0d0887\"], [0.1111111111111111, \"#46039f\"], [0.2222222222222222, \"#7201a8\"], [0.3333333333333333, \"#9c179e\"], [0.4444444444444444, \"#bd3786\"], [0.5555555555555556, \"#d8576b\"], [0.6666666666666666, \"#ed7953\"], [0.7777777777777778, \"#fb9f3a\"], [0.8888888888888888, \"#fdca26\"], [1.0, \"#f0f921\"]], \"type\": \"heatmapgl\"}], \"histogram\": [{\"marker\": {\"colorbar\": {\"outlinewidth\": 0, \"ticks\": \"\"}}, \"type\": \"histogram\"}], \"histogram2d\": [{\"colorbar\": {\"outlinewidth\": 0, \"ticks\": \"\"}, \"colorscale\": [[0.0, \"#0d0887\"], [0.1111111111111111, \"#46039f\"], [0.2222222222222222, \"#7201a8\"], [0.3333333333333333, \"#9c179e\"], [0.4444444444444444, \"#bd3786\"], [0.5555555555555556, \"#d8576b\"], [0.6666666666666666, \"#ed7953\"], [0.7777777777777778, \"#fb9f3a\"], [0.8888888888888888, \"#fdca26\"], [1.0, \"#f0f921\"]], \"type\": \"histogram2d\"}], \"histogram2dcontour\": [{\"colorbar\": {\"outlinewidth\": 0, \"ticks\": \"\"}, \"colorscale\": [[0.0, \"#0d0887\"], [0.1111111111111111, \"#46039f\"], [0.2222222222222222, \"#7201a8\"], [0.3333333333333333, \"#9c179e\"], [0.4444444444444444, \"#bd3786\"], [0.5555555555555556, \"#d8576b\"], [0.6666666666666666, \"#ed7953\"], [0.7777777777777778, \"#fb9f3a\"], [0.8888888888888888, \"#fdca26\"], [1.0, \"#f0f921\"]], \"type\": \"histogram2dcontour\"}], \"mesh3d\": [{\"colorbar\": {\"outlinewidth\": 0, \"ticks\": \"\"}, \"type\": \"mesh3d\"}], \"parcoords\": [{\"line\": {\"colorbar\": {\"outlinewidth\": 0, \"ticks\": \"\"}}, \"type\": \"parcoords\"}], \"pie\": [{\"automargin\": true, \"type\": \"pie\"}], \"scatter\": [{\"marker\": {\"colorbar\": {\"outlinewidth\": 0, \"ticks\": \"\"}}, \"type\": \"scatter\"}], \"scatter3d\": [{\"line\": {\"colorbar\": {\"outlinewidth\": 0, \"ticks\": \"\"}}, \"marker\": {\"colorbar\": {\"outlinewidth\": 0, \"ticks\": \"\"}}, \"type\": \"scatter3d\"}], \"scattercarpet\": [{\"marker\": {\"colorbar\": {\"outlinewidth\": 0, \"ticks\": \"\"}}, \"type\": \"scattercarpet\"}], \"scattergeo\": [{\"marker\": {\"colorbar\": {\"outlinewidth\": 0, \"ticks\": \"\"}}, \"type\": \"scattergeo\"}], \"scattergl\": [{\"marker\": {\"colorbar\": {\"outlinewidth\": 0, \"ticks\": \"\"}}, \"type\": \"scattergl\"}], \"scattermapbox\": [{\"marker\": {\"colorbar\": {\"outlinewidth\": 0, \"ticks\": \"\"}}, \"type\": \"scattermapbox\"}], \"scatterpolar\": [{\"marker\": {\"colorbar\": {\"outlinewidth\": 0, \"ticks\": \"\"}}, \"type\": \"scatterpolar\"}], \"scatterpolargl\": [{\"marker\": {\"colorbar\": {\"outlinewidth\": 0, \"ticks\": \"\"}}, \"type\": \"scatterpolargl\"}], \"scatterternary\": [{\"marker\": {\"colorbar\": {\"outlinewidth\": 0, \"ticks\": \"\"}}, \"type\": \"scatterternary\"}], \"surface\": [{\"colorbar\": {\"outlinewidth\": 0, \"ticks\": \"\"}, \"colorscale\": [[0.0, \"#0d0887\"], [0.1111111111111111, \"#46039f\"], [0.2222222222222222, \"#7201a8\"], [0.3333333333333333, \"#9c179e\"], [0.4444444444444444, \"#bd3786\"], [0.5555555555555556, \"#d8576b\"], [0.6666666666666666, \"#ed7953\"], [0.7777777777777778, \"#fb9f3a\"], [0.8888888888888888, \"#fdca26\"], [1.0, \"#f0f921\"]], \"type\": \"surface\"}], \"table\": [{\"cells\": {\"fill\": {\"color\": \"#EBF0F8\"}, \"line\": {\"color\": \"white\"}}, \"header\": {\"fill\": {\"color\": \"#C8D4E3\"}, \"line\": {\"color\": \"white\"}}, \"type\": \"table\"}]}, \"layout\": {\"annotationdefaults\": {\"arrowcolor\": \"#2a3f5f\", \"arrowhead\": 0, \"arrowwidth\": 1}, \"coloraxis\": {\"colorbar\": {\"outlinewidth\": 0, \"ticks\": \"\"}}, \"colorscale\": {\"diverging\": [[0, \"#8e0152\"], [0.1, \"#c51b7d\"], [0.2, \"#de77ae\"], [0.3, \"#f1b6da\"], [0.4, \"#fde0ef\"], [0.5, \"#f7f7f7\"], [0.6, \"#e6f5d0\"], [0.7, \"#b8e186\"], [0.8, \"#7fbc41\"], [0.9, \"#4d9221\"], [1, \"#276419\"]], \"sequential\": [[0.0, \"#0d0887\"], [0.1111111111111111, \"#46039f\"], [0.2222222222222222, \"#7201a8\"], [0.3333333333333333, \"#9c179e\"], [0.4444444444444444, \"#bd3786\"], [0.5555555555555556, \"#d8576b\"], [0.6666666666666666, \"#ed7953\"], [0.7777777777777778, \"#fb9f3a\"], [0.8888888888888888, \"#fdca26\"], [1.0, \"#f0f921\"]], \"sequentialminus\": [[0.0, \"#0d0887\"], [0.1111111111111111, \"#46039f\"], [0.2222222222222222, \"#7201a8\"], [0.3333333333333333, \"#9c179e\"], [0.4444444444444444, \"#bd3786\"], [0.5555555555555556, \"#d8576b\"], [0.6666666666666666, \"#ed7953\"], [0.7777777777777778, \"#fb9f3a\"], [0.8888888888888888, \"#fdca26\"], [1.0, \"#f0f921\"]]}, \"colorway\": [\"#636efa\", \"#EF553B\", \"#00cc96\", \"#ab63fa\", \"#FFA15A\", \"#19d3f3\", \"#FF6692\", \"#B6E880\", \"#FF97FF\", \"#FECB52\"], \"font\": {\"color\": \"#2a3f5f\"}, \"geo\": {\"bgcolor\": \"white\", \"lakecolor\": \"white\", \"landcolor\": \"#E5ECF6\", \"showlakes\": true, \"showland\": true, \"subunitcolor\": \"white\"}, \"hoverlabel\": {\"align\": \"left\"}, \"hovermode\": \"closest\", \"mapbox\": {\"style\": \"light\"}, \"paper_bgcolor\": \"white\", \"plot_bgcolor\": \"#E5ECF6\", \"polar\": {\"angularaxis\": {\"gridcolor\": \"white\", \"linecolor\": \"white\", \"ticks\": \"\"}, \"bgcolor\": \"#E5ECF6\", \"radialaxis\": {\"gridcolor\": \"white\", \"linecolor\": \"white\", \"ticks\": \"\"}}, \"scene\": {\"xaxis\": {\"backgroundcolor\": \"#E5ECF6\", \"gridcolor\": \"white\", \"gridwidth\": 2, \"linecolor\": \"white\", \"showbackground\": true, \"ticks\": \"\", \"zerolinecolor\": \"white\"}, \"yaxis\": {\"backgroundcolor\": \"#E5ECF6\", \"gridcolor\": \"white\", \"gridwidth\": 2, \"linecolor\": \"white\", \"showbackground\": true, \"ticks\": \"\", \"zerolinecolor\": \"white\"}, \"zaxis\": {\"backgroundcolor\": \"#E5ECF6\", \"gridcolor\": \"white\", \"gridwidth\": 2, \"linecolor\": \"white\", \"showbackground\": true, \"ticks\": \"\", \"zerolinecolor\": \"white\"}}, \"shapedefaults\": {\"line\": {\"color\": \"#2a3f5f\"}}, \"ternary\": {\"aaxis\": {\"gridcolor\": \"white\", \"linecolor\": \"white\", \"ticks\": \"\"}, \"baxis\": {\"gridcolor\": \"white\", \"linecolor\": \"white\", \"ticks\": \"\"}, \"bgcolor\": \"#E5ECF6\", \"caxis\": {\"gridcolor\": \"white\", \"linecolor\": \"white\", \"ticks\": \"\"}}, \"title\": {\"x\": 0.05}, \"xaxis\": {\"automargin\": true, \"gridcolor\": \"white\", \"linecolor\": \"white\", \"ticks\": \"\", \"title\": {\"standoff\": 15}, \"zerolinecolor\": \"white\", \"zerolinewidth\": 2}, \"yaxis\": {\"automargin\": true, \"gridcolor\": \"white\", \"linecolor\": \"white\", \"ticks\": \"\", \"title\": {\"standoff\": 15}, \"zerolinecolor\": \"white\", \"zerolinewidth\": 2}}}, \"title\": {\"text\": \"Babies with Low Birth Weight in 5 Largest Counties Maryland, 2010-2017\"}, \"xaxis\": {\"anchor\": \"y\", \"domain\": [0.0, 1.0], \"title\": {\"text\": \"Year\"}}, \"yaxis\": {\"anchor\": \"x\", \"domain\": [0.0, 1.0], \"title\": {\"text\": \"Babies with Low Birth Weight\"}}},\n",
              "                        {\"responsive\": true}\n",
              "                    ).then(function(){\n",
              "                            \n",
              "var gd = document.getElementById('c42d9454-b263-4471-9512-fdb912240a80');\n",
              "var x = new MutationObserver(function (mutations, observer) {{\n",
              "        var display = window.getComputedStyle(gd).display;\n",
              "        if (!display || display === 'none') {{\n",
              "            console.log([gd, 'removed!']);\n",
              "            Plotly.purge(gd);\n",
              "            observer.disconnect();\n",
              "        }}\n",
              "}});\n",
              "\n",
              "// Listen for the removal of the full notebook cells\n",
              "var notebookContainer = gd.closest('#notebook-container');\n",
              "if (notebookContainer) {{\n",
              "    x.observe(notebookContainer, {childList: true});\n",
              "}}\n",
              "\n",
              "// Listen for the clearing of the current output cell\n",
              "var outputEl = gd.closest('.output');\n",
              "if (outputEl) {{\n",
              "    x.observe(outputEl, {childList: true});\n",
              "}}\n",
              "\n",
              "                        })\n",
              "                };\n",
              "                \n",
              "            </script>\n",
              "        </div>\n",
              "</body>\n",
              "</html>"
            ]
          },
          "metadata": {
            "tags": []
          }
        }
      ]
    },
    {
      "cell_type": "code",
      "metadata": {
        "colab": {
          "base_uri": "https://localhost:8080/",
          "height": 542
        },
        "id": "s2eOEUeHxDhd",
        "outputId": "d155bcc9-276c-4adc-da28-6dafff32c8a1"
      },
      "source": [
        "# line graph of babies with low birth weight for 5 smallest counties in Maryland\n",
        "line_babies_bot5=px.line(df_top5, x=\"yr\", y=\"babies_low_birth_weight\", color=\"jurisd\", title=\"Babies with Low Birth Weight in 5 Smallest Counties Maryland, 2010-2017\", labels={\"yr\":\"Year\", \"babies_low_birth_weight\":\"Babies with Low Birth Weight\"})\n",
        "line_babies_bot5"
      ],
      "execution_count": 133,
      "outputs": [
        {
          "output_type": "display_data",
          "data": {
            "text/html": [
              "<html>\n",
              "<head><meta charset=\"utf-8\" /></head>\n",
              "<body>\n",
              "    <div>\n",
              "            <script src=\"https://cdnjs.cloudflare.com/ajax/libs/mathjax/2.7.5/MathJax.js?config=TeX-AMS-MML_SVG\"></script><script type=\"text/javascript\">if (window.MathJax) {MathJax.Hub.Config({SVG: {font: \"STIX-Web\"}});}</script>\n",
              "                <script type=\"text/javascript\">window.PlotlyConfig = {MathJaxConfig: 'local'};</script>\n",
              "        <script src=\"https://cdn.plot.ly/plotly-latest.min.js\"></script>    \n",
              "            <div id=\"47dd4ce0-2e26-47fa-9138-0066333987c1\" class=\"plotly-graph-div\" style=\"height:525px; width:100%;\"></div>\n",
              "            <script type=\"text/javascript\">\n",
              "                \n",
              "                    window.PLOTLYENV=window.PLOTLYENV || {};\n",
              "                    \n",
              "                if (document.getElementById(\"47dd4ce0-2e26-47fa-9138-0066333987c1\")) {\n",
              "                    Plotly.newPlot(\n",
              "                        '47dd4ce0-2e26-47fa-9138-0066333987c1',\n",
              "                        [{\"hoverlabel\": {\"namelength\": 0}, \"hovertemplate\": \"jurisd=Anne Arundel<br>Year=%{x}<br>Babies with Low Birth Weight=%{y}\", \"legendgroup\": \"jurisd=Anne Arundel\", \"line\": {\"color\": \"#636efa\", \"dash\": \"solid\"}, \"mode\": \"lines\", \"name\": \"jurisd=Anne Arundel\", \"showlegend\": true, \"type\": \"scatter\", \"x\": [2017, 2016, 2015, 2014, 2013, 2012, 2011, 2010], \"xaxis\": \"x\", \"y\": [7.8, 7.4, 7.8, 8.1, 7.5, 7.8, 8.1, 8.2], \"yaxis\": \"y\"}, {\"hoverlabel\": {\"namelength\": 0}, \"hovertemplate\": \"jurisd=Baltimore City<br>Year=%{x}<br>Babies with Low Birth Weight=%{y}\", \"legendgroup\": \"jurisd=Baltimore City\", \"line\": {\"color\": \"#EF553B\", \"dash\": \"solid\"}, \"mode\": \"lines\", \"name\": \"jurisd=Baltimore City\", \"showlegend\": true, \"type\": \"scatter\", \"x\": [2017, 2016, 2015, 2014, 2013, 2012, 2011, 2010], \"xaxis\": \"x\", \"y\": [12.4, 11.7, 12.3, 11.5, 11.9, 11.8, 11.6, 11.7], \"yaxis\": \"y\"}, {\"hoverlabel\": {\"namelength\": 0}, \"hovertemplate\": \"jurisd=Baltimore County<br>Year=%{x}<br>Babies with Low Birth Weight=%{y}\", \"legendgroup\": \"jurisd=Baltimore County\", \"line\": {\"color\": \"#00cc96\", \"dash\": \"solid\"}, \"mode\": \"lines\", \"name\": \"jurisd=Baltimore County\", \"showlegend\": true, \"type\": \"scatter\", \"x\": [2017, 2016, 2015, 2014, 2013, 2012, 2011, 2010], \"xaxis\": \"x\", \"y\": [9.5, 8.8, 9.0, 8.8, 8.5, 9.0, 9.1, 8.4], \"yaxis\": \"y\"}, {\"hoverlabel\": {\"namelength\": 0}, \"hovertemplate\": \"jurisd=Montgomery<br>Year=%{x}<br>Babies with Low Birth Weight=%{y}\", \"legendgroup\": \"jurisd=Montgomery\", \"line\": {\"color\": \"#ab63fa\", \"dash\": \"solid\"}, \"mode\": \"lines\", \"name\": \"jurisd=Montgomery\", \"showlegend\": true, \"type\": \"scatter\", \"x\": [2017, 2016, 2015, 2014, 2013, 2012, 2011, 2010], \"xaxis\": \"x\", \"y\": [7.5, 7.2, 7.1, 7.7, 7.5, 7.4, 7.7, 7.7], \"yaxis\": \"y\"}, {\"hoverlabel\": {\"namelength\": 0}, \"hovertemplate\": \"jurisd=Prince George's<br>Year=%{x}<br>Babies with Low Birth Weight=%{y}\", \"legendgroup\": \"jurisd=Prince George's\", \"line\": {\"color\": \"#FFA15A\", \"dash\": \"solid\"}, \"mode\": \"lines\", \"name\": \"jurisd=Prince George's\", \"showlegend\": true, \"type\": \"scatter\", \"x\": [2017, 2016, 2015, 2014, 2013, 2012, 2011, 2010], \"xaxis\": \"x\", \"y\": [9.8, 9.7, 9.1, 9.2, 9.4, 10.0, 10.0, 10.2], \"yaxis\": \"y\"}],\n",
              "                        {\"legend\": {\"tracegroupgap\": 0}, \"template\": {\"data\": {\"bar\": [{\"error_x\": {\"color\": \"#2a3f5f\"}, \"error_y\": {\"color\": \"#2a3f5f\"}, \"marker\": {\"line\": {\"color\": \"#E5ECF6\", \"width\": 0.5}}, \"type\": \"bar\"}], \"barpolar\": [{\"marker\": {\"line\": {\"color\": \"#E5ECF6\", \"width\": 0.5}}, \"type\": \"barpolar\"}], \"carpet\": [{\"aaxis\": {\"endlinecolor\": \"#2a3f5f\", \"gridcolor\": \"white\", \"linecolor\": \"white\", \"minorgridcolor\": \"white\", \"startlinecolor\": \"#2a3f5f\"}, \"baxis\": {\"endlinecolor\": \"#2a3f5f\", \"gridcolor\": \"white\", \"linecolor\": \"white\", \"minorgridcolor\": \"white\", \"startlinecolor\": \"#2a3f5f\"}, \"type\": \"carpet\"}], \"choropleth\": [{\"colorbar\": {\"outlinewidth\": 0, \"ticks\": \"\"}, \"type\": \"choropleth\"}], \"contour\": [{\"colorbar\": {\"outlinewidth\": 0, \"ticks\": \"\"}, \"colorscale\": [[0.0, \"#0d0887\"], [0.1111111111111111, \"#46039f\"], [0.2222222222222222, \"#7201a8\"], [0.3333333333333333, \"#9c179e\"], [0.4444444444444444, \"#bd3786\"], [0.5555555555555556, \"#d8576b\"], [0.6666666666666666, \"#ed7953\"], [0.7777777777777778, \"#fb9f3a\"], [0.8888888888888888, \"#fdca26\"], [1.0, \"#f0f921\"]], \"type\": \"contour\"}], \"contourcarpet\": [{\"colorbar\": {\"outlinewidth\": 0, \"ticks\": \"\"}, \"type\": \"contourcarpet\"}], \"heatmap\": [{\"colorbar\": {\"outlinewidth\": 0, \"ticks\": \"\"}, \"colorscale\": [[0.0, \"#0d0887\"], [0.1111111111111111, \"#46039f\"], [0.2222222222222222, \"#7201a8\"], [0.3333333333333333, \"#9c179e\"], [0.4444444444444444, \"#bd3786\"], [0.5555555555555556, \"#d8576b\"], [0.6666666666666666, \"#ed7953\"], [0.7777777777777778, \"#fb9f3a\"], [0.8888888888888888, \"#fdca26\"], [1.0, \"#f0f921\"]], \"type\": \"heatmap\"}], \"heatmapgl\": [{\"colorbar\": {\"outlinewidth\": 0, \"ticks\": \"\"}, \"colorscale\": [[0.0, \"#0d0887\"], [0.1111111111111111, \"#46039f\"], [0.2222222222222222, \"#7201a8\"], [0.3333333333333333, \"#9c179e\"], [0.4444444444444444, \"#bd3786\"], [0.5555555555555556, \"#d8576b\"], [0.6666666666666666, \"#ed7953\"], [0.7777777777777778, \"#fb9f3a\"], [0.8888888888888888, \"#fdca26\"], [1.0, \"#f0f921\"]], \"type\": \"heatmapgl\"}], \"histogram\": [{\"marker\": {\"colorbar\": {\"outlinewidth\": 0, \"ticks\": \"\"}}, \"type\": \"histogram\"}], \"histogram2d\": [{\"colorbar\": {\"outlinewidth\": 0, \"ticks\": \"\"}, \"colorscale\": [[0.0, \"#0d0887\"], [0.1111111111111111, \"#46039f\"], [0.2222222222222222, \"#7201a8\"], [0.3333333333333333, \"#9c179e\"], [0.4444444444444444, \"#bd3786\"], [0.5555555555555556, \"#d8576b\"], [0.6666666666666666, \"#ed7953\"], [0.7777777777777778, \"#fb9f3a\"], [0.8888888888888888, \"#fdca26\"], [1.0, \"#f0f921\"]], \"type\": \"histogram2d\"}], \"histogram2dcontour\": [{\"colorbar\": {\"outlinewidth\": 0, \"ticks\": \"\"}, \"colorscale\": [[0.0, \"#0d0887\"], [0.1111111111111111, \"#46039f\"], [0.2222222222222222, \"#7201a8\"], [0.3333333333333333, \"#9c179e\"], [0.4444444444444444, \"#bd3786\"], [0.5555555555555556, \"#d8576b\"], [0.6666666666666666, \"#ed7953\"], [0.7777777777777778, \"#fb9f3a\"], [0.8888888888888888, \"#fdca26\"], [1.0, \"#f0f921\"]], \"type\": \"histogram2dcontour\"}], \"mesh3d\": [{\"colorbar\": {\"outlinewidth\": 0, \"ticks\": \"\"}, \"type\": \"mesh3d\"}], \"parcoords\": [{\"line\": {\"colorbar\": {\"outlinewidth\": 0, \"ticks\": \"\"}}, \"type\": \"parcoords\"}], \"pie\": [{\"automargin\": true, \"type\": \"pie\"}], \"scatter\": [{\"marker\": {\"colorbar\": {\"outlinewidth\": 0, \"ticks\": \"\"}}, \"type\": \"scatter\"}], \"scatter3d\": [{\"line\": {\"colorbar\": {\"outlinewidth\": 0, \"ticks\": \"\"}}, \"marker\": {\"colorbar\": {\"outlinewidth\": 0, \"ticks\": \"\"}}, \"type\": \"scatter3d\"}], \"scattercarpet\": [{\"marker\": {\"colorbar\": {\"outlinewidth\": 0, \"ticks\": \"\"}}, \"type\": \"scattercarpet\"}], \"scattergeo\": [{\"marker\": {\"colorbar\": {\"outlinewidth\": 0, \"ticks\": \"\"}}, \"type\": \"scattergeo\"}], \"scattergl\": [{\"marker\": {\"colorbar\": {\"outlinewidth\": 0, \"ticks\": \"\"}}, \"type\": \"scattergl\"}], \"scattermapbox\": [{\"marker\": {\"colorbar\": {\"outlinewidth\": 0, \"ticks\": \"\"}}, \"type\": \"scattermapbox\"}], \"scatterpolar\": [{\"marker\": {\"colorbar\": {\"outlinewidth\": 0, \"ticks\": \"\"}}, \"type\": \"scatterpolar\"}], \"scatterpolargl\": [{\"marker\": {\"colorbar\": {\"outlinewidth\": 0, \"ticks\": \"\"}}, \"type\": \"scatterpolargl\"}], \"scatterternary\": [{\"marker\": {\"colorbar\": {\"outlinewidth\": 0, \"ticks\": \"\"}}, \"type\": \"scatterternary\"}], \"surface\": [{\"colorbar\": {\"outlinewidth\": 0, \"ticks\": \"\"}, \"colorscale\": [[0.0, \"#0d0887\"], [0.1111111111111111, \"#46039f\"], [0.2222222222222222, \"#7201a8\"], [0.3333333333333333, \"#9c179e\"], [0.4444444444444444, \"#bd3786\"], [0.5555555555555556, \"#d8576b\"], [0.6666666666666666, \"#ed7953\"], [0.7777777777777778, \"#fb9f3a\"], [0.8888888888888888, \"#fdca26\"], [1.0, \"#f0f921\"]], \"type\": \"surface\"}], \"table\": [{\"cells\": {\"fill\": {\"color\": \"#EBF0F8\"}, \"line\": {\"color\": \"white\"}}, \"header\": {\"fill\": {\"color\": \"#C8D4E3\"}, \"line\": {\"color\": \"white\"}}, \"type\": \"table\"}]}, \"layout\": {\"annotationdefaults\": {\"arrowcolor\": \"#2a3f5f\", \"arrowhead\": 0, \"arrowwidth\": 1}, \"coloraxis\": {\"colorbar\": {\"outlinewidth\": 0, \"ticks\": \"\"}}, \"colorscale\": {\"diverging\": [[0, \"#8e0152\"], [0.1, \"#c51b7d\"], [0.2, \"#de77ae\"], [0.3, \"#f1b6da\"], [0.4, \"#fde0ef\"], [0.5, \"#f7f7f7\"], [0.6, \"#e6f5d0\"], [0.7, \"#b8e186\"], [0.8, \"#7fbc41\"], [0.9, \"#4d9221\"], [1, \"#276419\"]], \"sequential\": [[0.0, \"#0d0887\"], [0.1111111111111111, \"#46039f\"], [0.2222222222222222, \"#7201a8\"], [0.3333333333333333, \"#9c179e\"], [0.4444444444444444, \"#bd3786\"], [0.5555555555555556, \"#d8576b\"], [0.6666666666666666, \"#ed7953\"], [0.7777777777777778, \"#fb9f3a\"], [0.8888888888888888, \"#fdca26\"], [1.0, \"#f0f921\"]], \"sequentialminus\": [[0.0, \"#0d0887\"], [0.1111111111111111, \"#46039f\"], [0.2222222222222222, \"#7201a8\"], [0.3333333333333333, \"#9c179e\"], [0.4444444444444444, \"#bd3786\"], [0.5555555555555556, \"#d8576b\"], [0.6666666666666666, \"#ed7953\"], [0.7777777777777778, \"#fb9f3a\"], [0.8888888888888888, \"#fdca26\"], [1.0, \"#f0f921\"]]}, \"colorway\": [\"#636efa\", \"#EF553B\", \"#00cc96\", \"#ab63fa\", \"#FFA15A\", \"#19d3f3\", \"#FF6692\", \"#B6E880\", \"#FF97FF\", \"#FECB52\"], \"font\": {\"color\": \"#2a3f5f\"}, \"geo\": {\"bgcolor\": \"white\", \"lakecolor\": \"white\", \"landcolor\": \"#E5ECF6\", \"showlakes\": true, \"showland\": true, \"subunitcolor\": \"white\"}, \"hoverlabel\": {\"align\": \"left\"}, \"hovermode\": \"closest\", \"mapbox\": {\"style\": \"light\"}, \"paper_bgcolor\": \"white\", \"plot_bgcolor\": \"#E5ECF6\", \"polar\": {\"angularaxis\": {\"gridcolor\": \"white\", \"linecolor\": \"white\", \"ticks\": \"\"}, \"bgcolor\": \"#E5ECF6\", \"radialaxis\": {\"gridcolor\": \"white\", \"linecolor\": \"white\", \"ticks\": \"\"}}, \"scene\": {\"xaxis\": {\"backgroundcolor\": \"#E5ECF6\", \"gridcolor\": \"white\", \"gridwidth\": 2, \"linecolor\": \"white\", \"showbackground\": true, \"ticks\": \"\", \"zerolinecolor\": \"white\"}, \"yaxis\": {\"backgroundcolor\": \"#E5ECF6\", \"gridcolor\": \"white\", \"gridwidth\": 2, \"linecolor\": \"white\", \"showbackground\": true, \"ticks\": \"\", \"zerolinecolor\": \"white\"}, \"zaxis\": {\"backgroundcolor\": \"#E5ECF6\", \"gridcolor\": \"white\", \"gridwidth\": 2, \"linecolor\": \"white\", \"showbackground\": true, \"ticks\": \"\", \"zerolinecolor\": \"white\"}}, \"shapedefaults\": {\"line\": {\"color\": \"#2a3f5f\"}}, \"ternary\": {\"aaxis\": {\"gridcolor\": \"white\", \"linecolor\": \"white\", \"ticks\": \"\"}, \"baxis\": {\"gridcolor\": \"white\", \"linecolor\": \"white\", \"ticks\": \"\"}, \"bgcolor\": \"#E5ECF6\", \"caxis\": {\"gridcolor\": \"white\", \"linecolor\": \"white\", \"ticks\": \"\"}}, \"title\": {\"x\": 0.05}, \"xaxis\": {\"automargin\": true, \"gridcolor\": \"white\", \"linecolor\": \"white\", \"ticks\": \"\", \"title\": {\"standoff\": 15}, \"zerolinecolor\": \"white\", \"zerolinewidth\": 2}, \"yaxis\": {\"automargin\": true, \"gridcolor\": \"white\", \"linecolor\": \"white\", \"ticks\": \"\", \"title\": {\"standoff\": 15}, \"zerolinecolor\": \"white\", \"zerolinewidth\": 2}}}, \"title\": {\"text\": \"Babies with Low Birth Weight in 5 Smallest Counties Maryland, 2010-2017\"}, \"xaxis\": {\"anchor\": \"y\", \"domain\": [0.0, 1.0], \"title\": {\"text\": \"Year\"}}, \"yaxis\": {\"anchor\": \"x\", \"domain\": [0.0, 1.0], \"title\": {\"text\": \"Babies with Low Birth Weight\"}}},\n",
              "                        {\"responsive\": true}\n",
              "                    ).then(function(){\n",
              "                            \n",
              "var gd = document.getElementById('47dd4ce0-2e26-47fa-9138-0066333987c1');\n",
              "var x = new MutationObserver(function (mutations, observer) {{\n",
              "        var display = window.getComputedStyle(gd).display;\n",
              "        if (!display || display === 'none') {{\n",
              "            console.log([gd, 'removed!']);\n",
              "            Plotly.purge(gd);\n",
              "            observer.disconnect();\n",
              "        }}\n",
              "}});\n",
              "\n",
              "// Listen for the removal of the full notebook cells\n",
              "var notebookContainer = gd.closest('#notebook-container');\n",
              "if (notebookContainer) {{\n",
              "    x.observe(notebookContainer, {childList: true});\n",
              "}}\n",
              "\n",
              "// Listen for the clearing of the current output cell\n",
              "var outputEl = gd.closest('.output');\n",
              "if (outputEl) {{\n",
              "    x.observe(outputEl, {childList: true});\n",
              "}}\n",
              "\n",
              "                        })\n",
              "                };\n",
              "                \n",
              "            </script>\n",
              "        </div>\n",
              "</body>\n",
              "</html>"
            ]
          },
          "metadata": {
            "tags": []
          }
        }
      ]
    },
    {
      "cell_type": "code",
      "metadata": {
        "id": "6gBkDTEjxHvG"
      },
      "source": [
        ""
      ],
      "execution_count": 133,
      "outputs": []
    }
  ]
}